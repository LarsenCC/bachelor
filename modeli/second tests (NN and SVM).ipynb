{
 "cells": [
  {
   "cell_type": "code",
   "execution_count": 1,
   "metadata": {},
   "outputs": [],
   "source": [
    "import pandas as pd\n",
    "import numpy as np\n",
    "import seaborn as sns\n",
    "import matplotlib.pyplot as plt\n",
    "import math\n",
    "%matplotlib inline\n",
    "\n",
    "from sklearn.linear_model import LinearRegression, Lasso\n",
    "from sklearn.metrics import r2_score\n",
    "from sklearn.model_selection import train_test_split\n",
    "from sklearn.model_selection import cross_validate\n",
    "from sklearn.metrics import mean_squared_error\n",
    "\n",
    "from sklearn.ensemble import RandomForestRegressor\n",
    "\n",
    "from sklearn.model_selection import train_test_split\n",
    "\n",
    "from itertools import chain "
   ]
  },
  {
   "cell_type": "code",
   "execution_count": 2,
   "metadata": {},
   "outputs": [],
   "source": [
    "def test_cv(learner, X, y, k=5):\n",
    "    N = len(y)\n",
    "    first = N % k\n",
    "    first_n = int(N / k) + 1\n",
    "    n = int(N / k)\n",
    "\n",
    "    # print(N, first, first_n, n)\n",
    "\n",
    "    shape = X.shape\n",
    "    shuffle = np.zeros((shape[0], shape[1] + 1))\n",
    "    shuffle[:, :-1] = X\n",
    "    shuffle[:, -1] = y\n",
    "\n",
    "    # np.random.shuffle(shuffle)\n",
    "    per = np.random.permutation(N)\n",
    "\n",
    "    pred = np.zeros([N, 1])\n",
    "\n",
    "    for i in range(0, k):\n",
    "        if i < first:\n",
    "            from_i = i * first_n\n",
    "            to_i = (i + 1) * first_n\n",
    "            # print(i * first_n, (i + 1) * first_n)\n",
    "        else:\n",
    "            from_i = (first * first_n) + (i - first) * n\n",
    "            to_i = (first * first_n) + (i - first + 1) * n\n",
    "            # print((first * first_n) + (i - first) * n, (first * first_n) + (i - first + 1) * n)\n",
    "\n",
    "        Xi_train = np.delete(shuffle, np.s_[per[from_i:to_i]], 0)\n",
    "        Xi_test = shuffle[per[from_i:to_i]]\n",
    "\n",
    "        c = learner.fit(Xi_train[:, :-1], Xi_train[:, -1])\n",
    "        \n",
    "        pred[per[from_i:to_i]] = np.array(c.predict(Xi_test[:, :-1])).reshape(len(pred[per[from_i:to_i]]), 1)\n",
    "        RRMSE_max_hr = 1 - r2_score(y[per[from_i:to_i]], pred[per[from_i:to_i]])\n",
    "        print(RRMSE_max_hr)\n",
    "\n",
    "    return pred"
   ]
  },
  {
   "cell_type": "code",
   "execution_count": 3,
   "metadata": {},
   "outputs": [
    {
     "data": {
      "text/html": [
       "<div>\n",
       "<style scoped>\n",
       "    .dataframe tbody tr th:only-of-type {\n",
       "        vertical-align: middle;\n",
       "    }\n",
       "\n",
       "    .dataframe tbody tr th {\n",
       "        vertical-align: top;\n",
       "    }\n",
       "\n",
       "    .dataframe thead th {\n",
       "        text-align: right;\n",
       "    }\n",
       "</style>\n",
       "<table border=\"1\" class=\"dataframe\">\n",
       "  <thead>\n",
       "    <tr style=\"text-align: right;\">\n",
       "      <th></th>\n",
       "      <th>Unnamed: 0</th>\n",
       "      <th>Smoked</th>\n",
       "      <th>PhysInactive</th>\n",
       "      <th>Aritmia</th>\n",
       "      <th>waist</th>\n",
       "      <th>bodyfat</th>\n",
       "      <th>fvc</th>\n",
       "      <th>fev1</th>\n",
       "      <th>AnyMeds AN do AY</th>\n",
       "      <th>All_disease</th>\n",
       "      <th>...</th>\n",
       "      <th>CR_Code_4.0</th>\n",
       "      <th>CR_Code_5.0</th>\n",
       "      <th>ethnic_code_1.0</th>\n",
       "      <th>ethnic_code_2.0</th>\n",
       "      <th>ethnic_code_3.0</th>\n",
       "      <th>ethnic_code_4.0</th>\n",
       "      <th>ethnic_code_5.0</th>\n",
       "      <th>max_hr</th>\n",
       "      <th>vo2_l_min</th>\n",
       "      <th>vo2_ml_kg_min</th>\n",
       "    </tr>\n",
       "  </thead>\n",
       "  <tbody>\n",
       "    <tr>\n",
       "      <th>0</th>\n",
       "      <td>0</td>\n",
       "      <td>0.0</td>\n",
       "      <td>1.0</td>\n",
       "      <td>0.0</td>\n",
       "      <td>0.333921</td>\n",
       "      <td>0.150895</td>\n",
       "      <td>0.452555</td>\n",
       "      <td>0.320819</td>\n",
       "      <td>0.0</td>\n",
       "      <td>0.0</td>\n",
       "      <td>...</td>\n",
       "      <td>0.0</td>\n",
       "      <td>0.0</td>\n",
       "      <td>0.0</td>\n",
       "      <td>0.0</td>\n",
       "      <td>0.0</td>\n",
       "      <td>0.0</td>\n",
       "      <td>0.0</td>\n",
       "      <td>166.0</td>\n",
       "      <td>5.15300</td>\n",
       "      <td>47.8</td>\n",
       "    </tr>\n",
       "    <tr>\n",
       "      <th>1</th>\n",
       "      <td>1</td>\n",
       "      <td>0.0</td>\n",
       "      <td>1.0</td>\n",
       "      <td>0.0</td>\n",
       "      <td>0.385551</td>\n",
       "      <td>0.300159</td>\n",
       "      <td>0.416058</td>\n",
       "      <td>0.462457</td>\n",
       "      <td>0.0</td>\n",
       "      <td>1.0</td>\n",
       "      <td>...</td>\n",
       "      <td>0.0</td>\n",
       "      <td>0.0</td>\n",
       "      <td>0.0</td>\n",
       "      <td>0.0</td>\n",
       "      <td>0.0</td>\n",
       "      <td>1.0</td>\n",
       "      <td>0.0</td>\n",
       "      <td>142.0</td>\n",
       "      <td>2.66304</td>\n",
       "      <td>45.6</td>\n",
       "    </tr>\n",
       "    <tr>\n",
       "      <th>2</th>\n",
       "      <td>2</td>\n",
       "      <td>0.0</td>\n",
       "      <td>0.0</td>\n",
       "      <td>0.0</td>\n",
       "      <td>0.385551</td>\n",
       "      <td>0.537049</td>\n",
       "      <td>0.416058</td>\n",
       "      <td>0.462457</td>\n",
       "      <td>1.0</td>\n",
       "      <td>0.0</td>\n",
       "      <td>...</td>\n",
       "      <td>0.0</td>\n",
       "      <td>0.0</td>\n",
       "      <td>0.0</td>\n",
       "      <td>0.0</td>\n",
       "      <td>0.0</td>\n",
       "      <td>1.0</td>\n",
       "      <td>0.0</td>\n",
       "      <td>160.0</td>\n",
       "      <td>2.64000</td>\n",
       "      <td>29.0</td>\n",
       "    </tr>\n",
       "    <tr>\n",
       "      <th>3</th>\n",
       "      <td>4</td>\n",
       "      <td>1.0</td>\n",
       "      <td>1.0</td>\n",
       "      <td>0.0</td>\n",
       "      <td>0.409780</td>\n",
       "      <td>0.259484</td>\n",
       "      <td>0.416058</td>\n",
       "      <td>0.462457</td>\n",
       "      <td>1.0</td>\n",
       "      <td>1.0</td>\n",
       "      <td>...</td>\n",
       "      <td>0.0</td>\n",
       "      <td>0.0</td>\n",
       "      <td>0.0</td>\n",
       "      <td>0.0</td>\n",
       "      <td>0.0</td>\n",
       "      <td>0.0</td>\n",
       "      <td>0.0</td>\n",
       "      <td>183.0</td>\n",
       "      <td>1.98000</td>\n",
       "      <td>22.9</td>\n",
       "    </tr>\n",
       "    <tr>\n",
       "      <th>4</th>\n",
       "      <td>5</td>\n",
       "      <td>0.0</td>\n",
       "      <td>0.0</td>\n",
       "      <td>0.0</td>\n",
       "      <td>0.385551</td>\n",
       "      <td>0.300159</td>\n",
       "      <td>0.108029</td>\n",
       "      <td>0.121160</td>\n",
       "      <td>0.0</td>\n",
       "      <td>0.0</td>\n",
       "      <td>...</td>\n",
       "      <td>0.0</td>\n",
       "      <td>0.0</td>\n",
       "      <td>0.0</td>\n",
       "      <td>0.0</td>\n",
       "      <td>0.0</td>\n",
       "      <td>0.0</td>\n",
       "      <td>0.0</td>\n",
       "      <td>100.0</td>\n",
       "      <td>1.96800</td>\n",
       "      <td>27.8</td>\n",
       "    </tr>\n",
       "  </tbody>\n",
       "</table>\n",
       "<p>5 rows × 31 columns</p>\n",
       "</div>"
      ],
      "text/plain": [
       "   Unnamed: 0  Smoked  PhysInactive  Aritmia     waist   bodyfat       fvc  \\\n",
       "0           0     0.0           1.0      0.0  0.333921  0.150895  0.452555   \n",
       "1           1     0.0           1.0      0.0  0.385551  0.300159  0.416058   \n",
       "2           2     0.0           0.0      0.0  0.385551  0.537049  0.416058   \n",
       "3           4     1.0           1.0      0.0  0.409780  0.259484  0.416058   \n",
       "4           5     0.0           0.0      0.0  0.385551  0.300159  0.108029   \n",
       "\n",
       "       fev1  AnyMeds AN do AY   All_disease  ...  CR_Code_4.0  CR_Code_5.0  \\\n",
       "0  0.320819                0.0          0.0  ...          0.0          0.0   \n",
       "1  0.462457                0.0          1.0  ...          0.0          0.0   \n",
       "2  0.462457                1.0          0.0  ...          0.0          0.0   \n",
       "3  0.462457                1.0          1.0  ...          0.0          0.0   \n",
       "4  0.121160                0.0          0.0  ...          0.0          0.0   \n",
       "\n",
       "   ethnic_code_1.0  ethnic_code_2.0  ethnic_code_3.0  ethnic_code_4.0  \\\n",
       "0              0.0              0.0              0.0              0.0   \n",
       "1              0.0              0.0              0.0              1.0   \n",
       "2              0.0              0.0              0.0              1.0   \n",
       "3              0.0              0.0              0.0              0.0   \n",
       "4              0.0              0.0              0.0              0.0   \n",
       "\n",
       "   ethnic_code_5.0  max_hr  vo2_l_min  vo2_ml_kg_min  \n",
       "0              0.0   166.0    5.15300           47.8  \n",
       "1              0.0   142.0    2.66304           45.6  \n",
       "2              0.0   160.0    2.64000           29.0  \n",
       "3              0.0   183.0    1.98000           22.9  \n",
       "4              0.0   100.0    1.96800           27.8  \n",
       "\n",
       "[5 rows x 31 columns]"
      ]
     },
     "execution_count": 3,
     "metadata": {},
     "output_type": "execute_result"
    }
   ],
   "source": [
    "df = pd.read_csv(\"data/basic2.csv\")\n",
    "df.head()"
   ]
  },
  {
   "cell_type": "markdown",
   "metadata": {},
   "source": [
    "# HRmax"
   ]
  },
  {
   "cell_type": "code",
   "execution_count": 4,
   "metadata": {},
   "outputs": [],
   "source": [
    "X = df.drop(['max_hr', 'vo2_l_min', 'vo2_ml_kg_min', 'Unnamed: 0'], axis=1)\n",
    "y = df['max_hr']\n",
    "\n",
    "X_train, X_test, y_train, y_test = train_test_split(X, np.ravel(y), test_size=0.25, random_state=69)"
   ]
  },
  {
   "cell_type": "markdown",
   "metadata": {},
   "source": [
    "SVM"
   ]
  },
  {
   "cell_type": "code",
   "execution_count": 7,
   "metadata": {},
   "outputs": [],
   "source": [
    "from sklearn.svm import SVR\n",
    "from sklearn.model_selection import GridSearchCV"
   ]
  },
  {
   "cell_type": "code",
   "execution_count": 8,
   "metadata": {},
   "outputs": [],
   "source": [
    "param_grid = {'C': [0.1,1, 10, 100, 1000], 'gamma': [1,0.1,0.01,0.001,0.0001], 'kernel': ['rbf']} "
   ]
  },
  {
   "cell_type": "code",
   "execution_count": 9,
   "metadata": {},
   "outputs": [],
   "source": [
    "grid = GridSearchCV(SVR(),param_grid,refit=True,verbose=3)"
   ]
  },
  {
   "cell_type": "code",
   "execution_count": 10,
   "metadata": {},
   "outputs": [
    {
     "name": "stdout",
     "output_type": "stream",
     "text": [
      "Fitting 5 folds for each of 25 candidates, totalling 125 fits\n",
      "[CV] C=0.1, gamma=1, kernel=rbf ......................................\n"
     ]
    },
    {
     "name": "stderr",
     "output_type": "stream",
     "text": [
      "[Parallel(n_jobs=1)]: Using backend SequentialBackend with 1 concurrent workers.\n"
     ]
    },
    {
     "ename": "KeyboardInterrupt",
     "evalue": "",
     "output_type": "error",
     "traceback": [
      "\u001b[1;31m---------------------------------------------------------------------------\u001b[0m",
      "\u001b[1;31mKeyboardInterrupt\u001b[0m                         Traceback (most recent call last)",
      "\u001b[1;32m<ipython-input-10-f4950cedd225>\u001b[0m in \u001b[0;36m<module>\u001b[1;34m\u001b[0m\n\u001b[0;32m      1\u001b[0m \u001b[1;31m# May take a while!\u001b[0m\u001b[1;33m\u001b[0m\u001b[1;33m\u001b[0m\u001b[1;33m\u001b[0m\u001b[0m\n\u001b[1;32m----> 2\u001b[1;33m \u001b[0mgrid\u001b[0m\u001b[1;33m.\u001b[0m\u001b[0mfit\u001b[0m\u001b[1;33m(\u001b[0m\u001b[0mX_train\u001b[0m\u001b[1;33m,\u001b[0m\u001b[0my_train\u001b[0m\u001b[1;33m)\u001b[0m\u001b[1;33m\u001b[0m\u001b[1;33m\u001b[0m\u001b[0m\n\u001b[0m\u001b[0;32m      3\u001b[0m \u001b[0mgrid\u001b[0m\u001b[1;33m.\u001b[0m\u001b[0mbest_params_\u001b[0m\u001b[1;33m\u001b[0m\u001b[1;33m\u001b[0m\u001b[0m\n",
      "\u001b[1;32m~\\anaconda3\\lib\\site-packages\\sklearn\\utils\\validation.py\u001b[0m in \u001b[0;36minner_f\u001b[1;34m(*args, **kwargs)\u001b[0m\n\u001b[0;32m     71\u001b[0m                           FutureWarning)\n\u001b[0;32m     72\u001b[0m         \u001b[0mkwargs\u001b[0m\u001b[1;33m.\u001b[0m\u001b[0mupdate\u001b[0m\u001b[1;33m(\u001b[0m\u001b[1;33m{\u001b[0m\u001b[0mk\u001b[0m\u001b[1;33m:\u001b[0m \u001b[0marg\u001b[0m \u001b[1;32mfor\u001b[0m \u001b[0mk\u001b[0m\u001b[1;33m,\u001b[0m \u001b[0marg\u001b[0m \u001b[1;32min\u001b[0m \u001b[0mzip\u001b[0m\u001b[1;33m(\u001b[0m\u001b[0msig\u001b[0m\u001b[1;33m.\u001b[0m\u001b[0mparameters\u001b[0m\u001b[1;33m,\u001b[0m \u001b[0margs\u001b[0m\u001b[1;33m)\u001b[0m\u001b[1;33m}\u001b[0m\u001b[1;33m)\u001b[0m\u001b[1;33m\u001b[0m\u001b[1;33m\u001b[0m\u001b[0m\n\u001b[1;32m---> 73\u001b[1;33m         \u001b[1;32mreturn\u001b[0m \u001b[0mf\u001b[0m\u001b[1;33m(\u001b[0m\u001b[1;33m**\u001b[0m\u001b[0mkwargs\u001b[0m\u001b[1;33m)\u001b[0m\u001b[1;33m\u001b[0m\u001b[1;33m\u001b[0m\u001b[0m\n\u001b[0m\u001b[0;32m     74\u001b[0m     \u001b[1;32mreturn\u001b[0m \u001b[0minner_f\u001b[0m\u001b[1;33m\u001b[0m\u001b[1;33m\u001b[0m\u001b[0m\n\u001b[0;32m     75\u001b[0m \u001b[1;33m\u001b[0m\u001b[0m\n",
      "\u001b[1;32m~\\anaconda3\\lib\\site-packages\\sklearn\\model_selection\\_search.py\u001b[0m in \u001b[0;36mfit\u001b[1;34m(self, X, y, groups, **fit_params)\u001b[0m\n\u001b[0;32m    734\u001b[0m                 \u001b[1;32mreturn\u001b[0m \u001b[0mresults\u001b[0m\u001b[1;33m\u001b[0m\u001b[1;33m\u001b[0m\u001b[0m\n\u001b[0;32m    735\u001b[0m \u001b[1;33m\u001b[0m\u001b[0m\n\u001b[1;32m--> 736\u001b[1;33m             \u001b[0mself\u001b[0m\u001b[1;33m.\u001b[0m\u001b[0m_run_search\u001b[0m\u001b[1;33m(\u001b[0m\u001b[0mevaluate_candidates\u001b[0m\u001b[1;33m)\u001b[0m\u001b[1;33m\u001b[0m\u001b[1;33m\u001b[0m\u001b[0m\n\u001b[0m\u001b[0;32m    737\u001b[0m \u001b[1;33m\u001b[0m\u001b[0m\n\u001b[0;32m    738\u001b[0m         \u001b[1;31m# For multi-metric evaluation, store the best_index_, best_params_ and\u001b[0m\u001b[1;33m\u001b[0m\u001b[1;33m\u001b[0m\u001b[1;33m\u001b[0m\u001b[0m\n",
      "\u001b[1;32m~\\anaconda3\\lib\\site-packages\\sklearn\\model_selection\\_search.py\u001b[0m in \u001b[0;36m_run_search\u001b[1;34m(self, evaluate_candidates)\u001b[0m\n\u001b[0;32m   1186\u001b[0m     \u001b[1;32mdef\u001b[0m \u001b[0m_run_search\u001b[0m\u001b[1;33m(\u001b[0m\u001b[0mself\u001b[0m\u001b[1;33m,\u001b[0m \u001b[0mevaluate_candidates\u001b[0m\u001b[1;33m)\u001b[0m\u001b[1;33m:\u001b[0m\u001b[1;33m\u001b[0m\u001b[1;33m\u001b[0m\u001b[0m\n\u001b[0;32m   1187\u001b[0m         \u001b[1;34m\"\"\"Search all candidates in param_grid\"\"\"\u001b[0m\u001b[1;33m\u001b[0m\u001b[1;33m\u001b[0m\u001b[0m\n\u001b[1;32m-> 1188\u001b[1;33m         \u001b[0mevaluate_candidates\u001b[0m\u001b[1;33m(\u001b[0m\u001b[0mParameterGrid\u001b[0m\u001b[1;33m(\u001b[0m\u001b[0mself\u001b[0m\u001b[1;33m.\u001b[0m\u001b[0mparam_grid\u001b[0m\u001b[1;33m)\u001b[0m\u001b[1;33m)\u001b[0m\u001b[1;33m\u001b[0m\u001b[1;33m\u001b[0m\u001b[0m\n\u001b[0m\u001b[0;32m   1189\u001b[0m \u001b[1;33m\u001b[0m\u001b[0m\n\u001b[0;32m   1190\u001b[0m \u001b[1;33m\u001b[0m\u001b[0m\n",
      "\u001b[1;32m~\\anaconda3\\lib\\site-packages\\sklearn\\model_selection\\_search.py\u001b[0m in \u001b[0;36mevaluate_candidates\u001b[1;34m(candidate_params)\u001b[0m\n\u001b[0;32m    706\u001b[0m                               n_splits, n_candidates, n_candidates * n_splits))\n\u001b[0;32m    707\u001b[0m \u001b[1;33m\u001b[0m\u001b[0m\n\u001b[1;32m--> 708\u001b[1;33m                 out = parallel(delayed(_fit_and_score)(clone(base_estimator),\n\u001b[0m\u001b[0;32m    709\u001b[0m                                                        \u001b[0mX\u001b[0m\u001b[1;33m,\u001b[0m \u001b[0my\u001b[0m\u001b[1;33m,\u001b[0m\u001b[1;33m\u001b[0m\u001b[1;33m\u001b[0m\u001b[0m\n\u001b[0;32m    710\u001b[0m                                                        \u001b[0mtrain\u001b[0m\u001b[1;33m=\u001b[0m\u001b[0mtrain\u001b[0m\u001b[1;33m,\u001b[0m \u001b[0mtest\u001b[0m\u001b[1;33m=\u001b[0m\u001b[0mtest\u001b[0m\u001b[1;33m,\u001b[0m\u001b[1;33m\u001b[0m\u001b[1;33m\u001b[0m\u001b[0m\n",
      "\u001b[1;32m~\\anaconda3\\lib\\site-packages\\joblib\\parallel.py\u001b[0m in \u001b[0;36m__call__\u001b[1;34m(self, iterable)\u001b[0m\n\u001b[0;32m   1027\u001b[0m             \u001b[1;31m# remaining jobs.\u001b[0m\u001b[1;33m\u001b[0m\u001b[1;33m\u001b[0m\u001b[1;33m\u001b[0m\u001b[0m\n\u001b[0;32m   1028\u001b[0m             \u001b[0mself\u001b[0m\u001b[1;33m.\u001b[0m\u001b[0m_iterating\u001b[0m \u001b[1;33m=\u001b[0m \u001b[1;32mFalse\u001b[0m\u001b[1;33m\u001b[0m\u001b[1;33m\u001b[0m\u001b[0m\n\u001b[1;32m-> 1029\u001b[1;33m             \u001b[1;32mif\u001b[0m \u001b[0mself\u001b[0m\u001b[1;33m.\u001b[0m\u001b[0mdispatch_one_batch\u001b[0m\u001b[1;33m(\u001b[0m\u001b[0miterator\u001b[0m\u001b[1;33m)\u001b[0m\u001b[1;33m:\u001b[0m\u001b[1;33m\u001b[0m\u001b[1;33m\u001b[0m\u001b[0m\n\u001b[0m\u001b[0;32m   1030\u001b[0m                 \u001b[0mself\u001b[0m\u001b[1;33m.\u001b[0m\u001b[0m_iterating\u001b[0m \u001b[1;33m=\u001b[0m \u001b[0mself\u001b[0m\u001b[1;33m.\u001b[0m\u001b[0m_original_iterator\u001b[0m \u001b[1;32mis\u001b[0m \u001b[1;32mnot\u001b[0m \u001b[1;32mNone\u001b[0m\u001b[1;33m\u001b[0m\u001b[1;33m\u001b[0m\u001b[0m\n\u001b[0;32m   1031\u001b[0m \u001b[1;33m\u001b[0m\u001b[0m\n",
      "\u001b[1;32m~\\anaconda3\\lib\\site-packages\\joblib\\parallel.py\u001b[0m in \u001b[0;36mdispatch_one_batch\u001b[1;34m(self, iterator)\u001b[0m\n\u001b[0;32m    845\u001b[0m                 \u001b[1;32mreturn\u001b[0m \u001b[1;32mFalse\u001b[0m\u001b[1;33m\u001b[0m\u001b[1;33m\u001b[0m\u001b[0m\n\u001b[0;32m    846\u001b[0m             \u001b[1;32melse\u001b[0m\u001b[1;33m:\u001b[0m\u001b[1;33m\u001b[0m\u001b[1;33m\u001b[0m\u001b[0m\n\u001b[1;32m--> 847\u001b[1;33m                 \u001b[0mself\u001b[0m\u001b[1;33m.\u001b[0m\u001b[0m_dispatch\u001b[0m\u001b[1;33m(\u001b[0m\u001b[0mtasks\u001b[0m\u001b[1;33m)\u001b[0m\u001b[1;33m\u001b[0m\u001b[1;33m\u001b[0m\u001b[0m\n\u001b[0m\u001b[0;32m    848\u001b[0m                 \u001b[1;32mreturn\u001b[0m \u001b[1;32mTrue\u001b[0m\u001b[1;33m\u001b[0m\u001b[1;33m\u001b[0m\u001b[0m\n\u001b[0;32m    849\u001b[0m \u001b[1;33m\u001b[0m\u001b[0m\n",
      "\u001b[1;32m~\\anaconda3\\lib\\site-packages\\joblib\\parallel.py\u001b[0m in \u001b[0;36m_dispatch\u001b[1;34m(self, batch)\u001b[0m\n\u001b[0;32m    763\u001b[0m         \u001b[1;32mwith\u001b[0m \u001b[0mself\u001b[0m\u001b[1;33m.\u001b[0m\u001b[0m_lock\u001b[0m\u001b[1;33m:\u001b[0m\u001b[1;33m\u001b[0m\u001b[1;33m\u001b[0m\u001b[0m\n\u001b[0;32m    764\u001b[0m             \u001b[0mjob_idx\u001b[0m \u001b[1;33m=\u001b[0m \u001b[0mlen\u001b[0m\u001b[1;33m(\u001b[0m\u001b[0mself\u001b[0m\u001b[1;33m.\u001b[0m\u001b[0m_jobs\u001b[0m\u001b[1;33m)\u001b[0m\u001b[1;33m\u001b[0m\u001b[1;33m\u001b[0m\u001b[0m\n\u001b[1;32m--> 765\u001b[1;33m             \u001b[0mjob\u001b[0m \u001b[1;33m=\u001b[0m \u001b[0mself\u001b[0m\u001b[1;33m.\u001b[0m\u001b[0m_backend\u001b[0m\u001b[1;33m.\u001b[0m\u001b[0mapply_async\u001b[0m\u001b[1;33m(\u001b[0m\u001b[0mbatch\u001b[0m\u001b[1;33m,\u001b[0m \u001b[0mcallback\u001b[0m\u001b[1;33m=\u001b[0m\u001b[0mcb\u001b[0m\u001b[1;33m)\u001b[0m\u001b[1;33m\u001b[0m\u001b[1;33m\u001b[0m\u001b[0m\n\u001b[0m\u001b[0;32m    766\u001b[0m             \u001b[1;31m# A job can complete so quickly than its callback is\u001b[0m\u001b[1;33m\u001b[0m\u001b[1;33m\u001b[0m\u001b[1;33m\u001b[0m\u001b[0m\n\u001b[0;32m    767\u001b[0m             \u001b[1;31m# called before we get here, causing self._jobs to\u001b[0m\u001b[1;33m\u001b[0m\u001b[1;33m\u001b[0m\u001b[1;33m\u001b[0m\u001b[0m\n",
      "\u001b[1;32m~\\anaconda3\\lib\\site-packages\\joblib\\_parallel_backends.py\u001b[0m in \u001b[0;36mapply_async\u001b[1;34m(self, func, callback)\u001b[0m\n\u001b[0;32m    206\u001b[0m     \u001b[1;32mdef\u001b[0m \u001b[0mapply_async\u001b[0m\u001b[1;33m(\u001b[0m\u001b[0mself\u001b[0m\u001b[1;33m,\u001b[0m \u001b[0mfunc\u001b[0m\u001b[1;33m,\u001b[0m \u001b[0mcallback\u001b[0m\u001b[1;33m=\u001b[0m\u001b[1;32mNone\u001b[0m\u001b[1;33m)\u001b[0m\u001b[1;33m:\u001b[0m\u001b[1;33m\u001b[0m\u001b[1;33m\u001b[0m\u001b[0m\n\u001b[0;32m    207\u001b[0m         \u001b[1;34m\"\"\"Schedule a func to be run\"\"\"\u001b[0m\u001b[1;33m\u001b[0m\u001b[1;33m\u001b[0m\u001b[0m\n\u001b[1;32m--> 208\u001b[1;33m         \u001b[0mresult\u001b[0m \u001b[1;33m=\u001b[0m \u001b[0mImmediateResult\u001b[0m\u001b[1;33m(\u001b[0m\u001b[0mfunc\u001b[0m\u001b[1;33m)\u001b[0m\u001b[1;33m\u001b[0m\u001b[1;33m\u001b[0m\u001b[0m\n\u001b[0m\u001b[0;32m    209\u001b[0m         \u001b[1;32mif\u001b[0m \u001b[0mcallback\u001b[0m\u001b[1;33m:\u001b[0m\u001b[1;33m\u001b[0m\u001b[1;33m\u001b[0m\u001b[0m\n\u001b[0;32m    210\u001b[0m             \u001b[0mcallback\u001b[0m\u001b[1;33m(\u001b[0m\u001b[0mresult\u001b[0m\u001b[1;33m)\u001b[0m\u001b[1;33m\u001b[0m\u001b[1;33m\u001b[0m\u001b[0m\n",
      "\u001b[1;32m~\\anaconda3\\lib\\site-packages\\joblib\\_parallel_backends.py\u001b[0m in \u001b[0;36m__init__\u001b[1;34m(self, batch)\u001b[0m\n\u001b[0;32m    570\u001b[0m         \u001b[1;31m# Don't delay the application, to avoid keeping the input\u001b[0m\u001b[1;33m\u001b[0m\u001b[1;33m\u001b[0m\u001b[1;33m\u001b[0m\u001b[0m\n\u001b[0;32m    571\u001b[0m         \u001b[1;31m# arguments in memory\u001b[0m\u001b[1;33m\u001b[0m\u001b[1;33m\u001b[0m\u001b[1;33m\u001b[0m\u001b[0m\n\u001b[1;32m--> 572\u001b[1;33m         \u001b[0mself\u001b[0m\u001b[1;33m.\u001b[0m\u001b[0mresults\u001b[0m \u001b[1;33m=\u001b[0m \u001b[0mbatch\u001b[0m\u001b[1;33m(\u001b[0m\u001b[1;33m)\u001b[0m\u001b[1;33m\u001b[0m\u001b[1;33m\u001b[0m\u001b[0m\n\u001b[0m\u001b[0;32m    573\u001b[0m \u001b[1;33m\u001b[0m\u001b[0m\n\u001b[0;32m    574\u001b[0m     \u001b[1;32mdef\u001b[0m \u001b[0mget\u001b[0m\u001b[1;33m(\u001b[0m\u001b[0mself\u001b[0m\u001b[1;33m)\u001b[0m\u001b[1;33m:\u001b[0m\u001b[1;33m\u001b[0m\u001b[1;33m\u001b[0m\u001b[0m\n",
      "\u001b[1;32m~\\anaconda3\\lib\\site-packages\\joblib\\parallel.py\u001b[0m in \u001b[0;36m__call__\u001b[1;34m(self)\u001b[0m\n\u001b[0;32m    250\u001b[0m         \u001b[1;31m# change the default number of processes to -1\u001b[0m\u001b[1;33m\u001b[0m\u001b[1;33m\u001b[0m\u001b[1;33m\u001b[0m\u001b[0m\n\u001b[0;32m    251\u001b[0m         \u001b[1;32mwith\u001b[0m \u001b[0mparallel_backend\u001b[0m\u001b[1;33m(\u001b[0m\u001b[0mself\u001b[0m\u001b[1;33m.\u001b[0m\u001b[0m_backend\u001b[0m\u001b[1;33m,\u001b[0m \u001b[0mn_jobs\u001b[0m\u001b[1;33m=\u001b[0m\u001b[0mself\u001b[0m\u001b[1;33m.\u001b[0m\u001b[0m_n_jobs\u001b[0m\u001b[1;33m)\u001b[0m\u001b[1;33m:\u001b[0m\u001b[1;33m\u001b[0m\u001b[1;33m\u001b[0m\u001b[0m\n\u001b[1;32m--> 252\u001b[1;33m             return [func(*args, **kwargs)\n\u001b[0m\u001b[0;32m    253\u001b[0m                     for func, args, kwargs in self.items]\n\u001b[0;32m    254\u001b[0m \u001b[1;33m\u001b[0m\u001b[0m\n",
      "\u001b[1;32m~\\anaconda3\\lib\\site-packages\\joblib\\parallel.py\u001b[0m in \u001b[0;36m<listcomp>\u001b[1;34m(.0)\u001b[0m\n\u001b[0;32m    250\u001b[0m         \u001b[1;31m# change the default number of processes to -1\u001b[0m\u001b[1;33m\u001b[0m\u001b[1;33m\u001b[0m\u001b[1;33m\u001b[0m\u001b[0m\n\u001b[0;32m    251\u001b[0m         \u001b[1;32mwith\u001b[0m \u001b[0mparallel_backend\u001b[0m\u001b[1;33m(\u001b[0m\u001b[0mself\u001b[0m\u001b[1;33m.\u001b[0m\u001b[0m_backend\u001b[0m\u001b[1;33m,\u001b[0m \u001b[0mn_jobs\u001b[0m\u001b[1;33m=\u001b[0m\u001b[0mself\u001b[0m\u001b[1;33m.\u001b[0m\u001b[0m_n_jobs\u001b[0m\u001b[1;33m)\u001b[0m\u001b[1;33m:\u001b[0m\u001b[1;33m\u001b[0m\u001b[1;33m\u001b[0m\u001b[0m\n\u001b[1;32m--> 252\u001b[1;33m             return [func(*args, **kwargs)\n\u001b[0m\u001b[0;32m    253\u001b[0m                     for func, args, kwargs in self.items]\n\u001b[0;32m    254\u001b[0m \u001b[1;33m\u001b[0m\u001b[0m\n",
      "\u001b[1;32m~\\anaconda3\\lib\\site-packages\\sklearn\\model_selection\\_validation.py\u001b[0m in \u001b[0;36m_fit_and_score\u001b[1;34m(estimator, X, y, scorer, train, test, verbose, parameters, fit_params, return_train_score, return_parameters, return_n_test_samples, return_times, return_estimator, error_score)\u001b[0m\n\u001b[0;32m    529\u001b[0m             \u001b[0mestimator\u001b[0m\u001b[1;33m.\u001b[0m\u001b[0mfit\u001b[0m\u001b[1;33m(\u001b[0m\u001b[0mX_train\u001b[0m\u001b[1;33m,\u001b[0m \u001b[1;33m**\u001b[0m\u001b[0mfit_params\u001b[0m\u001b[1;33m)\u001b[0m\u001b[1;33m\u001b[0m\u001b[1;33m\u001b[0m\u001b[0m\n\u001b[0;32m    530\u001b[0m         \u001b[1;32melse\u001b[0m\u001b[1;33m:\u001b[0m\u001b[1;33m\u001b[0m\u001b[1;33m\u001b[0m\u001b[0m\n\u001b[1;32m--> 531\u001b[1;33m             \u001b[0mestimator\u001b[0m\u001b[1;33m.\u001b[0m\u001b[0mfit\u001b[0m\u001b[1;33m(\u001b[0m\u001b[0mX_train\u001b[0m\u001b[1;33m,\u001b[0m \u001b[0my_train\u001b[0m\u001b[1;33m,\u001b[0m \u001b[1;33m**\u001b[0m\u001b[0mfit_params\u001b[0m\u001b[1;33m)\u001b[0m\u001b[1;33m\u001b[0m\u001b[1;33m\u001b[0m\u001b[0m\n\u001b[0m\u001b[0;32m    532\u001b[0m \u001b[1;33m\u001b[0m\u001b[0m\n\u001b[0;32m    533\u001b[0m     \u001b[1;32mexcept\u001b[0m \u001b[0mException\u001b[0m \u001b[1;32mas\u001b[0m \u001b[0me\u001b[0m\u001b[1;33m:\u001b[0m\u001b[1;33m\u001b[0m\u001b[1;33m\u001b[0m\u001b[0m\n",
      "\u001b[1;32m~\\anaconda3\\lib\\site-packages\\sklearn\\svm\\_base.py\u001b[0m in \u001b[0;36mfit\u001b[1;34m(self, X, y, sample_weight)\u001b[0m\n\u001b[0;32m    215\u001b[0m \u001b[1;33m\u001b[0m\u001b[0m\n\u001b[0;32m    216\u001b[0m         \u001b[0mseed\u001b[0m \u001b[1;33m=\u001b[0m \u001b[0mrnd\u001b[0m\u001b[1;33m.\u001b[0m\u001b[0mrandint\u001b[0m\u001b[1;33m(\u001b[0m\u001b[0mnp\u001b[0m\u001b[1;33m.\u001b[0m\u001b[0miinfo\u001b[0m\u001b[1;33m(\u001b[0m\u001b[1;34m'i'\u001b[0m\u001b[1;33m)\u001b[0m\u001b[1;33m.\u001b[0m\u001b[0mmax\u001b[0m\u001b[1;33m)\u001b[0m\u001b[1;33m\u001b[0m\u001b[1;33m\u001b[0m\u001b[0m\n\u001b[1;32m--> 217\u001b[1;33m         \u001b[0mfit\u001b[0m\u001b[1;33m(\u001b[0m\u001b[0mX\u001b[0m\u001b[1;33m,\u001b[0m \u001b[0my\u001b[0m\u001b[1;33m,\u001b[0m \u001b[0msample_weight\u001b[0m\u001b[1;33m,\u001b[0m \u001b[0msolver_type\u001b[0m\u001b[1;33m,\u001b[0m \u001b[0mkernel\u001b[0m\u001b[1;33m,\u001b[0m \u001b[0mrandom_seed\u001b[0m\u001b[1;33m=\u001b[0m\u001b[0mseed\u001b[0m\u001b[1;33m)\u001b[0m\u001b[1;33m\u001b[0m\u001b[1;33m\u001b[0m\u001b[0m\n\u001b[0m\u001b[0;32m    218\u001b[0m         \u001b[1;31m# see comment on the other call to np.iinfo in this file\u001b[0m\u001b[1;33m\u001b[0m\u001b[1;33m\u001b[0m\u001b[1;33m\u001b[0m\u001b[0m\n\u001b[0;32m    219\u001b[0m \u001b[1;33m\u001b[0m\u001b[0m\n",
      "\u001b[1;32m~\\anaconda3\\lib\\site-packages\\sklearn\\svm\\_base.py\u001b[0m in \u001b[0;36m_dense_fit\u001b[1;34m(self, X, y, sample_weight, solver_type, kernel, random_seed)\u001b[0m\n\u001b[0;32m    266\u001b[0m         \u001b[0mself\u001b[0m\u001b[1;33m.\u001b[0m\u001b[0msupport_\u001b[0m\u001b[1;33m,\u001b[0m \u001b[0mself\u001b[0m\u001b[1;33m.\u001b[0m\u001b[0msupport_vectors_\u001b[0m\u001b[1;33m,\u001b[0m \u001b[0mself\u001b[0m\u001b[1;33m.\u001b[0m\u001b[0m_n_support\u001b[0m\u001b[1;33m,\u001b[0m\u001b[0;31m \u001b[0m\u001b[0;31m\\\u001b[0m\u001b[1;33m\u001b[0m\u001b[1;33m\u001b[0m\u001b[0m\n\u001b[0;32m    267\u001b[0m             \u001b[0mself\u001b[0m\u001b[1;33m.\u001b[0m\u001b[0mdual_coef_\u001b[0m\u001b[1;33m,\u001b[0m \u001b[0mself\u001b[0m\u001b[1;33m.\u001b[0m\u001b[0mintercept_\u001b[0m\u001b[1;33m,\u001b[0m \u001b[0mself\u001b[0m\u001b[1;33m.\u001b[0m\u001b[0m_probA\u001b[0m\u001b[1;33m,\u001b[0m\u001b[0;31m \u001b[0m\u001b[0;31m\\\u001b[0m\u001b[1;33m\u001b[0m\u001b[1;33m\u001b[0m\u001b[0m\n\u001b[1;32m--> 268\u001b[1;33m             self._probB, self.fit_status_ = libsvm.fit(\n\u001b[0m\u001b[0;32m    269\u001b[0m                 \u001b[0mX\u001b[0m\u001b[1;33m,\u001b[0m \u001b[0my\u001b[0m\u001b[1;33m,\u001b[0m\u001b[1;33m\u001b[0m\u001b[1;33m\u001b[0m\u001b[0m\n\u001b[0;32m    270\u001b[0m                 \u001b[0msvm_type\u001b[0m\u001b[1;33m=\u001b[0m\u001b[0msolver_type\u001b[0m\u001b[1;33m,\u001b[0m \u001b[0msample_weight\u001b[0m\u001b[1;33m=\u001b[0m\u001b[0msample_weight\u001b[0m\u001b[1;33m,\u001b[0m\u001b[1;33m\u001b[0m\u001b[1;33m\u001b[0m\u001b[0m\n",
      "\u001b[1;31mKeyboardInterrupt\u001b[0m: "
     ]
    }
   ],
   "source": [
    "# May take a while!\n",
    "grid.fit(X_train,y_train)\n",
    "grid.best_params_"
   ]
  },
  {
   "cell_type": "code",
   "execution_count": null,
   "metadata": {},
   "outputs": [],
   "source": [
    "# best {'C': 10, 'gamma': 1, 'kernel': 'rbf'}"
   ]
  },
  {
   "cell_type": "code",
   "execution_count": 11,
   "metadata": {
    "scrolled": true
   },
   "outputs": [
    {
     "ename": "KeyboardInterrupt",
     "evalue": "",
     "output_type": "error",
     "traceback": [
      "\u001b[1;31m---------------------------------------------------------------------------\u001b[0m",
      "\u001b[1;31mKeyboardInterrupt\u001b[0m                         Traceback (most recent call last)",
      "\u001b[1;32m<ipython-input-11-474cd3652033>\u001b[0m in \u001b[0;36m<module>\u001b[1;34m\u001b[0m\n\u001b[0;32m      1\u001b[0m \u001b[0msvr\u001b[0m \u001b[1;33m=\u001b[0m \u001b[0mSVR\u001b[0m\u001b[1;33m(\u001b[0m\u001b[0mC\u001b[0m\u001b[1;33m=\u001b[0m\u001b[1;36m10.0\u001b[0m\u001b[1;33m,\u001b[0m \u001b[0mkernel\u001b[0m\u001b[1;33m=\u001b[0m\u001b[1;34m'rbf'\u001b[0m\u001b[1;33m,\u001b[0m \u001b[0mgamma\u001b[0m\u001b[1;33m=\u001b[0m\u001b[1;36m1.0\u001b[0m\u001b[1;33m)\u001b[0m\u001b[1;33m\u001b[0m\u001b[1;33m\u001b[0m\u001b[0m\n\u001b[0;32m      2\u001b[0m \u001b[1;33m\u001b[0m\u001b[0m\n\u001b[1;32m----> 3\u001b[1;33m \u001b[0mres_svm\u001b[0m \u001b[1;33m=\u001b[0m \u001b[0mtest_cv\u001b[0m\u001b[1;33m(\u001b[0m\u001b[0msvr\u001b[0m\u001b[1;33m,\u001b[0m \u001b[0mX\u001b[0m\u001b[1;33m,\u001b[0m \u001b[0my\u001b[0m\u001b[1;33m,\u001b[0m \u001b[0mk\u001b[0m\u001b[1;33m=\u001b[0m\u001b[1;36m10\u001b[0m\u001b[1;33m)\u001b[0m\u001b[1;33m\u001b[0m\u001b[1;33m\u001b[0m\u001b[0m\n\u001b[0m\u001b[0;32m      4\u001b[0m \u001b[0mRRMSE_max_hr\u001b[0m \u001b[1;33m=\u001b[0m \u001b[1;36m1\u001b[0m \u001b[1;33m-\u001b[0m \u001b[0mr2_score\u001b[0m\u001b[1;33m(\u001b[0m\u001b[0my\u001b[0m\u001b[1;33m,\u001b[0m \u001b[0mres_svm\u001b[0m\u001b[1;33m)\u001b[0m\u001b[1;33m\u001b[0m\u001b[1;33m\u001b[0m\u001b[0m\n\u001b[0;32m      5\u001b[0m \u001b[0mprint\u001b[0m\u001b[1;33m(\u001b[0m\u001b[1;34m\"------------------------------\"\u001b[0m\u001b[1;33m)\u001b[0m\u001b[1;33m\u001b[0m\u001b[1;33m\u001b[0m\u001b[0m\n",
      "\u001b[1;32m<ipython-input-3-43a674235f22>\u001b[0m in \u001b[0;36mtest_cv\u001b[1;34m(learner, X, y, k)\u001b[0m\n\u001b[0;32m     30\u001b[0m         \u001b[0mXi_test\u001b[0m \u001b[1;33m=\u001b[0m \u001b[0mshuffle\u001b[0m\u001b[1;33m[\u001b[0m\u001b[0mper\u001b[0m\u001b[1;33m[\u001b[0m\u001b[0mfrom_i\u001b[0m\u001b[1;33m:\u001b[0m\u001b[0mto_i\u001b[0m\u001b[1;33m]\u001b[0m\u001b[1;33m]\u001b[0m\u001b[1;33m\u001b[0m\u001b[1;33m\u001b[0m\u001b[0m\n\u001b[0;32m     31\u001b[0m \u001b[1;33m\u001b[0m\u001b[0m\n\u001b[1;32m---> 32\u001b[1;33m         \u001b[0mc\u001b[0m \u001b[1;33m=\u001b[0m \u001b[0mlearner\u001b[0m\u001b[1;33m.\u001b[0m\u001b[0mfit\u001b[0m\u001b[1;33m(\u001b[0m\u001b[0mXi_train\u001b[0m\u001b[1;33m[\u001b[0m\u001b[1;33m:\u001b[0m\u001b[1;33m,\u001b[0m \u001b[1;33m:\u001b[0m\u001b[1;33m-\u001b[0m\u001b[1;36m1\u001b[0m\u001b[1;33m]\u001b[0m\u001b[1;33m,\u001b[0m \u001b[0mXi_train\u001b[0m\u001b[1;33m[\u001b[0m\u001b[1;33m:\u001b[0m\u001b[1;33m,\u001b[0m \u001b[1;33m-\u001b[0m\u001b[1;36m1\u001b[0m\u001b[1;33m]\u001b[0m\u001b[1;33m)\u001b[0m\u001b[1;33m\u001b[0m\u001b[1;33m\u001b[0m\u001b[0m\n\u001b[0m\u001b[0;32m     33\u001b[0m \u001b[1;33m\u001b[0m\u001b[0m\n\u001b[0;32m     34\u001b[0m         \u001b[0mpred\u001b[0m\u001b[1;33m[\u001b[0m\u001b[0mper\u001b[0m\u001b[1;33m[\u001b[0m\u001b[0mfrom_i\u001b[0m\u001b[1;33m:\u001b[0m\u001b[0mto_i\u001b[0m\u001b[1;33m]\u001b[0m\u001b[1;33m]\u001b[0m \u001b[1;33m=\u001b[0m \u001b[0mnp\u001b[0m\u001b[1;33m.\u001b[0m\u001b[0marray\u001b[0m\u001b[1;33m(\u001b[0m\u001b[0mc\u001b[0m\u001b[1;33m.\u001b[0m\u001b[0mpredict\u001b[0m\u001b[1;33m(\u001b[0m\u001b[0mXi_test\u001b[0m\u001b[1;33m[\u001b[0m\u001b[1;33m:\u001b[0m\u001b[1;33m,\u001b[0m \u001b[1;33m:\u001b[0m\u001b[1;33m-\u001b[0m\u001b[1;36m1\u001b[0m\u001b[1;33m]\u001b[0m\u001b[1;33m)\u001b[0m\u001b[1;33m)\u001b[0m\u001b[1;33m.\u001b[0m\u001b[0mreshape\u001b[0m\u001b[1;33m(\u001b[0m\u001b[0mlen\u001b[0m\u001b[1;33m(\u001b[0m\u001b[0mpred\u001b[0m\u001b[1;33m[\u001b[0m\u001b[0mper\u001b[0m\u001b[1;33m[\u001b[0m\u001b[0mfrom_i\u001b[0m\u001b[1;33m:\u001b[0m\u001b[0mto_i\u001b[0m\u001b[1;33m]\u001b[0m\u001b[1;33m]\u001b[0m\u001b[1;33m)\u001b[0m\u001b[1;33m,\u001b[0m \u001b[1;36m1\u001b[0m\u001b[1;33m)\u001b[0m\u001b[1;33m\u001b[0m\u001b[1;33m\u001b[0m\u001b[0m\n",
      "\u001b[1;32m~\\anaconda3\\lib\\site-packages\\sklearn\\svm\\_base.py\u001b[0m in \u001b[0;36mfit\u001b[1;34m(self, X, y, sample_weight)\u001b[0m\n\u001b[0;32m    215\u001b[0m \u001b[1;33m\u001b[0m\u001b[0m\n\u001b[0;32m    216\u001b[0m         \u001b[0mseed\u001b[0m \u001b[1;33m=\u001b[0m \u001b[0mrnd\u001b[0m\u001b[1;33m.\u001b[0m\u001b[0mrandint\u001b[0m\u001b[1;33m(\u001b[0m\u001b[0mnp\u001b[0m\u001b[1;33m.\u001b[0m\u001b[0miinfo\u001b[0m\u001b[1;33m(\u001b[0m\u001b[1;34m'i'\u001b[0m\u001b[1;33m)\u001b[0m\u001b[1;33m.\u001b[0m\u001b[0mmax\u001b[0m\u001b[1;33m)\u001b[0m\u001b[1;33m\u001b[0m\u001b[1;33m\u001b[0m\u001b[0m\n\u001b[1;32m--> 217\u001b[1;33m         \u001b[0mfit\u001b[0m\u001b[1;33m(\u001b[0m\u001b[0mX\u001b[0m\u001b[1;33m,\u001b[0m \u001b[0my\u001b[0m\u001b[1;33m,\u001b[0m \u001b[0msample_weight\u001b[0m\u001b[1;33m,\u001b[0m \u001b[0msolver_type\u001b[0m\u001b[1;33m,\u001b[0m \u001b[0mkernel\u001b[0m\u001b[1;33m,\u001b[0m \u001b[0mrandom_seed\u001b[0m\u001b[1;33m=\u001b[0m\u001b[0mseed\u001b[0m\u001b[1;33m)\u001b[0m\u001b[1;33m\u001b[0m\u001b[1;33m\u001b[0m\u001b[0m\n\u001b[0m\u001b[0;32m    218\u001b[0m         \u001b[1;31m# see comment on the other call to np.iinfo in this file\u001b[0m\u001b[1;33m\u001b[0m\u001b[1;33m\u001b[0m\u001b[1;33m\u001b[0m\u001b[0m\n\u001b[0;32m    219\u001b[0m \u001b[1;33m\u001b[0m\u001b[0m\n",
      "\u001b[1;32m~\\anaconda3\\lib\\site-packages\\sklearn\\svm\\_base.py\u001b[0m in \u001b[0;36m_dense_fit\u001b[1;34m(self, X, y, sample_weight, solver_type, kernel, random_seed)\u001b[0m\n\u001b[0;32m    266\u001b[0m         \u001b[0mself\u001b[0m\u001b[1;33m.\u001b[0m\u001b[0msupport_\u001b[0m\u001b[1;33m,\u001b[0m \u001b[0mself\u001b[0m\u001b[1;33m.\u001b[0m\u001b[0msupport_vectors_\u001b[0m\u001b[1;33m,\u001b[0m \u001b[0mself\u001b[0m\u001b[1;33m.\u001b[0m\u001b[0m_n_support\u001b[0m\u001b[1;33m,\u001b[0m\u001b[0;31m \u001b[0m\u001b[0;31m\\\u001b[0m\u001b[1;33m\u001b[0m\u001b[1;33m\u001b[0m\u001b[0m\n\u001b[0;32m    267\u001b[0m             \u001b[0mself\u001b[0m\u001b[1;33m.\u001b[0m\u001b[0mdual_coef_\u001b[0m\u001b[1;33m,\u001b[0m \u001b[0mself\u001b[0m\u001b[1;33m.\u001b[0m\u001b[0mintercept_\u001b[0m\u001b[1;33m,\u001b[0m \u001b[0mself\u001b[0m\u001b[1;33m.\u001b[0m\u001b[0m_probA\u001b[0m\u001b[1;33m,\u001b[0m\u001b[0;31m \u001b[0m\u001b[0;31m\\\u001b[0m\u001b[1;33m\u001b[0m\u001b[1;33m\u001b[0m\u001b[0m\n\u001b[1;32m--> 268\u001b[1;33m             self._probB, self.fit_status_ = libsvm.fit(\n\u001b[0m\u001b[0;32m    269\u001b[0m                 \u001b[0mX\u001b[0m\u001b[1;33m,\u001b[0m \u001b[0my\u001b[0m\u001b[1;33m,\u001b[0m\u001b[1;33m\u001b[0m\u001b[1;33m\u001b[0m\u001b[0m\n\u001b[0;32m    270\u001b[0m                 \u001b[0msvm_type\u001b[0m\u001b[1;33m=\u001b[0m\u001b[0msolver_type\u001b[0m\u001b[1;33m,\u001b[0m \u001b[0msample_weight\u001b[0m\u001b[1;33m=\u001b[0m\u001b[0msample_weight\u001b[0m\u001b[1;33m,\u001b[0m\u001b[1;33m\u001b[0m\u001b[1;33m\u001b[0m\u001b[0m\n",
      "\u001b[1;31mKeyboardInterrupt\u001b[0m: "
     ]
    }
   ],
   "source": [
    "svr = SVR(C=10.0, kernel='rbf', gamma=1.0)\n",
    "\n",
    "res_svm = test_cv(svr, X, y, k=10)\n",
    "RRMSE_max_hr = 1 - r2_score(y, res_svm)\n",
    "print(\"------------------------------\")\n",
    "print(\"OVERALL RRMSE\")\n",
    "print(RRMSE_max_hr)\n",
    "print(\"OVERALL RMSE\")\n",
    "print(math.sqrt(mean_squared_error(y, res_svm)))\n",
    "\n",
    "y_res = list(chain.from_iterable(res_svm))\n",
    "\n",
    "# BLAND-ALTMAN plot\n",
    "sns.scatterplot(x=((y + y_res) / 2), y=(y - y_res))"
   ]
  },
  {
   "cell_type": "markdown",
   "metadata": {},
   "source": [
    "Neural Networks"
   ]
  },
  {
   "cell_type": "code",
   "execution_count": 12,
   "metadata": {},
   "outputs": [],
   "source": [
    "import tensorflow as tf\n",
    "from tensorflow.keras.models import Sequential\n",
    "from tensorflow.keras.layers import Dense, Activation,Dropout\n",
    "from tensorflow.keras.constraints import max_norm\n",
    "from tensorflow.keras.models import load_model"
   ]
  },
  {
   "cell_type": "code",
   "execution_count": 64,
   "metadata": {},
   "outputs": [],
   "source": [
    "model = Sequential()\n",
    "\n",
    "# https://stats.stackexchange.com/questions/181/how-to-choose-the-number-of-hidden-layers-and-nodes-in-a-feedforward-neural-netw\n",
    "\n",
    "# input layer\n",
    "model.add(Dense(27,  activation='relu'))\n",
    "model.add(Dropout(0.5))\n",
    "\n",
    "# hidden layer\n",
    "model.add(Dense(16, activation='relu'))\n",
    "model.add(Dropout(0.4))\n",
    "\n",
    "# hidden layer\n",
    "model.add(Dense(16, activation='relu'))\n",
    "model.add(Dropout(0.3))\n",
    "\n",
    "# output layer\n",
    "model.add(Dense(1))\n",
    "\n",
    "# compile model\n",
    "model.compile(optimizer='adam',loss='mse')"
   ]
  },
  {
   "cell_type": "code",
   "execution_count": 65,
   "metadata": {},
   "outputs": [
    {
     "name": "stdout",
     "output_type": "stream",
     "text": [
      "Epoch 1/100\n",
      "WARNING:tensorflow:Layer dense_44 is casting an input tensor from dtype float64 to the layer's dtype of float32, which is new behavior in TensorFlow 2.  The layer has dtype float32 because its dtype defaults to floatx.\n",
      "\n",
      "If you intended to run this layer in float32, you can safely ignore this warning. If in doubt, this warning is likely only an issue if you are porting a TensorFlow 1.X model to TensorFlow 2.\n",
      "\n",
      "To change all layers to have dtype float64 by default, call `tf.keras.backend.set_floatx('float64')`. To change just this layer, pass dtype='float64' to the layer constructor. If you are the author of this layer, you can disable autocasting by passing autocast=False to the base Layer constructor.\n",
      "\n",
      "500/500 [==============================] - 1s 1ms/step - loss: 10706.4062 - val_loss: 1362.9004\n",
      "Epoch 2/100\n",
      "500/500 [==============================] - 1s 1ms/step - loss: 3811.0798 - val_loss: 715.7242\n",
      "Epoch 3/100\n",
      "500/500 [==============================] - 1s 1ms/step - loss: 3427.0391 - val_loss: 752.9692\n",
      "Epoch 4/100\n",
      "500/500 [==============================] - 1s 1ms/step - loss: 3293.2092 - val_loss: 559.7990\n",
      "Epoch 5/100\n",
      "500/500 [==============================] - 1s 1ms/step - loss: 3033.7939 - val_loss: 489.5656\n",
      "Epoch 6/100\n",
      "500/500 [==============================] - 1s 1ms/step - loss: 2749.1709 - val_loss: 463.5637\n",
      "Epoch 7/100\n",
      "500/500 [==============================] - 1s 1ms/step - loss: 2475.5735 - val_loss: 327.4904\n",
      "Epoch 8/100\n",
      "500/500 [==============================] - 1s 1ms/step - loss: 2261.9944 - val_loss: 287.0624\n",
      "Epoch 9/100\n",
      "500/500 [==============================] - 1s 1ms/step - loss: 2197.7446 - val_loss: 424.6293\n",
      "Epoch 10/100\n",
      "500/500 [==============================] - 1s 1ms/step - loss: 2044.5498 - val_loss: 375.3535\n",
      "Epoch 11/100\n",
      "500/500 [==============================] - 1s 1ms/step - loss: 1992.8273 - val_loss: 359.8340\n",
      "Epoch 12/100\n",
      "500/500 [==============================] - 1s 1ms/step - loss: 1950.5757 - val_loss: 428.0590\n",
      "Epoch 13/100\n",
      "500/500 [==============================] - 1s 1ms/step - loss: 1925.5681 - val_loss: 367.7510\n",
      "Epoch 14/100\n",
      "500/500 [==============================] - 1s 1ms/step - loss: 1841.2238 - val_loss: 362.0840\n",
      "Epoch 15/100\n",
      "500/500 [==============================] - 1s 1ms/step - loss: 1791.2980 - val_loss: 334.9097\n",
      "Epoch 16/100\n",
      "500/500 [==============================] - 1s 1ms/step - loss: 1719.0253 - val_loss: 334.6146\n",
      "Epoch 17/100\n",
      "500/500 [==============================] - 1s 1ms/step - loss: 1663.0138 - val_loss: 288.8724\n",
      "Epoch 18/100\n",
      "500/500 [==============================] - 1s 1ms/step - loss: 1591.3477 - val_loss: 295.2024\n",
      "Epoch 19/100\n",
      "500/500 [==============================] - 1s 1ms/step - loss: 1547.4327 - val_loss: 321.9821\n",
      "Epoch 20/100\n",
      "500/500 [==============================] - 1s 1ms/step - loss: 1444.3278 - val_loss: 275.3120\n",
      "Epoch 21/100\n",
      "500/500 [==============================] - 1s 1ms/step - loss: 1425.2378 - val_loss: 272.6629\n",
      "Epoch 22/100\n",
      "500/500 [==============================] - 1s 1ms/step - loss: 1377.0336 - val_loss: 260.8333\n",
      "Epoch 23/100\n",
      "500/500 [==============================] - 1s 1ms/step - loss: 1344.0071 - val_loss: 315.3093\n",
      "Epoch 24/100\n",
      "500/500 [==============================] - 1s 1ms/step - loss: 1273.4001 - val_loss: 247.0224\n",
      "Epoch 25/100\n",
      "500/500 [==============================] - 1s 1ms/step - loss: 1259.1636 - val_loss: 273.5325\n",
      "Epoch 26/100\n",
      "500/500 [==============================] - 1s 1ms/step - loss: 1231.5477 - val_loss: 286.9879\n",
      "Epoch 27/100\n",
      "500/500 [==============================] - 1s 1ms/step - loss: 1210.0702 - val_loss: 262.3614\n",
      "Epoch 28/100\n",
      "500/500 [==============================] - 1s 1ms/step - loss: 1149.0477 - val_loss: 258.3221\n",
      "Epoch 29/100\n",
      "500/500 [==============================] - 1s 1ms/step - loss: 1142.6023 - val_loss: 276.2465\n",
      "Epoch 30/100\n",
      "500/500 [==============================] - 1s 1ms/step - loss: 1142.5201 - val_loss: 236.3343\n",
      "Epoch 31/100\n",
      "500/500 [==============================] - 1s 1ms/step - loss: 1134.8270 - val_loss: 264.1197\n",
      "Epoch 32/100\n",
      "500/500 [==============================] - 1s 1ms/step - loss: 1111.9260 - val_loss: 241.8564\n",
      "Epoch 33/100\n",
      "500/500 [==============================] - 1s 2ms/step - loss: 1107.5566 - val_loss: 244.6771\n",
      "Epoch 34/100\n",
      "500/500 [==============================] - 1s 1ms/step - loss: 1120.0264 - val_loss: 252.0255\n",
      "Epoch 35/100\n",
      "500/500 [==============================] - 1s 1ms/step - loss: 1081.0677 - val_loss: 245.5455\n",
      "Epoch 36/100\n",
      "500/500 [==============================] - 1s 1ms/step - loss: 1072.3059 - val_loss: 244.1748\n",
      "Epoch 37/100\n",
      "500/500 [==============================] - 1s 1ms/step - loss: 1077.2750 - val_loss: 250.7664\n",
      "Epoch 38/100\n",
      "500/500 [==============================] - 1s 1ms/step - loss: 1075.5935 - val_loss: 235.0628\n",
      "Epoch 39/100\n",
      "500/500 [==============================] - 1s 1ms/step - loss: 1071.9187 - val_loss: 255.7380\n",
      "Epoch 40/100\n",
      "500/500 [==============================] - 1s 1ms/step - loss: 1054.3677 - val_loss: 216.0674\n",
      "Epoch 41/100\n",
      "500/500 [==============================] - 1s 1ms/step - loss: 1062.9794 - val_loss: 246.4465\n",
      "Epoch 42/100\n",
      "500/500 [==============================] - 1s 1ms/step - loss: 1051.6781 - val_loss: 219.3350\n",
      "Epoch 43/100\n",
      "500/500 [==============================] - 1s 1ms/step - loss: 1055.9526 - val_loss: 268.7145\n",
      "Epoch 44/100\n",
      "500/500 [==============================] - 1s 1ms/step - loss: 1040.7385 - val_loss: 239.5751\n",
      "Epoch 45/100\n",
      "500/500 [==============================] - 1s 1ms/step - loss: 1060.2886 - val_loss: 224.2226\n",
      "Epoch 46/100\n",
      "500/500 [==============================] - 1s 1ms/step - loss: 1039.1101 - val_loss: 233.9588\n",
      "Epoch 47/100\n",
      "500/500 [==============================] - 1s 1ms/step - loss: 1043.8839 - val_loss: 220.7278\n",
      "Epoch 48/100\n",
      "500/500 [==============================] - 1s 1ms/step - loss: 1038.3464 - val_loss: 231.7410\n",
      "Epoch 49/100\n",
      "500/500 [==============================] - 0s 999us/step - loss: 1024.3873 - val_loss: 257.2825\n",
      "Epoch 50/100\n",
      "500/500 [==============================] - 1s 1ms/step - loss: 1039.9810 - val_loss: 220.1052\n",
      "Epoch 51/100\n",
      "500/500 [==============================] - 1s 1ms/step - loss: 1035.3767 - val_loss: 219.4586\n",
      "Epoch 52/100\n",
      "500/500 [==============================] - 1s 1ms/step - loss: 1006.8148 - val_loss: 223.6375\n",
      "Epoch 53/100\n",
      "500/500 [==============================] - 1s 1ms/step - loss: 1006.8714 - val_loss: 237.8421\n",
      "Epoch 54/100\n",
      "500/500 [==============================] - 1s 1ms/step - loss: 997.1093 - val_loss: 226.8457\n",
      "Epoch 55/100\n",
      "500/500 [==============================] - 1s 1ms/step - loss: 1004.4945 - val_loss: 253.6583\n",
      "Epoch 56/100\n",
      "500/500 [==============================] - 1s 1ms/step - loss: 1021.9424 - val_loss: 244.9992\n",
      "Epoch 57/100\n",
      "500/500 [==============================] - 1s 1ms/step - loss: 986.5358 - val_loss: 254.8142\n",
      "Epoch 58/100\n",
      "500/500 [==============================] - 1s 1ms/step - loss: 1008.8901 - val_loss: 232.0391\n",
      "Epoch 59/100\n",
      "500/500 [==============================] - 1s 1ms/step - loss: 982.4326 - val_loss: 237.9313\n",
      "Epoch 60/100\n",
      "500/500 [==============================] - 1s 1ms/step - loss: 981.4178 - val_loss: 243.0094\n",
      "Epoch 61/100\n",
      "500/500 [==============================] - 1s 1ms/step - loss: 1000.9350 - val_loss: 246.3538\n",
      "Epoch 62/100\n",
      "500/500 [==============================] - 1s 1ms/step - loss: 975.4923 - val_loss: 242.0208\n",
      "Epoch 63/100\n",
      "500/500 [==============================] - 1s 1ms/step - loss: 983.6421 - val_loss: 236.9840\n",
      "Epoch 64/100\n",
      "500/500 [==============================] - 1s 1ms/step - loss: 966.5428 - val_loss: 237.0681\n",
      "Epoch 65/100\n",
      "500/500 [==============================] - 1s 1ms/step - loss: 986.8242 - val_loss: 223.9103\n",
      "Epoch 66/100\n",
      "500/500 [==============================] - 1s 1ms/step - loss: 973.8541 - val_loss: 222.9798\n",
      "Epoch 67/100\n",
      "500/500 [==============================] - 1s 1ms/step - loss: 956.5009 - val_loss: 219.1282\n",
      "Epoch 68/100\n",
      "500/500 [==============================] - 1s 1ms/step - loss: 939.1087 - val_loss: 223.6491\n",
      "Epoch 69/100\n",
      "500/500 [==============================] - 1s 1ms/step - loss: 945.7778 - val_loss: 224.4103\n",
      "Epoch 70/100\n",
      "500/500 [==============================] - 1s 2ms/step - loss: 945.5341 - val_loss: 236.1666\n",
      "Epoch 71/100\n"
     ]
    },
    {
     "name": "stdout",
     "output_type": "stream",
     "text": [
      "500/500 [==============================] - 1s 1ms/step - loss: 932.0861 - val_loss: 222.4896\n",
      "Epoch 72/100\n",
      "500/500 [==============================] - 1s 1ms/step - loss: 946.9022 - val_loss: 229.4851\n",
      "Epoch 73/100\n",
      "500/500 [==============================] - 1s 1ms/step - loss: 951.0010 - val_loss: 234.9993\n",
      "Epoch 74/100\n",
      "500/500 [==============================] - 1s 1ms/step - loss: 955.8310 - val_loss: 216.7073\n",
      "Epoch 75/100\n",
      "500/500 [==============================] - 1s 1ms/step - loss: 938.3323 - val_loss: 260.9355\n",
      "Epoch 76/100\n",
      "500/500 [==============================] - 1s 1ms/step - loss: 947.5142 - val_loss: 230.5169\n",
      "Epoch 77/100\n",
      "500/500 [==============================] - 0s 996us/step - loss: 920.1599 - val_loss: 218.7945\n",
      "Epoch 78/100\n",
      "500/500 [==============================] - 0s 896us/step - loss: 931.0759 - val_loss: 225.1705\n",
      "Epoch 79/100\n",
      "500/500 [==============================] - 0s 916us/step - loss: 919.6870 - val_loss: 223.4673\n",
      "Epoch 80/100\n",
      "500/500 [==============================] - 1s 1ms/step - loss: 925.4433 - val_loss: 226.0143\n",
      "Epoch 81/100\n",
      "500/500 [==============================] - 1s 1ms/step - loss: 903.9904 - val_loss: 221.7367\n",
      "Epoch 82/100\n",
      "500/500 [==============================] - 1s 1ms/step - loss: 906.0697 - val_loss: 231.5582\n",
      "Epoch 83/100\n",
      "500/500 [==============================] - 1s 1ms/step - loss: 894.9519 - val_loss: 218.1245\n",
      "Epoch 84/100\n",
      "500/500 [==============================] - 1s 1ms/step - loss: 907.8365 - val_loss: 224.6636\n",
      "Epoch 85/100\n",
      "500/500 [==============================] - 1s 1ms/step - loss: 893.2499 - val_loss: 223.6672\n",
      "Epoch 86/100\n",
      "500/500 [==============================] - 1s 1ms/step - loss: 916.8684 - val_loss: 222.0384\n",
      "Epoch 87/100\n",
      "500/500 [==============================] - 1s 1ms/step - loss: 897.5504 - val_loss: 220.6795\n",
      "Epoch 88/100\n",
      "500/500 [==============================] - 1s 1ms/step - loss: 887.2955 - val_loss: 255.5313\n",
      "Epoch 89/100\n",
      "500/500 [==============================] - 0s 990us/step - loss: 870.3818 - val_loss: 223.3751\n",
      "Epoch 90/100\n",
      "500/500 [==============================] - 1s 1ms/step - loss: 888.4958 - val_loss: 239.1542\n",
      "Epoch 91/100\n",
      "500/500 [==============================] - 0s 994us/step - loss: 886.5975 - val_loss: 255.3320\n",
      "Epoch 92/100\n",
      "500/500 [==============================] - 1s 1ms/step - loss: 871.9590 - val_loss: 227.1389\n",
      "Epoch 93/100\n",
      "500/500 [==============================] - 0s 973us/step - loss: 890.7642 - val_loss: 238.0425\n",
      "Epoch 94/100\n",
      "500/500 [==============================] - 1s 1ms/step - loss: 867.8453 - val_loss: 234.0524\n",
      "Epoch 95/100\n",
      "500/500 [==============================] - 1s 1ms/step - loss: 849.8024 - val_loss: 217.5453\n",
      "Epoch 96/100\n",
      "500/500 [==============================] - 1s 1ms/step - loss: 864.6051 - val_loss: 238.8788\n",
      "Epoch 97/100\n",
      "500/500 [==============================] - 1s 1ms/step - loss: 858.9672 - val_loss: 217.1138\n",
      "Epoch 98/100\n",
      "500/500 [==============================] - 1s 1ms/step - loss: 863.7516 - val_loss: 219.2426\n",
      "Epoch 99/100\n",
      "500/500 [==============================] - 1s 1ms/step - loss: 871.9456 - val_loss: 231.1035\n",
      "Epoch 100/100\n",
      "500/500 [==============================] - 1s 1ms/step - loss: 854.4171 - val_loss: 226.7350\n"
     ]
    },
    {
     "data": {
      "text/plain": [
       "<tensorflow.python.keras.callbacks.History at 0x1efb60b25e0>"
      ]
     },
     "execution_count": 65,
     "metadata": {},
     "output_type": "execute_result"
    }
   ],
   "source": [
    "model.fit(x=X_train, \n",
    "          y=y_train, \n",
    "          epochs=100, # drgac dej 500\n",
    "          batch_size=32,\n",
    "          validation_data=(X_test, y_test), \n",
    "          )"
   ]
  },
  {
   "cell_type": "code",
   "execution_count": 30,
   "metadata": {},
   "outputs": [
    {
     "data": {
      "text/plain": [
       "<matplotlib.axes._subplots.AxesSubplot at 0x1efb7e4b220>"
      ]
     },
     "execution_count": 30,
     "metadata": {},
     "output_type": "execute_result"
    },
    {
     "data": {
      "image/png": "[encoded data removed]",
      "text/plain": [
       "<Figure size 432x288 with 1 Axes>"
      ]
     },
     "metadata": {
      "needs_background": "light"
     },
     "output_type": "display_data"
    }
   ],
   "source": [
    "losses = pd.DataFrame(model.history.history)\n",
    "losses[['loss','val_loss']].plot()"
   ]
  },
  {
   "cell_type": "code",
   "execution_count": 31,
   "metadata": {},
   "outputs": [
    {
     "name": "stdout",
     "output_type": "stream",
     "text": [
      "------------------------------\n",
      "OVERALL RRMSE\n",
      "0.8181483070836197\n",
      "OVERALL RMSE\n",
      "9.690968295770297\n"
     ]
    },
    {
     "data": {
      "text/plain": [
       "<matplotlib.axes._subplots.AxesSubplot at 0x1efb7ed8c10>"
      ]
     },
     "execution_count": 31,
     "metadata": {},
     "output_type": "execute_result"
    },
    {
     "data": {
      "image/png": "[encoded data removed]",
      "text/plain": [
       "<Figure size 432x288 with 1 Axes>"
      ]
     },
     "metadata": {
      "needs_background": "light"
     },
     "output_type": "display_data"
    }
   ],
   "source": [
    "res_nn = model.predict(X_test)\n",
    "RRMSE_max_hr = 1 - r2_score(y_test, res_nn)\n",
    "print(\"------------------------------\")\n",
    "print(\"OVERALL RRMSE\")\n",
    "print(RRMSE_max_hr)\n",
    "print(\"OVERALL RMSE\")\n",
    "print(math.sqrt(mean_squared_error(y_test, res_nn)))\n",
    "\n",
    "y_res = list(chain.from_iterable(res_nn))\n",
    "\n",
    "# BLAND-ALTMAN plot\n",
    "sns.scatterplot(x=((y_test + y_res) / 2), y=(y_test - y_res))"
   ]
  },
  {
   "cell_type": "code",
   "execution_count": 17,
   "metadata": {},
   "outputs": [
    {
     "data": {
      "text/plain": [
       "<matplotlib.axes._subplots.AxesSubplot at 0x1efafbc1c40>"
      ]
     },
     "execution_count": 17,
     "metadata": {},
     "output_type": "execute_result"
    },
    {
     "data": {
      "image/png": "[encoded data removed]",
      "text/plain": [
       "<Figure size 432x288 with 1 Axes>"
      ]
     },
     "metadata": {
      "needs_background": "light"
     },
     "output_type": "display_data"
    }
   ],
   "source": [
    "sns.distplot(y_test - y_res, bins= 50)"
   ]
  },
  {
   "cell_type": "code",
   "execution_count": 18,
   "metadata": {},
   "outputs": [
    {
     "name": "stdout",
     "output_type": "stream",
     "text": [
      "2.041697610483931 +- 13.865970807294566\n"
     ]
    }
   ],
   "source": [
    "mean = (y_test - y_res).mean()\n",
    "std = (y_test - y_res).std()\n",
    "print(mean, \"+-\", std)"
   ]
  },
  {
   "cell_type": "markdown",
   "metadata": {},
   "source": [
    "# VO2max"
   ]
  },
  {
   "cell_type": "code",
   "execution_count": 23,
   "metadata": {},
   "outputs": [],
   "source": [
    "X = df.drop(['max_hr', 'vo2_l_min', 'vo2_ml_kg_min', 'Unnamed: 0'], axis=1)\n",
    "y = df['vo2_ml_kg_min']\n",
    "\n",
    "X_train, X_test, y_train, y_test = train_test_split(X, np.ravel(y), test_size=0.25, random_state=69)"
   ]
  },
  {
   "cell_type": "markdown",
   "metadata": {},
   "source": [
    "SVM"
   ]
  },
  {
   "cell_type": "code",
   "execution_count": 24,
   "metadata": {},
   "outputs": [
    {
     "name": "stdout",
     "output_type": "stream",
     "text": [
      "Fitting 5 folds for each of 25 candidates, totalling 125 fits\n",
      "[CV] C=0.1, gamma=1, kernel=rbf ......................................\n"
     ]
    },
    {
     "name": "stderr",
     "output_type": "stream",
     "text": [
      "[Parallel(n_jobs=1)]: Using backend SequentialBackend with 1 concurrent workers.\n"
     ]
    },
    {
     "name": "stdout",
     "output_type": "stream",
     "text": [
      "[CV] .......... C=0.1, gamma=1, kernel=rbf, score=0.121, total=   9.2s\n",
      "[CV] C=0.1, gamma=1, kernel=rbf ......................................\n"
     ]
    },
    {
     "name": "stderr",
     "output_type": "stream",
     "text": [
      "[Parallel(n_jobs=1)]: Done   1 out of   1 | elapsed:    9.1s remaining:    0.0s\n"
     ]
    },
    {
     "name": "stdout",
     "output_type": "stream",
     "text": [
      "[CV] .......... C=0.1, gamma=1, kernel=rbf, score=0.129, total=   9.2s\n",
      "[CV] C=0.1, gamma=1, kernel=rbf ......................................\n"
     ]
    },
    {
     "name": "stderr",
     "output_type": "stream",
     "text": [
      "[Parallel(n_jobs=1)]: Done   2 out of   2 | elapsed:   18.3s remaining:    0.0s\n"
     ]
    },
    {
     "name": "stdout",
     "output_type": "stream",
     "text": [
      "[CV] .......... C=0.1, gamma=1, kernel=rbf, score=0.118, total=   9.3s\n",
      "[CV] C=0.1, gamma=1, kernel=rbf ......................................\n",
      "[CV] .......... C=0.1, gamma=1, kernel=rbf, score=0.135, total=   9.3s\n",
      "[CV] C=0.1, gamma=1, kernel=rbf ......................................\n",
      "[CV] .......... C=0.1, gamma=1, kernel=rbf, score=0.133, total=   9.4s\n",
      "[CV] C=0.1, gamma=0.1, kernel=rbf ....................................\n",
      "[CV] ........ C=0.1, gamma=0.1, kernel=rbf, score=0.094, total=   9.6s\n",
      "[CV] C=0.1, gamma=0.1, kernel=rbf ....................................\n",
      "[CV] ........ C=0.1, gamma=0.1, kernel=rbf, score=0.101, total=   9.5s\n",
      "[CV] C=0.1, gamma=0.1, kernel=rbf ....................................\n",
      "[CV] ........ C=0.1, gamma=0.1, kernel=rbf, score=0.096, total=   9.5s\n",
      "[CV] C=0.1, gamma=0.1, kernel=rbf ....................................\n",
      "[CV] ........ C=0.1, gamma=0.1, kernel=rbf, score=0.103, total=   9.6s\n",
      "[CV] C=0.1, gamma=0.1, kernel=rbf ....................................\n",
      "[CV] ........ C=0.1, gamma=0.1, kernel=rbf, score=0.105, total=   9.4s\n",
      "[CV] C=0.1, gamma=0.01, kernel=rbf ...................................\n",
      "[CV] ....... C=0.1, gamma=0.01, kernel=rbf, score=0.026, total=  10.0s\n",
      "[CV] C=0.1, gamma=0.01, kernel=rbf ...................................\n",
      "[CV] ....... C=0.1, gamma=0.01, kernel=rbf, score=0.020, total=   9.7s\n",
      "[CV] C=0.1, gamma=0.01, kernel=rbf ...................................\n",
      "[CV] ....... C=0.1, gamma=0.01, kernel=rbf, score=0.024, total=   9.4s\n",
      "[CV] C=0.1, gamma=0.01, kernel=rbf ...................................\n",
      "[CV] ....... C=0.1, gamma=0.01, kernel=rbf, score=0.032, total=   9.3s\n",
      "[CV] C=0.1, gamma=0.01, kernel=rbf ...................................\n",
      "[CV] ....... C=0.1, gamma=0.01, kernel=rbf, score=0.027, total=   9.4s\n",
      "[CV] C=0.1, gamma=0.001, kernel=rbf ..................................\n",
      "[CV] ..... C=0.1, gamma=0.001, kernel=rbf, score=-0.027, total=   9.6s\n",
      "[CV] C=0.1, gamma=0.001, kernel=rbf ..................................\n",
      "[CV] ..... C=0.1, gamma=0.001, kernel=rbf, score=-0.040, total=   9.2s\n",
      "[CV] C=0.1, gamma=0.001, kernel=rbf ..................................\n",
      "[CV] ..... C=0.1, gamma=0.001, kernel=rbf, score=-0.035, total=   9.2s\n",
      "[CV] C=0.1, gamma=0.001, kernel=rbf ..................................\n",
      "[CV] ..... C=0.1, gamma=0.001, kernel=rbf, score=-0.023, total=   9.7s\n",
      "[CV] C=0.1, gamma=0.001, kernel=rbf ..................................\n",
      "[CV] ..... C=0.1, gamma=0.001, kernel=rbf, score=-0.030, total=   9.6s\n",
      "[CV] C=0.1, gamma=0.0001, kernel=rbf .................................\n",
      "[CV] .... C=0.1, gamma=0.0001, kernel=rbf, score=-0.036, total=   9.1s\n",
      "[CV] C=0.1, gamma=0.0001, kernel=rbf .................................\n",
      "[CV] .... C=0.1, gamma=0.0001, kernel=rbf, score=-0.050, total=   9.2s\n",
      "[CV] C=0.1, gamma=0.0001, kernel=rbf .................................\n",
      "[CV] .... C=0.1, gamma=0.0001, kernel=rbf, score=-0.045, total=   9.5s\n",
      "[CV] C=0.1, gamma=0.0001, kernel=rbf .................................\n",
      "[CV] .... C=0.1, gamma=0.0001, kernel=rbf, score=-0.032, total=   9.6s\n",
      "[CV] C=0.1, gamma=0.0001, kernel=rbf .................................\n",
      "[CV] .... C=0.1, gamma=0.0001, kernel=rbf, score=-0.041, total=   9.5s\n",
      "[CV] C=1, gamma=1, kernel=rbf ........................................\n",
      "[CV] ............ C=1, gamma=1, kernel=rbf, score=0.161, total=   9.3s\n",
      "[CV] C=1, gamma=1, kernel=rbf ........................................\n",
      "[CV] ............ C=1, gamma=1, kernel=rbf, score=0.169, total=   9.2s\n",
      "[CV] C=1, gamma=1, kernel=rbf ........................................\n",
      "[CV] ............ C=1, gamma=1, kernel=rbf, score=0.155, total=   9.0s\n",
      "[CV] C=1, gamma=1, kernel=rbf ........................................\n",
      "[CV] ............ C=1, gamma=1, kernel=rbf, score=0.181, total=   9.0s\n",
      "[CV] C=1, gamma=1, kernel=rbf ........................................\n",
      "[CV] ............ C=1, gamma=1, kernel=rbf, score=0.177, total=   9.6s\n",
      "[CV] C=1, gamma=0.1, kernel=rbf ......................................\n",
      "[CV] .......... C=1, gamma=0.1, kernel=rbf, score=0.134, total=   9.5s\n",
      "[CV] C=1, gamma=0.1, kernel=rbf ......................................\n",
      "[CV] .......... C=1, gamma=0.1, kernel=rbf, score=0.146, total=   9.2s\n",
      "[CV] C=1, gamma=0.1, kernel=rbf ......................................\n",
      "[CV] .......... C=1, gamma=0.1, kernel=rbf, score=0.134, total=   9.1s\n",
      "[CV] C=1, gamma=0.1, kernel=rbf ......................................\n",
      "[CV] .......... C=1, gamma=0.1, kernel=rbf, score=0.148, total=   9.5s\n",
      "[CV] C=1, gamma=0.1, kernel=rbf ......................................\n",
      "[CV] .......... C=1, gamma=0.1, kernel=rbf, score=0.148, total=   9.3s\n",
      "[CV] C=1, gamma=0.01, kernel=rbf .....................................\n",
      "[CV] ......... C=1, gamma=0.01, kernel=rbf, score=0.096, total=   9.4s\n",
      "[CV] C=1, gamma=0.01, kernel=rbf .....................................\n",
      "[CV] ......... C=1, gamma=0.01, kernel=rbf, score=0.104, total=  10.2s\n",
      "[CV] C=1, gamma=0.01, kernel=rbf .....................................\n",
      "[CV] ......... C=1, gamma=0.01, kernel=rbf, score=0.099, total=  10.8s\n",
      "[CV] C=1, gamma=0.01, kernel=rbf .....................................\n",
      "[CV] ......... C=1, gamma=0.01, kernel=rbf, score=0.106, total=   9.1s\n",
      "[CV] C=1, gamma=0.01, kernel=rbf .....................................\n",
      "[CV] ......... C=1, gamma=0.01, kernel=rbf, score=0.108, total=   9.4s\n",
      "[CV] C=1, gamma=0.001, kernel=rbf ....................................\n",
      "[CV] ........ C=1, gamma=0.001, kernel=rbf, score=0.027, total=   9.0s\n",
      "[CV] C=1, gamma=0.001, kernel=rbf ....................................\n",
      "[CV] ........ C=1, gamma=0.001, kernel=rbf, score=0.021, total=   9.0s\n",
      "[CV] C=1, gamma=0.001, kernel=rbf ....................................\n",
      "[CV] ........ C=1, gamma=0.001, kernel=rbf, score=0.025, total=   9.1s\n",
      "[CV] C=1, gamma=0.001, kernel=rbf ....................................\n",
      "[CV] ........ C=1, gamma=0.001, kernel=rbf, score=0.033, total=   9.0s\n",
      "[CV] C=1, gamma=0.001, kernel=rbf ....................................\n",
      "[CV] ........ C=1, gamma=0.001, kernel=rbf, score=0.028, total=   9.1s\n",
      "[CV] C=1, gamma=0.0001, kernel=rbf ...................................\n",
      "[CV] ...... C=1, gamma=0.0001, kernel=rbf, score=-0.027, total=   9.1s\n",
      "[CV] C=1, gamma=0.0001, kernel=rbf ...................................\n",
      "[CV] ...... C=1, gamma=0.0001, kernel=rbf, score=-0.040, total=   9.1s\n",
      "[CV] C=1, gamma=0.0001, kernel=rbf ...................................\n",
      "[CV] ...... C=1, gamma=0.0001, kernel=rbf, score=-0.035, total=   9.1s\n",
      "[CV] C=1, gamma=0.0001, kernel=rbf ...................................\n",
      "[CV] ...... C=1, gamma=0.0001, kernel=rbf, score=-0.023, total=   9.2s\n",
      "[CV] C=1, gamma=0.0001, kernel=rbf ...................................\n",
      "[CV] ...... C=1, gamma=0.0001, kernel=rbf, score=-0.030, total=   9.2s\n",
      "[CV] C=10, gamma=1, kernel=rbf .......................................\n",
      "[CV] ........... C=10, gamma=1, kernel=rbf, score=0.162, total=   9.7s\n",
      "[CV] C=10, gamma=1, kernel=rbf .......................................\n",
      "[CV] ........... C=10, gamma=1, kernel=rbf, score=0.173, total=   9.5s\n",
      "[CV] C=10, gamma=1, kernel=rbf .......................................\n",
      "[CV] ........... C=10, gamma=1, kernel=rbf, score=0.164, total=   9.6s\n",
      "[CV] C=10, gamma=1, kernel=rbf .......................................\n",
      "[CV] ........... C=10, gamma=1, kernel=rbf, score=0.181, total=   9.5s\n",
      "[CV] C=10, gamma=1, kernel=rbf .......................................\n",
      "[CV] ........... C=10, gamma=1, kernel=rbf, score=0.186, total=   9.3s\n",
      "[CV] C=10, gamma=0.1, kernel=rbf .....................................\n",
      "[CV] ......... C=10, gamma=0.1, kernel=rbf, score=0.154, total=   9.2s\n",
      "[CV] C=10, gamma=0.1, kernel=rbf .....................................\n",
      "[CV] ......... C=10, gamma=0.1, kernel=rbf, score=0.165, total=   9.1s\n",
      "[CV] C=10, gamma=0.1, kernel=rbf .....................................\n",
      "[CV] ......... C=10, gamma=0.1, kernel=rbf, score=0.152, total=   9.2s\n",
      "[CV] C=10, gamma=0.1, kernel=rbf .....................................\n",
      "[CV] ......... C=10, gamma=0.1, kernel=rbf, score=0.171, total=   9.3s\n",
      "[CV] C=10, gamma=0.1, kernel=rbf .....................................\n",
      "[CV] ......... C=10, gamma=0.1, kernel=rbf, score=0.169, total=   9.0s\n",
      "[CV] C=10, gamma=0.01, kernel=rbf ....................................\n"
     ]
    },
    {
     "name": "stdout",
     "output_type": "stream",
     "text": [
      "[CV] ........ C=10, gamma=0.01, kernel=rbf, score=0.126, total=   9.5s\n",
      "[CV] C=10, gamma=0.01, kernel=rbf ....................................\n",
      "[CV] ........ C=10, gamma=0.01, kernel=rbf, score=0.138, total=   9.6s\n",
      "[CV] C=10, gamma=0.01, kernel=rbf ....................................\n",
      "[CV] ........ C=10, gamma=0.01, kernel=rbf, score=0.126, total=   9.3s\n",
      "[CV] C=10, gamma=0.01, kernel=rbf ....................................\n",
      "[CV] ........ C=10, gamma=0.01, kernel=rbf, score=0.138, total=   9.9s\n",
      "[CV] C=10, gamma=0.01, kernel=rbf ....................................\n",
      "[CV] ........ C=10, gamma=0.01, kernel=rbf, score=0.139, total=   9.2s\n",
      "[CV] C=10, gamma=0.001, kernel=rbf ...................................\n",
      "[CV] ....... C=10, gamma=0.001, kernel=rbf, score=0.097, total=   9.2s\n",
      "[CV] C=10, gamma=0.001, kernel=rbf ...................................\n",
      "[CV] ....... C=10, gamma=0.001, kernel=rbf, score=0.104, total=   9.0s\n",
      "[CV] C=10, gamma=0.001, kernel=rbf ...................................\n",
      "[CV] ....... C=10, gamma=0.001, kernel=rbf, score=0.100, total=   8.9s\n",
      "[CV] C=10, gamma=0.001, kernel=rbf ...................................\n",
      "[CV] ....... C=10, gamma=0.001, kernel=rbf, score=0.106, total=   9.3s\n",
      "[CV] C=10, gamma=0.001, kernel=rbf ...................................\n",
      "[CV] ....... C=10, gamma=0.001, kernel=rbf, score=0.109, total=   9.3s\n",
      "[CV] C=10, gamma=0.0001, kernel=rbf ..................................\n",
      "[CV] ...... C=10, gamma=0.0001, kernel=rbf, score=0.027, total=   9.3s\n",
      "[CV] C=10, gamma=0.0001, kernel=rbf ..................................\n",
      "[CV] ...... C=10, gamma=0.0001, kernel=rbf, score=0.021, total=   9.1s\n",
      "[CV] C=10, gamma=0.0001, kernel=rbf ..................................\n",
      "[CV] ...... C=10, gamma=0.0001, kernel=rbf, score=0.025, total=   9.1s\n",
      "[CV] C=10, gamma=0.0001, kernel=rbf ..................................\n",
      "[CV] ...... C=10, gamma=0.0001, kernel=rbf, score=0.033, total=   9.2s\n",
      "[CV] C=10, gamma=0.0001, kernel=rbf ..................................\n",
      "[CV] ...... C=10, gamma=0.0001, kernel=rbf, score=0.028, total=   9.6s\n",
      "[CV] C=100, gamma=1, kernel=rbf ......................................\n",
      "[CV] .......... C=100, gamma=1, kernel=rbf, score=0.127, total=  12.2s\n",
      "[CV] C=100, gamma=1, kernel=rbf ......................................\n",
      "[CV] .......... C=100, gamma=1, kernel=rbf, score=0.136, total=  12.1s\n",
      "[CV] C=100, gamma=1, kernel=rbf ......................................\n",
      "[CV] .......... C=100, gamma=1, kernel=rbf, score=0.130, total=  12.1s\n",
      "[CV] C=100, gamma=1, kernel=rbf ......................................\n",
      "[CV] .......... C=100, gamma=1, kernel=rbf, score=0.145, total=  12.2s\n",
      "[CV] C=100, gamma=1, kernel=rbf ......................................\n",
      "[CV] .......... C=100, gamma=1, kernel=rbf, score=0.167, total=  12.6s\n",
      "[CV] C=100, gamma=0.1, kernel=rbf ....................................\n",
      "[CV] ........ C=100, gamma=0.1, kernel=rbf, score=0.162, total=  10.3s\n",
      "[CV] C=100, gamma=0.1, kernel=rbf ....................................\n",
      "[CV] ........ C=100, gamma=0.1, kernel=rbf, score=0.171, total=  10.0s\n",
      "[CV] C=100, gamma=0.1, kernel=rbf ....................................\n",
      "[CV] ........ C=100, gamma=0.1, kernel=rbf, score=0.165, total=   9.4s\n",
      "[CV] C=100, gamma=0.1, kernel=rbf ....................................\n",
      "[CV] ........ C=100, gamma=0.1, kernel=rbf, score=0.177, total=   9.9s\n",
      "[CV] C=100, gamma=0.1, kernel=rbf ....................................\n",
      "[CV] ........ C=100, gamma=0.1, kernel=rbf, score=0.178, total=  10.0s\n",
      "[CV] C=100, gamma=0.01, kernel=rbf ...................................\n",
      "[CV] ....... C=100, gamma=0.01, kernel=rbf, score=0.141, total=   9.3s\n",
      "[CV] C=100, gamma=0.01, kernel=rbf ...................................\n",
      "[CV] ....... C=100, gamma=0.01, kernel=rbf, score=0.154, total=   9.4s\n",
      "[CV] C=100, gamma=0.01, kernel=rbf ...................................\n",
      "[CV] ....... C=100, gamma=0.01, kernel=rbf, score=0.135, total=   9.6s\n",
      "[CV] C=100, gamma=0.01, kernel=rbf ...................................\n",
      "[CV] ....... C=100, gamma=0.01, kernel=rbf, score=0.152, total=   9.3s\n",
      "[CV] C=100, gamma=0.01, kernel=rbf ...................................\n",
      "[CV] ....... C=100, gamma=0.01, kernel=rbf, score=0.153, total=   9.2s\n",
      "[CV] C=100, gamma=0.001, kernel=rbf ..................................\n",
      "[CV] ...... C=100, gamma=0.001, kernel=rbf, score=0.124, total=   9.1s\n",
      "[CV] C=100, gamma=0.001, kernel=rbf ..................................\n",
      "[CV] ...... C=100, gamma=0.001, kernel=rbf, score=0.136, total=   9.4s\n",
      "[CV] C=100, gamma=0.001, kernel=rbf ..................................\n",
      "[CV] ...... C=100, gamma=0.001, kernel=rbf, score=0.124, total=   9.4s\n",
      "[CV] C=100, gamma=0.001, kernel=rbf ..................................\n",
      "[CV] ...... C=100, gamma=0.001, kernel=rbf, score=0.136, total=   9.5s\n",
      "[CV] C=100, gamma=0.001, kernel=rbf ..................................\n",
      "[CV] ...... C=100, gamma=0.001, kernel=rbf, score=0.136, total=   9.5s\n",
      "[CV] C=100, gamma=0.0001, kernel=rbf .................................\n",
      "[CV] ..... C=100, gamma=0.0001, kernel=rbf, score=0.097, total=   9.5s\n",
      "[CV] C=100, gamma=0.0001, kernel=rbf .................................\n",
      "[CV] ..... C=100, gamma=0.0001, kernel=rbf, score=0.105, total=   9.3s\n",
      "[CV] C=100, gamma=0.0001, kernel=rbf .................................\n",
      "[CV] ..... C=100, gamma=0.0001, kernel=rbf, score=0.100, total=   9.5s\n",
      "[CV] C=100, gamma=0.0001, kernel=rbf .................................\n",
      "[CV] ..... C=100, gamma=0.0001, kernel=rbf, score=0.106, total=   9.4s\n",
      "[CV] C=100, gamma=0.0001, kernel=rbf .................................\n",
      "[CV] ..... C=100, gamma=0.0001, kernel=rbf, score=0.109, total=   9.7s\n",
      "[CV] C=1000, gamma=1, kernel=rbf .....................................\n",
      "[CV] ........ C=1000, gamma=1, kernel=rbf, score=-0.005, total=  48.8s\n",
      "[CV] C=1000, gamma=1, kernel=rbf .....................................\n",
      "[CV] ......... C=1000, gamma=1, kernel=rbf, score=0.044, total=  46.2s\n",
      "[CV] C=1000, gamma=1, kernel=rbf .....................................\n",
      "[CV] ......... C=1000, gamma=1, kernel=rbf, score=0.044, total=  43.4s\n",
      "[CV] C=1000, gamma=1, kernel=rbf .....................................\n",
      "[CV] ......... C=1000, gamma=1, kernel=rbf, score=0.022, total=  46.0s\n",
      "[CV] C=1000, gamma=1, kernel=rbf .....................................\n",
      "[CV] ......... C=1000, gamma=1, kernel=rbf, score=0.054, total=  47.1s\n",
      "[CV] C=1000, gamma=0.1, kernel=rbf ...................................\n",
      "[CV] ....... C=1000, gamma=0.1, kernel=rbf, score=0.153, total=  15.4s\n",
      "[CV] C=1000, gamma=0.1, kernel=rbf ...................................\n",
      "[CV] ....... C=1000, gamma=0.1, kernel=rbf, score=0.169, total=  13.1s\n",
      "[CV] C=1000, gamma=0.1, kernel=rbf ...................................\n",
      "[CV] ....... C=1000, gamma=0.1, kernel=rbf, score=0.159, total=  13.2s\n",
      "[CV] C=1000, gamma=0.1, kernel=rbf ...................................\n",
      "[CV] ....... C=1000, gamma=0.1, kernel=rbf, score=0.165, total=  13.5s\n",
      "[CV] C=1000, gamma=0.1, kernel=rbf ...................................\n",
      "[CV] ....... C=1000, gamma=0.1, kernel=rbf, score=0.172, total=  14.1s\n",
      "[CV] C=1000, gamma=0.01, kernel=rbf ..................................\n",
      "[CV] ...... C=1000, gamma=0.01, kernel=rbf, score=0.153, total=  10.4s\n",
      "[CV] C=1000, gamma=0.01, kernel=rbf ..................................\n",
      "[CV] ...... C=1000, gamma=0.01, kernel=rbf, score=0.163, total=  10.3s\n",
      "[CV] C=1000, gamma=0.01, kernel=rbf ..................................\n",
      "[CV] ...... C=1000, gamma=0.01, kernel=rbf, score=0.150, total=  10.3s\n",
      "[CV] C=1000, gamma=0.01, kernel=rbf ..................................\n",
      "[CV] ...... C=1000, gamma=0.01, kernel=rbf, score=0.170, total=  10.8s\n",
      "[CV] C=1000, gamma=0.01, kernel=rbf ..................................\n",
      "[CV] ...... C=1000, gamma=0.01, kernel=rbf, score=0.167, total=  11.0s\n",
      "[CV] C=1000, gamma=0.001, kernel=rbf .................................\n",
      "[CV] ..... C=1000, gamma=0.001, kernel=rbf, score=0.130, total=   9.5s\n",
      "[CV] C=1000, gamma=0.001, kernel=rbf .................................\n",
      "[CV] ..... C=1000, gamma=0.001, kernel=rbf, score=0.145, total=   9.3s\n",
      "[CV] C=1000, gamma=0.001, kernel=rbf .................................\n",
      "[CV] ..... C=1000, gamma=0.001, kernel=rbf, score=0.126, total=   9.7s\n",
      "[CV] C=1000, gamma=0.001, kernel=rbf .................................\n"
     ]
    },
    {
     "name": "stdout",
     "output_type": "stream",
     "text": [
      "[CV] ..... C=1000, gamma=0.001, kernel=rbf, score=0.140, total=   9.5s\n",
      "[CV] C=1000, gamma=0.001, kernel=rbf .................................\n",
      "[CV] ..... C=1000, gamma=0.001, kernel=rbf, score=0.142, total=   9.0s\n",
      "[CV] C=1000, gamma=0.0001, kernel=rbf ................................\n",
      "[CV] .... C=1000, gamma=0.0001, kernel=rbf, score=0.124, total=   9.1s\n",
      "[CV] C=1000, gamma=0.0001, kernel=rbf ................................\n",
      "[CV] .... C=1000, gamma=0.0001, kernel=rbf, score=0.136, total=   9.5s\n",
      "[CV] C=1000, gamma=0.0001, kernel=rbf ................................\n",
      "[CV] .... C=1000, gamma=0.0001, kernel=rbf, score=0.124, total=   9.4s\n",
      "[CV] C=1000, gamma=0.0001, kernel=rbf ................................\n",
      "[CV] .... C=1000, gamma=0.0001, kernel=rbf, score=0.135, total=   9.4s\n",
      "[CV] C=1000, gamma=0.0001, kernel=rbf ................................\n",
      "[CV] .... C=1000, gamma=0.0001, kernel=rbf, score=0.136, total=   9.5s\n"
     ]
    },
    {
     "name": "stderr",
     "output_type": "stream",
     "text": [
      "[Parallel(n_jobs=1)]: Done 125 out of 125 | elapsed: 23.4min finished\n"
     ]
    },
    {
     "data": {
      "text/plain": [
       "{'C': 10, 'gamma': 1, 'kernel': 'rbf'}"
      ]
     },
     "execution_count": 24,
     "metadata": {},
     "output_type": "execute_result"
    }
   ],
   "source": [
    "grid = GridSearchCV(SVR(),param_grid,refit=True,verbose=3)\n",
    "grid.fit(X_train,y_train)\n",
    "grid.best_params_"
   ]
  },
  {
   "cell_type": "code",
   "execution_count": null,
   "metadata": {},
   "outputs": [],
   "source": [
    "# best {'C': 10, 'gamma': 1, 'kernel': 'rbf'} ?????"
   ]
  },
  {
   "cell_type": "code",
   "execution_count": 25,
   "metadata": {},
   "outputs": [
    {
     "name": "stdout",
     "output_type": "stream",
     "text": [
      "0.8130894651335094\n",
      "0.8021888013585058\n",
      "0.815205622290021\n"
     ]
    },
    {
     "ename": "KeyboardInterrupt",
     "evalue": "",
     "output_type": "error",
     "traceback": [
      "\u001b[1;31m---------------------------------------------------------------------------\u001b[0m",
      "\u001b[1;31mKeyboardInterrupt\u001b[0m                         Traceback (most recent call last)",
      "\u001b[1;32m<ipython-input-25-7d6dddbb3f03>\u001b[0m in \u001b[0;36m<module>\u001b[1;34m\u001b[0m\n\u001b[0;32m      1\u001b[0m \u001b[0msvr\u001b[0m \u001b[1;33m=\u001b[0m \u001b[0mSVR\u001b[0m\u001b[1;33m(\u001b[0m\u001b[0mC\u001b[0m\u001b[1;33m=\u001b[0m\u001b[1;36m10.0\u001b[0m\u001b[1;33m,\u001b[0m \u001b[0mkernel\u001b[0m\u001b[1;33m=\u001b[0m\u001b[1;34m'rbf'\u001b[0m\u001b[1;33m,\u001b[0m \u001b[0mgamma\u001b[0m\u001b[1;33m=\u001b[0m\u001b[1;36m1.0\u001b[0m\u001b[1;33m)\u001b[0m\u001b[1;33m\u001b[0m\u001b[1;33m\u001b[0m\u001b[0m\n\u001b[0;32m      2\u001b[0m \u001b[1;33m\u001b[0m\u001b[0m\n\u001b[1;32m----> 3\u001b[1;33m \u001b[0mres_svm\u001b[0m \u001b[1;33m=\u001b[0m \u001b[0mtest_cv\u001b[0m\u001b[1;33m(\u001b[0m\u001b[0msvr\u001b[0m\u001b[1;33m,\u001b[0m \u001b[0mX\u001b[0m\u001b[1;33m,\u001b[0m \u001b[0my\u001b[0m\u001b[1;33m,\u001b[0m \u001b[0mk\u001b[0m\u001b[1;33m=\u001b[0m\u001b[1;36m10\u001b[0m\u001b[1;33m)\u001b[0m\u001b[1;33m\u001b[0m\u001b[1;33m\u001b[0m\u001b[0m\n\u001b[0m\u001b[0;32m      4\u001b[0m \u001b[0mRRMSE_max_vo2\u001b[0m \u001b[1;33m=\u001b[0m \u001b[1;36m1\u001b[0m \u001b[1;33m-\u001b[0m \u001b[0mr2_score\u001b[0m\u001b[1;33m(\u001b[0m\u001b[0my\u001b[0m\u001b[1;33m,\u001b[0m \u001b[0mres_svm\u001b[0m\u001b[1;33m)\u001b[0m\u001b[1;33m\u001b[0m\u001b[1;33m\u001b[0m\u001b[0m\n\u001b[0;32m      5\u001b[0m \u001b[0mprint\u001b[0m\u001b[1;33m(\u001b[0m\u001b[1;34m\"------------------------------\"\u001b[0m\u001b[1;33m)\u001b[0m\u001b[1;33m\u001b[0m\u001b[1;33m\u001b[0m\u001b[0m\n",
      "\u001b[1;32m<ipython-input-3-43a674235f22>\u001b[0m in \u001b[0;36mtest_cv\u001b[1;34m(learner, X, y, k)\u001b[0m\n\u001b[0;32m     32\u001b[0m         \u001b[0mc\u001b[0m \u001b[1;33m=\u001b[0m \u001b[0mlearner\u001b[0m\u001b[1;33m.\u001b[0m\u001b[0mfit\u001b[0m\u001b[1;33m(\u001b[0m\u001b[0mXi_train\u001b[0m\u001b[1;33m[\u001b[0m\u001b[1;33m:\u001b[0m\u001b[1;33m,\u001b[0m \u001b[1;33m:\u001b[0m\u001b[1;33m-\u001b[0m\u001b[1;36m1\u001b[0m\u001b[1;33m]\u001b[0m\u001b[1;33m,\u001b[0m \u001b[0mXi_train\u001b[0m\u001b[1;33m[\u001b[0m\u001b[1;33m:\u001b[0m\u001b[1;33m,\u001b[0m \u001b[1;33m-\u001b[0m\u001b[1;36m1\u001b[0m\u001b[1;33m]\u001b[0m\u001b[1;33m)\u001b[0m\u001b[1;33m\u001b[0m\u001b[1;33m\u001b[0m\u001b[0m\n\u001b[0;32m     33\u001b[0m \u001b[1;33m\u001b[0m\u001b[0m\n\u001b[1;32m---> 34\u001b[1;33m         \u001b[0mpred\u001b[0m\u001b[1;33m[\u001b[0m\u001b[0mper\u001b[0m\u001b[1;33m[\u001b[0m\u001b[0mfrom_i\u001b[0m\u001b[1;33m:\u001b[0m\u001b[0mto_i\u001b[0m\u001b[1;33m]\u001b[0m\u001b[1;33m]\u001b[0m \u001b[1;33m=\u001b[0m \u001b[0mnp\u001b[0m\u001b[1;33m.\u001b[0m\u001b[0marray\u001b[0m\u001b[1;33m(\u001b[0m\u001b[0mc\u001b[0m\u001b[1;33m.\u001b[0m\u001b[0mpredict\u001b[0m\u001b[1;33m(\u001b[0m\u001b[0mXi_test\u001b[0m\u001b[1;33m[\u001b[0m\u001b[1;33m:\u001b[0m\u001b[1;33m,\u001b[0m \u001b[1;33m:\u001b[0m\u001b[1;33m-\u001b[0m\u001b[1;36m1\u001b[0m\u001b[1;33m]\u001b[0m\u001b[1;33m)\u001b[0m\u001b[1;33m)\u001b[0m\u001b[1;33m.\u001b[0m\u001b[0mreshape\u001b[0m\u001b[1;33m(\u001b[0m\u001b[0mlen\u001b[0m\u001b[1;33m(\u001b[0m\u001b[0mpred\u001b[0m\u001b[1;33m[\u001b[0m\u001b[0mper\u001b[0m\u001b[1;33m[\u001b[0m\u001b[0mfrom_i\u001b[0m\u001b[1;33m:\u001b[0m\u001b[0mto_i\u001b[0m\u001b[1;33m]\u001b[0m\u001b[1;33m]\u001b[0m\u001b[1;33m)\u001b[0m\u001b[1;33m,\u001b[0m \u001b[1;36m1\u001b[0m\u001b[1;33m)\u001b[0m\u001b[1;33m\u001b[0m\u001b[1;33m\u001b[0m\u001b[0m\n\u001b[0m\u001b[0;32m     35\u001b[0m         \u001b[0mRRMSE_max_hr\u001b[0m \u001b[1;33m=\u001b[0m \u001b[1;36m1\u001b[0m \u001b[1;33m-\u001b[0m \u001b[0mr2_score\u001b[0m\u001b[1;33m(\u001b[0m\u001b[0my\u001b[0m\u001b[1;33m[\u001b[0m\u001b[0mper\u001b[0m\u001b[1;33m[\u001b[0m\u001b[0mfrom_i\u001b[0m\u001b[1;33m:\u001b[0m\u001b[0mto_i\u001b[0m\u001b[1;33m]\u001b[0m\u001b[1;33m]\u001b[0m\u001b[1;33m,\u001b[0m \u001b[0mpred\u001b[0m\u001b[1;33m[\u001b[0m\u001b[0mper\u001b[0m\u001b[1;33m[\u001b[0m\u001b[0mfrom_i\u001b[0m\u001b[1;33m:\u001b[0m\u001b[0mto_i\u001b[0m\u001b[1;33m]\u001b[0m\u001b[1;33m]\u001b[0m\u001b[1;33m)\u001b[0m\u001b[1;33m\u001b[0m\u001b[1;33m\u001b[0m\u001b[0m\n\u001b[0;32m     36\u001b[0m         \u001b[0mprint\u001b[0m\u001b[1;33m(\u001b[0m\u001b[0mRRMSE_max_hr\u001b[0m\u001b[1;33m)\u001b[0m\u001b[1;33m\u001b[0m\u001b[1;33m\u001b[0m\u001b[0m\n",
      "\u001b[1;32m~\\anaconda3\\lib\\site-packages\\sklearn\\svm\\_base.py\u001b[0m in \u001b[0;36mpredict\u001b[1;34m(self, X)\u001b[0m\n\u001b[0;32m    333\u001b[0m         \u001b[0mX\u001b[0m \u001b[1;33m=\u001b[0m \u001b[0mself\u001b[0m\u001b[1;33m.\u001b[0m\u001b[0m_validate_for_predict\u001b[0m\u001b[1;33m(\u001b[0m\u001b[0mX\u001b[0m\u001b[1;33m)\u001b[0m\u001b[1;33m\u001b[0m\u001b[1;33m\u001b[0m\u001b[0m\n\u001b[0;32m    334\u001b[0m         \u001b[0mpredict\u001b[0m \u001b[1;33m=\u001b[0m \u001b[0mself\u001b[0m\u001b[1;33m.\u001b[0m\u001b[0m_sparse_predict\u001b[0m \u001b[1;32mif\u001b[0m \u001b[0mself\u001b[0m\u001b[1;33m.\u001b[0m\u001b[0m_sparse\u001b[0m \u001b[1;32melse\u001b[0m \u001b[0mself\u001b[0m\u001b[1;33m.\u001b[0m\u001b[0m_dense_predict\u001b[0m\u001b[1;33m\u001b[0m\u001b[1;33m\u001b[0m\u001b[0m\n\u001b[1;32m--> 335\u001b[1;33m         \u001b[1;32mreturn\u001b[0m \u001b[0mpredict\u001b[0m\u001b[1;33m(\u001b[0m\u001b[0mX\u001b[0m\u001b[1;33m)\u001b[0m\u001b[1;33m\u001b[0m\u001b[1;33m\u001b[0m\u001b[0m\n\u001b[0m\u001b[0;32m    336\u001b[0m \u001b[1;33m\u001b[0m\u001b[0m\n\u001b[0;32m    337\u001b[0m     \u001b[1;32mdef\u001b[0m \u001b[0m_dense_predict\u001b[0m\u001b[1;33m(\u001b[0m\u001b[0mself\u001b[0m\u001b[1;33m,\u001b[0m \u001b[0mX\u001b[0m\u001b[1;33m)\u001b[0m\u001b[1;33m:\u001b[0m\u001b[1;33m\u001b[0m\u001b[1;33m\u001b[0m\u001b[0m\n",
      "\u001b[1;32m~\\anaconda3\\lib\\site-packages\\sklearn\\svm\\_base.py\u001b[0m in \u001b[0;36m_dense_predict\u001b[1;34m(self, X)\u001b[0m\n\u001b[0;32m    350\u001b[0m         \u001b[0msvm_type\u001b[0m \u001b[1;33m=\u001b[0m \u001b[0mLIBSVM_IMPL\u001b[0m\u001b[1;33m.\u001b[0m\u001b[0mindex\u001b[0m\u001b[1;33m(\u001b[0m\u001b[0mself\u001b[0m\u001b[1;33m.\u001b[0m\u001b[0m_impl\u001b[0m\u001b[1;33m)\u001b[0m\u001b[1;33m\u001b[0m\u001b[1;33m\u001b[0m\u001b[0m\n\u001b[0;32m    351\u001b[0m \u001b[1;33m\u001b[0m\u001b[0m\n\u001b[1;32m--> 352\u001b[1;33m         return libsvm.predict(\n\u001b[0m\u001b[0;32m    353\u001b[0m             \u001b[0mX\u001b[0m\u001b[1;33m,\u001b[0m \u001b[0mself\u001b[0m\u001b[1;33m.\u001b[0m\u001b[0msupport_\u001b[0m\u001b[1;33m,\u001b[0m \u001b[0mself\u001b[0m\u001b[1;33m.\u001b[0m\u001b[0msupport_vectors_\u001b[0m\u001b[1;33m,\u001b[0m \u001b[0mself\u001b[0m\u001b[1;33m.\u001b[0m\u001b[0m_n_support\u001b[0m\u001b[1;33m,\u001b[0m\u001b[1;33m\u001b[0m\u001b[1;33m\u001b[0m\u001b[0m\n\u001b[0;32m    354\u001b[0m             \u001b[0mself\u001b[0m\u001b[1;33m.\u001b[0m\u001b[0m_dual_coef_\u001b[0m\u001b[1;33m,\u001b[0m \u001b[0mself\u001b[0m\u001b[1;33m.\u001b[0m\u001b[0m_intercept_\u001b[0m\u001b[1;33m,\u001b[0m\u001b[1;33m\u001b[0m\u001b[1;33m\u001b[0m\u001b[0m\n",
      "\u001b[1;31mKeyboardInterrupt\u001b[0m: "
     ]
    }
   ],
   "source": [
    "svr = SVR(C=10.0, kernel='rbf', gamma=1.0)\n",
    "\n",
    "res_svm = test_cv(svr, X, y, k=10)\n",
    "RRMSE_max_vo2 = 1 - r2_score(y, res_svm)\n",
    "print(\"------------------------------\")\n",
    "print(\"OVERALL RRMSE\")\n",
    "print(RRMSE_max_vo2)\n",
    "print(\"OVERALL RMSE\")\n",
    "print(math.sqrt(mean_squared_error(y, res_svm)))\n",
    "\n",
    "y_res = list(chain.from_iterable(res_svm))\n",
    "\n",
    "# BLAND-ALTMAN plot\n",
    "sns.scatterplot(x=((y + y_res) / 2), y=(y - y_res))"
   ]
  },
  {
   "cell_type": "markdown",
   "metadata": {},
   "source": [
    "Neural Networks"
   ]
  },
  {
   "cell_type": "code",
   "execution_count": 28,
   "metadata": {},
   "outputs": [
    {
     "data": {
      "text/plain": [
       "{'fit_time': array([13.63558936, 14.32268405, 14.36862779, 13.93578768, 13.32043386,\n",
       "        13.34031224, 13.47694349, 13.40022349, 13.37721229, 13.3473618 ]),\n",
       " 'score_time': array([0.03787494, 0.04191828, 0.04089355, 0.03982425, 0.03783011,\n",
       "        0.04488039, 0.04388309, 0.04385877, 0.04487991, 0.04687548]),\n",
       " 'test_r2': array([ 0.07447256,  0.10211034,  0.0674284 ,  0.05077497, -0.06318418,\n",
       "         0.04422044,  0.30400235,  0.29560719,  0.35846926,  0.31993943]),\n",
       " 'train_r2': array([0.35651244, 0.35290797, 0.35715627, 0.35808793, 0.3694436 ,\n",
       "        0.36360709, 0.33787102, 0.3404265 , 0.33585132, 0.33661656]),\n",
       " 'test_neg_mean_squared_error': array([ -87.92301399,  -79.22612193,  -81.10090336,  -76.93593672,\n",
       "         -90.10698004, -104.59998467, -100.42270229,  -94.30130868,\n",
       "         -88.11382475,  -95.732282  ]),\n",
       " 'train_neg_mean_squared_error': array([-75.0763559 , -76.23672658, -75.95677102, -76.582023  ,\n",
       "        -75.23228197, -73.58505328, -74.05717571, -74.80408792,\n",
       "        -75.18222758, -74.7207538 ])}"
      ]
     },
     "execution_count": 28,
     "metadata": {},
     "output_type": "execute_result"
    }
   ],
   "source": [
    "model = Sequential()\n",
    "\n",
    "# https://stats.stackexchange.com/questions/181/how-to-choose-the-number-of-hidden-layers-and-nodes-in-a-feedforward-neural-netw\n",
    "\n",
    "# input layer\n",
    "model.add(Dense(27,  activation='relu'))\n",
    "model.add(Dropout(0.2))\n",
    "\n",
    "# hidden layer\n",
    "model.add(Dense(16, activation='relu'))\n",
    "model.add(Dropout(0.2))\n",
    "\n",
    "# hidden layer\n",
    "model.add(Dense(16, activation='relu'))\n",
    "model.add(Dropout(0.2))\n",
    "\n",
    "# output layer\n",
    "model.add(Dense(1))\n",
    "\n",
    "# compile model\n",
    "model.compile(optimizer='adam',loss='mse')"
   ]
  },
  {
   "cell_type": "code",
   "execution_count": 29,
   "metadata": {},
   "outputs": [
    {
     "name": "stdout",
     "output_type": "stream",
     "text": [
      "0.7538075551314556\n",
      "0.7373327592596516\n",
      "0.7516231002486984\n",
      "0.7344829701068305\n",
      "0.7148027564898498\n",
      "0.7361585410011309\n",
      "0.7631359954211338\n",
      "0.7315206675065749\n",
      "0.7503988153858447\n",
      "0.730263239650471\n",
      "------------------------------\n",
      "OVERALL RRMSE\n",
      "0.7398793645192125\n",
      "OVERALL RMSE\n",
      "9.258980312116837\n"
     ]
    },
    {
     "data": {
      "text/plain": [
       "<matplotlib.axes._subplots.AxesSubplot at 0x1fe5641a190>"
      ]
     },
     "execution_count": 29,
     "metadata": {},
     "output_type": "execute_result"
    },
    {
     "data": {
      "image/png": "[encoded data removed]",
      "text/plain": [
       "<Figure size 432x288 with 1 Axes>"
      ]
     },
     "metadata": {
      "needs_background": "light"
     },
     "output_type": "display_data"
    }
   ],
   "source": [
    "model.fit(x=X_train, \n",
    "          y=y_train, \n",
    "          epochs=100, # drgac dej 500\n",
    "          batch_size=32,\n",
    "          validation_data=(X_test, y_test), \n",
    "          )"
   ]
  },
  {
   "cell_type": "code",
   "execution_count": null,
   "metadata": {},
   "outputs": [],
   "source": [
    "losses = pd.DataFrame(model.history.history)\n",
    "losses[['loss','val_loss']].plot()"
   ]
  },
  {
   "cell_type": "code",
   "execution_count": null,
   "metadata": {},
   "outputs": [],
   "source": [
    "res_nn = model.predict(X_test)\n",
    "RRMSE_max_vo2 = 1 - r2_score(y_test, res_nn)\n",
    "print(\"------------------------------\")\n",
    "print(\"OVERALL RRMSE\")\n",
    "print(RRMSE_max_vo2)\n",
    "print(\"OVERALL RMSE\")\n",
    "print(math.sqrt(mean_squared_error(y_test, res_nn)))\n",
    "\n",
    "y_res = list(chain.from_iterable(res_nn))\n",
    "\n",
    "# BLAND-ALTMAN plot\n",
    "sns.scatterplot(x=((y_test + y_res) / 2), y=(y_test - y_res))"
   ]
  },
  {
   "cell_type": "code",
   "execution_count": 35,
   "metadata": {},
   "outputs": [],
   "source": [
    "from sklearn import datasets"
   ]
  },
  {
   "cell_type": "code",
   "execution_count": 36,
   "metadata": {},
   "outputs": [],
   "source": [
    "iris = datasets.load_iris()"
   ]
  },
  {
   "cell_type": "code",
   "execution_count": 43,
   "metadata": {},
   "outputs": [],
   "source": [
    "iris.target\n",
    "X_train_iris, X_test_iris, y_train_iris, y_test_iris = train_test_split(iris.data, np.ravel(iris.target), test_size=0.25, random_state=69)"
   ]
  },
  {
   "cell_type": "code",
   "execution_count": 58,
   "metadata": {},
   "outputs": [],
   "source": [
    "model = Sequential()\n",
    "\n",
    "# https://stats.stackexchange.com/questions/181/how-to-choose-the-number-of-hidden-layers-and-nodes-in-a-feedforward-neural-netw\n",
    "\n",
    "# input layer\n",
    "model.add(Dense(4,  activation='relu'))\n",
    "model.add(Dropout(0.5))\n",
    "\n",
    "# hidden layer\n",
    "model.add(Dense(4, activation='relu'))\n",
    "model.add(Dropout(0.4))\n",
    "\n",
    "# hidden layer\n",
    "model.add(Dense(4, activation='relu'))\n",
    "model.add(Dropout(0.3))\n",
    "\n",
    "# output layer\n",
    "model.add(Dense(3))\n",
    "\n",
    "# compile model\n",
    "model.compile(optimizer='adam',loss='sparse_categorical_crossentropy')"
   ]
  },
  {
   "cell_type": "code",
   "execution_count": 59,
   "metadata": {},
   "outputs": [
    {
     "data": {
      "text/plain": [
       "array([[7. , 3.2, 4.7, 1.4],\n",
       "       [5.9, 3. , 5.1, 1.8],\n",
       "       [5.7, 4.4, 1.5, 0.4],\n",
       "       [6.4, 3.2, 5.3, 2.3],\n",
       "       [5.4, 3. , 4.5, 1.5],\n",
       "       [4.8, 3.1, 1.6, 0.2],\n",
       "       [6.9, 3.1, 4.9, 1.5],\n",
       "       [4.9, 2.4, 3.3, 1. ],\n",
       "       [5.8, 2.7, 5.1, 1.9],\n",
       "       [6.3, 2.5, 4.9, 1.5],\n",
       "       [5.7, 2.6, 3.5, 1. ],\n",
       "       [6.4, 2.9, 4.3, 1.3],\n",
       "       [6.9, 3.1, 5.1, 2.3],\n",
       "       [5. , 3.4, 1.6, 0.4],\n",
       "       [6.7, 3. , 5. , 1.7],\n",
       "       [7.4, 2.8, 6.1, 1.9],\n",
       "       [6.3, 2.8, 5.1, 1.5],\n",
       "       [6.4, 2.8, 5.6, 2.2],\n",
       "       [6.3, 3.3, 4.7, 1.6],\n",
       "       [5.2, 3.4, 1.4, 0.2],\n",
       "       [5.7, 2.8, 4.1, 1.3],\n",
       "       [6.4, 3.2, 4.5, 1.5],\n",
       "       [6.5, 3.2, 5.1, 2. ],\n",
       "       [6.1, 2.8, 4. , 1.3],\n",
       "       [5. , 2. , 3.5, 1. ],\n",
       "       [4.9, 3.6, 1.4, 0.1],\n",
       "       [6.3, 2.3, 4.4, 1.3],\n",
       "       [5.1, 2.5, 3. , 1.1],\n",
       "       [5. , 3. , 1.6, 0.2],\n",
       "       [5.4, 3.9, 1.7, 0.4],\n",
       "       [6.7, 3.1, 4.4, 1.4],\n",
       "       [4.6, 3.4, 1.4, 0.3],\n",
       "       [4.8, 3. , 1.4, 0.1],\n",
       "       [6.2, 2.9, 4.3, 1.3],\n",
       "       [4.9, 3. , 1.4, 0.2],\n",
       "       [6.2, 2.8, 4.8, 1.8],\n",
       "       [5.8, 2.7, 3.9, 1.2],\n",
       "       [7.7, 2.8, 6.7, 2. ],\n",
       "       [6.7, 3.3, 5.7, 2.1],\n",
       "       [5.7, 2.8, 4.5, 1.3],\n",
       "       [7.7, 3. , 6.1, 2.3],\n",
       "       [7.2, 3.6, 6.1, 2.5],\n",
       "       [6.7, 3.3, 5.7, 2.5],\n",
       "       [6.2, 2.2, 4.5, 1.5],\n",
       "       [5.5, 2.5, 4. , 1.3],\n",
       "       [5. , 3.4, 1.5, 0.2],\n",
       "       [5.8, 2.6, 4. , 1.2],\n",
       "       [5. , 3.5, 1.3, 0.3],\n",
       "       [7.9, 3.8, 6.4, 2. ],\n",
       "       [5.6, 2.9, 3.6, 1.3],\n",
       "       [6.8, 3. , 5.5, 2.1],\n",
       "       [6.4, 3.1, 5.5, 1.8],\n",
       "       [5.2, 3.5, 1.5, 0.2],\n",
       "       [6.2, 3.4, 5.4, 2.3],\n",
       "       [5.1, 3.8, 1.6, 0.2],\n",
       "       [4.5, 2.3, 1.3, 0.3],\n",
       "       [6. , 2.2, 4. , 1. ],\n",
       "       [6.5, 3. , 5.5, 1.8],\n",
       "       [5.1, 3.5, 1.4, 0.2],\n",
       "       [4.7, 3.2, 1.6, 0.2],\n",
       "       [6.3, 2.9, 5.6, 1.8],\n",
       "       [6.1, 2.6, 5.6, 1.4],\n",
       "       [6.4, 2.8, 5.6, 2.1],\n",
       "       [5.8, 2.7, 5.1, 1.9],\n",
       "       [5.7, 3.8, 1.7, 0.3],\n",
       "       [6. , 2.9, 4.5, 1.5],\n",
       "       [4.8, 3.4, 1.6, 0.2],\n",
       "       [6.1, 2.9, 4.7, 1.4],\n",
       "       [6. , 2.7, 5.1, 1.6],\n",
       "       [6.7, 2.5, 5.8, 1.8],\n",
       "       [6.9, 3.1, 5.4, 2.1],\n",
       "       [5. , 2.3, 3.3, 1. ],\n",
       "       [5.4, 3.9, 1.3, 0.4],\n",
       "       [4.8, 3. , 1.4, 0.3],\n",
       "       [5.3, 3.7, 1.5, 0.2],\n",
       "       [5.9, 3. , 4.2, 1.5],\n",
       "       [6.1, 3. , 4.6, 1.4],\n",
       "       [7.7, 3.8, 6.7, 2.2],\n",
       "       [6.4, 2.7, 5.3, 1.9],\n",
       "       [6.3, 2.7, 4.9, 1.8],\n",
       "       [6.8, 2.8, 4.8, 1.4],\n",
       "       [5.6, 2.5, 3.9, 1.1],\n",
       "       [5.9, 3.2, 4.8, 1.8],\n",
       "       [6.3, 2.5, 5. , 1.9],\n",
       "       [5.1, 3.7, 1.5, 0.4],\n",
       "       [5.8, 4. , 1.2, 0.2],\n",
       "       [6.7, 3.1, 4.7, 1.5],\n",
       "       [5. , 3.5, 1.6, 0.6],\n",
       "       [5. , 3.2, 1.2, 0.2],\n",
       "       [5.1, 3.3, 1.7, 0.5],\n",
       "       [5.1, 3.8, 1.9, 0.4],\n",
       "       [6. , 3. , 4.8, 1.8],\n",
       "       [6.5, 3. , 5.2, 2. ],\n",
       "       [5.6, 2.8, 4.9, 2. ],\n",
       "       [5.1, 3.4, 1.5, 0.2],\n",
       "       [4.7, 3.2, 1.3, 0.2],\n",
       "       [4.8, 3.4, 1.9, 0.2],\n",
       "       [5.5, 2.4, 3.8, 1.1],\n",
       "       [4.6, 3.1, 1.5, 0.2],\n",
       "       [5.5, 2.3, 4. , 1.3],\n",
       "       [6.6, 3. , 4.4, 1.4],\n",
       "       [4.9, 2.5, 4.5, 1.7],\n",
       "       [6.7, 3.1, 5.6, 2.4],\n",
       "       [5.6, 3. , 4.1, 1.3],\n",
       "       [5.7, 2.9, 4.2, 1.3],\n",
       "       [4.4, 3. , 1.3, 0.2],\n",
       "       [4.9, 3.1, 1.5, 0.1],\n",
       "       [4.6, 3.6, 1. , 0.2],\n",
       "       [5. , 3.3, 1.4, 0.2],\n",
       "       [5.5, 2.6, 4.4, 1.2],\n",
       "       [7.3, 2.9, 6.3, 1.8],\n",
       "       [6.5, 2.8, 4.6, 1.5]])"
      ]
     },
     "execution_count": 59,
     "metadata": {},
     "output_type": "execute_result"
    }
   ],
   "source": [
    "X_train_iris\n"
   ]
  },
  {
   "cell_type": "code",
   "execution_count": 60,
   "metadata": {},
   "outputs": [
    {
     "name": "stdout",
     "output_type": "stream",
     "text": [
      "Epoch 1/100\n",
      "7/7 [==============================] - 0s 20ms/step - loss: 3.2750 - val_loss: 7.0549\n",
      "Epoch 2/100\n",
      "7/7 [==============================] - 0s 3ms/step - loss: 3.5432 - val_loss: 7.0438\n",
      "Epoch 3/100\n",
      "7/7 [==============================] - 0s 3ms/step - loss: 3.2568 - val_loss: 7.0471\n",
      "Epoch 4/100\n",
      "7/7 [==============================] - 0s 3ms/step - loss: 3.2897 - val_loss: 7.0279\n",
      "Epoch 5/100\n",
      "7/7 [==============================] - 0s 4ms/step - loss: 2.6666 - val_loss: 7.0133\n",
      "Epoch 6/100\n",
      "7/7 [==============================] - 0s 4ms/step - loss: 3.5797 - val_loss: 7.0135\n",
      "Epoch 7/100\n",
      "7/7 [==============================] - 0s 4ms/step - loss: 3.5412 - val_loss: 7.0076\n",
      "Epoch 8/100\n",
      "7/7 [==============================] - 0s 3ms/step - loss: 3.1140 - val_loss: 6.9876\n",
      "Epoch 9/100\n",
      "7/7 [==============================] - 0s 4ms/step - loss: 3.4644 - val_loss: 6.9839\n",
      "Epoch 10/100\n",
      "7/7 [==============================] - 0s 5ms/step - loss: 2.9384 - val_loss: 6.9637\n",
      "Epoch 11/100\n",
      "7/7 [==============================] - 0s 4ms/step - loss: 2.8885 - val_loss: 6.9693\n",
      "Epoch 12/100\n",
      "7/7 [==============================] - 0s 4ms/step - loss: 2.9277 - val_loss: 6.9696\n",
      "Epoch 13/100\n",
      "7/7 [==============================] - 0s 4ms/step - loss: 2.7933 - val_loss: 6.9764\n",
      "Epoch 14/100\n",
      "7/7 [==============================] - 0s 4ms/step - loss: 2.0816 - val_loss: 6.9787\n",
      "Epoch 15/100\n",
      "7/7 [==============================] - 0s 4ms/step - loss: 2.6354 - val_loss: 6.9708\n",
      "Epoch 16/100\n",
      "7/7 [==============================] - 0s 5ms/step - loss: 3.0884 - val_loss: 6.9561\n",
      "Epoch 17/100\n",
      "7/7 [==============================] - 0s 4ms/step - loss: 3.0109 - val_loss: 6.9407\n",
      "Epoch 18/100\n",
      "7/7 [==============================] - 0s 4ms/step - loss: 3.3662 - val_loss: 6.9308\n",
      "Epoch 19/100\n",
      "7/7 [==============================] - 0s 4ms/step - loss: 3.2808 - val_loss: 6.9338\n",
      "Epoch 20/100\n",
      "7/7 [==============================] - 0s 4ms/step - loss: 3.1421 - val_loss: 6.9506\n",
      "Epoch 21/100\n",
      "7/7 [==============================] - 0s 5ms/step - loss: 2.3567 - val_loss: 6.9389\n",
      "Epoch 22/100\n",
      "7/7 [==============================] - 0s 4ms/step - loss: 2.9914 - val_loss: 6.9091\n",
      "Epoch 23/100\n",
      "7/7 [==============================] - 0s 4ms/step - loss: 2.7267 - val_loss: 6.8953\n",
      "Epoch 24/100\n",
      "7/7 [==============================] - 0s 5ms/step - loss: 2.8255 - val_loss: 6.8740\n",
      "Epoch 25/100\n",
      "7/7 [==============================] - 0s 4ms/step - loss: 3.0073 - val_loss: 6.8865\n",
      "Epoch 26/100\n",
      "7/7 [==============================] - 0s 4ms/step - loss: 2.6840 - val_loss: 6.9120\n",
      "Epoch 27/100\n",
      "7/7 [==============================] - 0s 4ms/step - loss: 2.7415 - val_loss: 6.9317\n",
      "Epoch 28/100\n",
      "7/7 [==============================] - 0s 5ms/step - loss: 3.0639 - val_loss: 6.9154\n",
      "Epoch 29/100\n",
      "7/7 [==============================] - 0s 4ms/step - loss: 2.7755 - val_loss: 6.9149\n",
      "Epoch 30/100\n",
      "7/7 [==============================] - 0s 4ms/step - loss: 2.7435 - val_loss: 6.9226\n",
      "Epoch 31/100\n",
      "7/7 [==============================] - 0s 5ms/step - loss: 2.8976 - val_loss: 6.9257\n",
      "Epoch 32/100\n",
      "7/7 [==============================] - 0s 6ms/step - loss: 2.9630 - val_loss: 6.9086\n",
      "Epoch 33/100\n",
      "7/7 [==============================] - 0s 4ms/step - loss: 3.3029 - val_loss: 6.8819\n",
      "Epoch 34/100\n",
      "7/7 [==============================] - 0s 4ms/step - loss: 2.5881 - val_loss: 6.8989\n",
      "Epoch 35/100\n",
      "7/7 [==============================] - 0s 4ms/step - loss: 2.6548 - val_loss: 6.8821\n",
      "Epoch 36/100\n",
      "7/7 [==============================] - 0s 4ms/step - loss: 2.4979 - val_loss: 6.8635\n",
      "Epoch 37/100\n",
      "7/7 [==============================] - 0s 4ms/step - loss: 2.6549 - val_loss: 6.8710\n",
      "Epoch 38/100\n",
      "7/7 [==============================] - 0s 5ms/step - loss: 3.3164 - val_loss: 6.8796\n",
      "Epoch 39/100\n",
      "7/7 [==============================] - 0s 5ms/step - loss: 3.4135 - val_loss: 6.8824\n",
      "Epoch 40/100\n",
      "7/7 [==============================] - 0s 4ms/step - loss: 2.6292 - val_loss: 6.8822\n",
      "Epoch 41/100\n",
      "7/7 [==============================] - 0s 4ms/step - loss: 2.4952 - val_loss: 6.9061\n",
      "Epoch 42/100\n",
      "7/7 [==============================] - 0s 4ms/step - loss: 2.7833 - val_loss: 6.9361\n",
      "Epoch 43/100\n",
      "7/7 [==============================] - 0s 5ms/step - loss: 3.5838 - val_loss: 6.9327\n",
      "Epoch 44/100\n",
      "7/7 [==============================] - 0s 4ms/step - loss: 2.4193 - val_loss: 6.8743\n",
      "Epoch 45/100\n",
      "7/7 [==============================] - 0s 4ms/step - loss: 2.3523 - val_loss: 6.8365\n",
      "Epoch 46/100\n",
      "7/7 [==============================] - 0s 5ms/step - loss: 3.4695 - val_loss: 6.8091\n",
      "Epoch 47/100\n",
      "7/7 [==============================] - 0s 4ms/step - loss: 1.9310 - val_loss: 6.7902\n",
      "Epoch 48/100\n",
      "7/7 [==============================] - 0s 4ms/step - loss: 2.9154 - val_loss: 6.7778\n",
      "Epoch 49/100\n",
      "7/7 [==============================] - 0s 4ms/step - loss: 2.0337 - val_loss: 6.7918\n",
      "Epoch 50/100\n",
      "7/7 [==============================] - 0s 4ms/step - loss: 2.1753 - val_loss: 6.8010\n",
      "Epoch 51/100\n",
      "7/7 [==============================] - 0s 4ms/step - loss: 3.3235 - val_loss: 6.7998\n",
      "Epoch 52/100\n",
      "7/7 [==============================] - 0s 4ms/step - loss: 2.9617 - val_loss: 6.7924\n",
      "Epoch 53/100\n",
      "7/7 [==============================] - 0s 4ms/step - loss: 3.1810 - val_loss: 6.7849\n",
      "Epoch 54/100\n",
      "7/7 [==============================] - 0s 4ms/step - loss: 2.9759 - val_loss: 6.7769\n",
      "Epoch 55/100\n",
      "7/7 [==============================] - 0s 4ms/step - loss: 3.4076 - val_loss: 6.7737\n",
      "Epoch 56/100\n",
      "7/7 [==============================] - 0s 4ms/step - loss: 3.4611 - val_loss: 6.7718\n",
      "Epoch 57/100\n",
      "7/7 [==============================] - 0s 4ms/step - loss: 2.5722 - val_loss: 6.7652\n",
      "Epoch 58/100\n",
      "7/7 [==============================] - 0s 4ms/step - loss: 2.5894 - val_loss: 6.7558\n",
      "Epoch 59/100\n",
      "7/7 [==============================] - 0s 4ms/step - loss: 3.1808 - val_loss: 6.7434\n",
      "Epoch 60/100\n",
      "7/7 [==============================] - 0s 4ms/step - loss: 3.3757 - val_loss: 6.7333\n",
      "Epoch 61/100\n",
      "7/7 [==============================] - 0s 5ms/step - loss: 2.7467 - val_loss: 6.7234\n",
      "Epoch 62/100\n",
      "7/7 [==============================] - 0s 4ms/step - loss: 3.2712 - val_loss: 6.7474\n",
      "Epoch 63/100\n",
      "7/7 [==============================] - 0s 4ms/step - loss: 2.8709 - val_loss: 6.7540\n",
      "Epoch 64/100\n",
      "7/7 [==============================] - 0s 4ms/step - loss: 3.2815 - val_loss: 6.7558\n",
      "Epoch 65/100\n",
      "7/7 [==============================] - 0s 4ms/step - loss: 2.6974 - val_loss: 6.7531\n",
      "Epoch 66/100\n",
      "7/7 [==============================] - 0s 4ms/step - loss: 1.6501 - val_loss: 6.7500\n",
      "Epoch 67/100\n",
      "7/7 [==============================] - 0s 4ms/step - loss: 2.9708 - val_loss: 6.7487\n",
      "Epoch 68/100\n",
      "7/7 [==============================] - 0s 5ms/step - loss: 2.9427 - val_loss: 6.7465\n",
      "Epoch 69/100\n",
      "7/7 [==============================] - 0s 5ms/step - loss: 3.3519 - val_loss: 6.7424\n",
      "Epoch 70/100\n",
      "7/7 [==============================] - 0s 4ms/step - loss: 2.7554 - val_loss: 6.8582\n",
      "Epoch 71/100\n",
      "7/7 [==============================] - 0s 5ms/step - loss: 2.1584 - val_loss: 6.9095\n",
      "Epoch 72/100\n",
      "7/7 [==============================] - 0s 4ms/step - loss: 3.4026 - val_loss: 6.9303\n",
      "Epoch 73/100\n",
      "7/7 [==============================] - 0s 5ms/step - loss: 2.5827 - val_loss: 6.9387\n",
      "Epoch 74/100\n",
      "7/7 [==============================] - 0s 4ms/step - loss: 2.2356 - val_loss: 6.9442\n",
      "Epoch 75/100\n",
      "7/7 [==============================] - 0s 5ms/step - loss: 2.3633 - val_loss: 6.9461\n",
      "Epoch 76/100\n",
      "7/7 [==============================] - 0s 4ms/step - loss: 3.2983 - val_loss: 6.9468\n",
      "Epoch 77/100\n",
      "7/7 [==============================] - 0s 4ms/step - loss: 2.8719 - val_loss: 6.9608\n",
      "Epoch 78/100\n",
      "7/7 [==============================] - 0s 4ms/step - loss: 2.5084 - val_loss: 6.9695\n",
      "Epoch 79/100\n",
      "7/7 [==============================] - 0s 4ms/step - loss: 3.0397 - val_loss: 6.9722\n",
      "Epoch 80/100\n",
      "7/7 [==============================] - 0s 4ms/step - loss: 2.6425 - val_loss: 6.9680\n",
      "Epoch 81/100\n",
      "7/7 [==============================] - 0s 4ms/step - loss: 2.5566 - val_loss: 6.9631\n",
      "Epoch 82/100\n",
      "7/7 [==============================] - 0s 4ms/step - loss: 1.9472 - val_loss: 6.9626\n",
      "Epoch 83/100\n",
      "7/7 [==============================] - 0s 5ms/step - loss: 2.2687 - val_loss: 6.9591\n",
      "Epoch 84/100\n",
      "7/7 [==============================] - 0s 5ms/step - loss: 1.9130 - val_loss: 6.9560\n",
      "Epoch 85/100\n",
      "7/7 [==============================] - 0s 5ms/step - loss: 3.4695 - val_loss: 6.9536\n",
      "Epoch 86/100\n",
      "7/7 [==============================] - 0s 5ms/step - loss: 2.3938 - val_loss: 6.9506\n",
      "Epoch 87/100\n",
      "7/7 [==============================] - 0s 5ms/step - loss: 2.3639 - val_loss: 6.9495\n",
      "Epoch 88/100\n",
      "7/7 [==============================] - 0s 5ms/step - loss: 3.1881 - val_loss: 6.9421\n",
      "Epoch 89/100\n",
      "7/7 [==============================] - 0s 5ms/step - loss: 2.1008 - val_loss: 6.9330\n",
      "Epoch 90/100\n",
      "7/7 [==============================] - 0s 6ms/step - loss: 2.9498 - val_loss: 6.9281\n",
      "Epoch 91/100\n",
      "7/7 [==============================] - 0s 5ms/step - loss: 2.5654 - val_loss: 6.9242\n",
      "Epoch 92/100\n",
      "7/7 [==============================] - 0s 5ms/step - loss: 3.4870 - val_loss: 6.9248\n",
      "Epoch 93/100\n",
      "7/7 [==============================] - 0s 5ms/step - loss: 2.2267 - val_loss: 6.9214\n",
      "Epoch 94/100\n",
      "7/7 [==============================] - 0s 4ms/step - loss: 2.3448 - val_loss: 6.9230\n",
      "Epoch 95/100\n",
      "7/7 [==============================] - 0s 4ms/step - loss: 2.3677 - val_loss: 6.9227\n",
      "Epoch 96/100\n",
      "7/7 [==============================] - 0s 4ms/step - loss: 2.2283 - val_loss: 6.9173\n",
      "Epoch 97/100\n",
      "7/7 [==============================] - 0s 4ms/step - loss: 2.2254 - val_loss: 6.9172\n",
      "Epoch 98/100\n",
      "7/7 [==============================] - 0s 4ms/step - loss: 1.9300 - val_loss: 6.9183\n",
      "Epoch 99/100\n",
      "7/7 [==============================] - 0s 4ms/step - loss: 2.6322 - val_loss: 6.9198\n",
      "Epoch 100/100\n",
      "7/7 [==============================] - 0s 4ms/step - loss: 2.5388 - val_loss: 6.9207\n"
     ]
    },
    {
     "data": {
      "text/plain": [
       "<tensorflow.python.keras.callbacks.History at 0x1efb02e7310>"
      ]
     },
     "execution_count": 60,
     "metadata": {},
     "output_type": "execute_result"
    }
   ],
   "source": [
    "model.fit(x=X_train_iris, \n",
    "          y=y_train_iris, \n",
    "          epochs=100, # drgac dej 500\n",
    "          batch_size=16,\n",
    "          validation_data=(X_test_iris, y_test_iris), \n",
    "          )"
   ]
  },
  {
   "cell_type": "code",
   "execution_count": 61,
   "metadata": {},
   "outputs": [
    {
     "data": {
      "text/plain": [
       "<matplotlib.axes._subplots.AxesSubplot at 0x1efb063c400>"
      ]
     },
     "execution_count": 61,
     "metadata": {},
     "output_type": "execute_result"
    },
    {
     "data": {
      "image/png": "[encoded data removed]",
      "text/plain": [
       "<Figure size 432x288 with 1 Axes>"
      ]
     },
     "metadata": {
      "needs_background": "light"
     },
     "output_type": "display_data"
    }
   ],
   "source": [
    "losses = pd.DataFrame(model.history.history)\n",
    "losses[['loss','val_loss']].plot()"
   ]
  }
 ],
 "metadata": {
  "kernelspec": {
   "display_name": "Python 3",
   "language": "python",
   "name": "python3"
  },
  "language_info": {
   "codemirror_mode": {
    "name": "ipython",
    "version": 3
   },
   "file_extension": ".py",
   "mimetype": "text/x-python",
   "name": "python",
   "nbconvert_exporter": "python",
   "pygments_lexer": "ipython3",
   "version": "3.8.3"
  }
 },
 "nbformat": 4,
 "nbformat_minor": 4
}
