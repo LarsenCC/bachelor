{
 "cells": [
  {
   "cell_type": "markdown",
   "metadata": {
    "id": "VjI333WzK-FA"
   },
   "source": [
    "# DATA\n",
    "\n"
   ]
  },
  {
   "cell_type": "code",
   "execution_count": 1,
   "metadata": {
    "executionInfo": {
     "elapsed": 1000,
     "status": "ok",
     "timestamp": 1607780252025,
     "user": {
      "displayName": "Larsen Cundric",
      "photoUrl": "https://lh3.googleusercontent.com/a-/AOh14GgzJB6nqoH0QtGNHOx7SrwdJIExEzonaTUk8Bg2_g=s64",
      "userId": "08098638247065522111"
     },
     "user_tz": -60
    },
    "id": "Ims6BvyyK0aL"
   },
   "outputs": [],
   "source": [
    "import pandas as pd\n",
    "import numpy as np\n",
    "import seaborn as sns\n",
    "import matplotlib.pyplot as plt\n",
    "import math\n",
    "%matplotlib inline"
   ]
  },
  {
   "cell_type": "code",
   "execution_count": 2,
   "metadata": {
    "colab": {
     "base_uri": "https://localhost:8080/",
     "height": 258
    },
    "executionInfo": {
     "elapsed": 1240,
     "status": "ok",
     "timestamp": 1607780294947,
     "user": {
      "displayName": "Larsen Cundric",
      "photoUrl": "https://lh3.googleusercontent.com/a-/AOh14GgzJB6nqoH0QtGNHOx7SrwdJIExEzonaTUk8Bg2_g=s64",
      "userId": "08098638247065522111"
     },
     "user_tz": -60
    },
    "id": "pkYXkIudJ_BP",
    "outputId": "2b3c8fe7-be6c-4d2c-f9c8-67d07ecbda1d"
   },
   "outputs": [
    {
     "data": {
      "text/html": [
       "<div>\n",
       "<style scoped>\n",
       "    .dataframe tbody tr th:only-of-type {\n",
       "        vertical-align: middle;\n",
       "    }\n",
       "\n",
       "    .dataframe tbody tr th {\n",
       "        vertical-align: top;\n",
       "    }\n",
       "\n",
       "    .dataframe thead th {\n",
       "        text-align: right;\n",
       "    }\n",
       "</style>\n",
       "<table border=\"1\" class=\"dataframe\">\n",
       "  <thead>\n",
       "    <tr style=\"text-align: right;\">\n",
       "      <th></th>\n",
       "      <th>Unnamed: 0</th>\n",
       "      <th>Smoked</th>\n",
       "      <th>PhysInactive</th>\n",
       "      <th>Aritmia</th>\n",
       "      <th>waist</th>\n",
       "      <th>bodyfat</th>\n",
       "      <th>fvc</th>\n",
       "      <th>fev1</th>\n",
       "      <th>AnyMeds AN do AY</th>\n",
       "      <th>All_disease</th>\n",
       "      <th>...</th>\n",
       "      <th>CR_Code_4.0</th>\n",
       "      <th>CR_Code_5.0</th>\n",
       "      <th>ethnic_code_1.0</th>\n",
       "      <th>ethnic_code_2.0</th>\n",
       "      <th>ethnic_code_3.0</th>\n",
       "      <th>ethnic_code_4.0</th>\n",
       "      <th>ethnic_code_5.0</th>\n",
       "      <th>max_hr</th>\n",
       "      <th>vo2_l_min</th>\n",
       "      <th>vo2_ml_kg_min</th>\n",
       "    </tr>\n",
       "  </thead>\n",
       "  <tbody>\n",
       "    <tr>\n",
       "      <th>0</th>\n",
       "      <td>0</td>\n",
       "      <td>0.0</td>\n",
       "      <td>1.0</td>\n",
       "      <td>0.0</td>\n",
       "      <td>0.333921</td>\n",
       "      <td>0.150895</td>\n",
       "      <td>0.452555</td>\n",
       "      <td>0.320819</td>\n",
       "      <td>0.0</td>\n",
       "      <td>0.0</td>\n",
       "      <td>...</td>\n",
       "      <td>0.0</td>\n",
       "      <td>0.0</td>\n",
       "      <td>0.0</td>\n",
       "      <td>0.0</td>\n",
       "      <td>0.0</td>\n",
       "      <td>0.0</td>\n",
       "      <td>0.0</td>\n",
       "      <td>166.0</td>\n",
       "      <td>5.15300</td>\n",
       "      <td>47.8</td>\n",
       "    </tr>\n",
       "    <tr>\n",
       "      <th>1</th>\n",
       "      <td>1</td>\n",
       "      <td>0.0</td>\n",
       "      <td>1.0</td>\n",
       "      <td>0.0</td>\n",
       "      <td>0.385551</td>\n",
       "      <td>0.300159</td>\n",
       "      <td>0.416058</td>\n",
       "      <td>0.462457</td>\n",
       "      <td>0.0</td>\n",
       "      <td>1.0</td>\n",
       "      <td>...</td>\n",
       "      <td>0.0</td>\n",
       "      <td>0.0</td>\n",
       "      <td>0.0</td>\n",
       "      <td>0.0</td>\n",
       "      <td>0.0</td>\n",
       "      <td>1.0</td>\n",
       "      <td>0.0</td>\n",
       "      <td>142.0</td>\n",
       "      <td>2.66304</td>\n",
       "      <td>45.6</td>\n",
       "    </tr>\n",
       "    <tr>\n",
       "      <th>2</th>\n",
       "      <td>2</td>\n",
       "      <td>0.0</td>\n",
       "      <td>0.0</td>\n",
       "      <td>0.0</td>\n",
       "      <td>0.385551</td>\n",
       "      <td>0.537049</td>\n",
       "      <td>0.416058</td>\n",
       "      <td>0.462457</td>\n",
       "      <td>1.0</td>\n",
       "      <td>0.0</td>\n",
       "      <td>...</td>\n",
       "      <td>0.0</td>\n",
       "      <td>0.0</td>\n",
       "      <td>0.0</td>\n",
       "      <td>0.0</td>\n",
       "      <td>0.0</td>\n",
       "      <td>1.0</td>\n",
       "      <td>0.0</td>\n",
       "      <td>160.0</td>\n",
       "      <td>2.64000</td>\n",
       "      <td>29.0</td>\n",
       "    </tr>\n",
       "    <tr>\n",
       "      <th>3</th>\n",
       "      <td>4</td>\n",
       "      <td>1.0</td>\n",
       "      <td>1.0</td>\n",
       "      <td>0.0</td>\n",
       "      <td>0.409780</td>\n",
       "      <td>0.259484</td>\n",
       "      <td>0.416058</td>\n",
       "      <td>0.462457</td>\n",
       "      <td>1.0</td>\n",
       "      <td>1.0</td>\n",
       "      <td>...</td>\n",
       "      <td>0.0</td>\n",
       "      <td>0.0</td>\n",
       "      <td>0.0</td>\n",
       "      <td>0.0</td>\n",
       "      <td>0.0</td>\n",
       "      <td>0.0</td>\n",
       "      <td>0.0</td>\n",
       "      <td>183.0</td>\n",
       "      <td>1.98000</td>\n",
       "      <td>22.9</td>\n",
       "    </tr>\n",
       "    <tr>\n",
       "      <th>4</th>\n",
       "      <td>5</td>\n",
       "      <td>0.0</td>\n",
       "      <td>0.0</td>\n",
       "      <td>0.0</td>\n",
       "      <td>0.385551</td>\n",
       "      <td>0.300159</td>\n",
       "      <td>0.108029</td>\n",
       "      <td>0.121160</td>\n",
       "      <td>0.0</td>\n",
       "      <td>0.0</td>\n",
       "      <td>...</td>\n",
       "      <td>0.0</td>\n",
       "      <td>0.0</td>\n",
       "      <td>0.0</td>\n",
       "      <td>0.0</td>\n",
       "      <td>0.0</td>\n",
       "      <td>0.0</td>\n",
       "      <td>0.0</td>\n",
       "      <td>100.0</td>\n",
       "      <td>1.96800</td>\n",
       "      <td>27.8</td>\n",
       "    </tr>\n",
       "  </tbody>\n",
       "</table>\n",
       "<p>5 rows × 31 columns</p>\n",
       "</div>"
      ],
      "text/plain": [
       "   Unnamed: 0  Smoked  PhysInactive  Aritmia     waist   bodyfat       fvc  \\\n",
       "0           0     0.0           1.0      0.0  0.333921  0.150895  0.452555   \n",
       "1           1     0.0           1.0      0.0  0.385551  0.300159  0.416058   \n",
       "2           2     0.0           0.0      0.0  0.385551  0.537049  0.416058   \n",
       "3           4     1.0           1.0      0.0  0.409780  0.259484  0.416058   \n",
       "4           5     0.0           0.0      0.0  0.385551  0.300159  0.108029   \n",
       "\n",
       "       fev1  AnyMeds AN do AY   All_disease  ...  CR_Code_4.0  CR_Code_5.0  \\\n",
       "0  0.320819                0.0          0.0  ...          0.0          0.0   \n",
       "1  0.462457                0.0          1.0  ...          0.0          0.0   \n",
       "2  0.462457                1.0          0.0  ...          0.0          0.0   \n",
       "3  0.462457                1.0          1.0  ...          0.0          0.0   \n",
       "4  0.121160                0.0          0.0  ...          0.0          0.0   \n",
       "\n",
       "   ethnic_code_1.0  ethnic_code_2.0  ethnic_code_3.0  ethnic_code_4.0  \\\n",
       "0              0.0              0.0              0.0              0.0   \n",
       "1              0.0              0.0              0.0              1.0   \n",
       "2              0.0              0.0              0.0              1.0   \n",
       "3              0.0              0.0              0.0              0.0   \n",
       "4              0.0              0.0              0.0              0.0   \n",
       "\n",
       "   ethnic_code_5.0  max_hr  vo2_l_min  vo2_ml_kg_min  \n",
       "0              0.0   166.0    5.15300           47.8  \n",
       "1              0.0   142.0    2.66304           45.6  \n",
       "2              0.0   160.0    2.64000           29.0  \n",
       "3              0.0   183.0    1.98000           22.9  \n",
       "4              0.0   100.0    1.96800           27.8  \n",
       "\n",
       "[5 rows x 31 columns]"
      ]
     },
     "execution_count": 2,
     "metadata": {},
     "output_type": "execute_result"
    }
   ],
   "source": [
    "df = pd.read_csv(\"data/basic2.csv\")\n",
    "df.head()"
   ]
  },
  {
   "cell_type": "code",
   "execution_count": 3,
   "metadata": {
    "executionInfo": {
     "elapsed": 954,
     "status": "ok",
     "timestamp": 1607781840210,
     "user": {
      "displayName": "Larsen Cundric",
      "photoUrl": "https://lh3.googleusercontent.com/a-/AOh14GgzJB6nqoH0QtGNHOx7SrwdJIExEzonaTUk8Bg2_g=s64",
      "userId": "08098638247065522111"
     },
     "user_tz": -60
    },
    "id": "6PGOR1DrNBbf"
   },
   "outputs": [],
   "source": [
    "from sklearn.linear_model import LinearRegression, Lasso\n",
    "from sklearn.metrics import r2_score\n",
    "from sklearn.model_selection import train_test_split\n",
    "from sklearn.model_selection import cross_validate\n",
    "from sklearn.metrics import mean_squared_error"
   ]
  },
  {
   "cell_type": "markdown",
   "metadata": {
    "id": "32EflBQbLWxU"
   },
   "source": [
    "# LM max_hr"
   ]
  },
  {
   "cell_type": "code",
   "execution_count": 4,
   "metadata": {
    "executionInfo": {
     "elapsed": 1584,
     "status": "ok",
     "timestamp": 1607784146325,
     "user": {
      "displayName": "Larsen Cundric",
      "photoUrl": "https://lh3.googleusercontent.com/a-/AOh14GgzJB6nqoH0QtGNHOx7SrwdJIExEzonaTUk8Bg2_g=s64",
      "userId": "08098638247065522111"
     },
     "user_tz": -60
    },
    "id": "QVtIaV--Lh53"
   },
   "outputs": [],
   "source": [
    "X = df.drop(['max_hr', 'vo2_l_min', 'vo2_ml_kg_min', 'Unnamed: 0'], axis=1)\n",
    "y = df['max_hr']"
   ]
  },
  {
   "cell_type": "code",
   "execution_count": 5,
   "metadata": {
    "colab": {
     "base_uri": "https://localhost:8080/",
     "height": 204
    },
    "executionInfo": {
     "elapsed": 1002,
     "status": "ok",
     "timestamp": 1607784146328,
     "user": {
      "displayName": "Larsen Cundric",
      "photoUrl": "https://lh3.googleusercontent.com/a-/AOh14GgzJB6nqoH0QtGNHOx7SrwdJIExEzonaTUk8Bg2_g=s64",
      "userId": "08098638247065522111"
     },
     "user_tz": -60
    },
    "id": "KNowGMANMkw3",
    "outputId": "b9a1487c-3db4-4dbf-c44e-989afba787ce"
   },
   "outputs": [
    {
     "data": {
      "text/html": [
       "<div>\n",
       "<style scoped>\n",
       "    .dataframe tbody tr th:only-of-type {\n",
       "        vertical-align: middle;\n",
       "    }\n",
       "\n",
       "    .dataframe tbody tr th {\n",
       "        vertical-align: top;\n",
       "    }\n",
       "\n",
       "    .dataframe thead th {\n",
       "        text-align: right;\n",
       "    }\n",
       "</style>\n",
       "<table border=\"1\" class=\"dataframe\">\n",
       "  <thead>\n",
       "    <tr style=\"text-align: right;\">\n",
       "      <th></th>\n",
       "      <th>Smoked</th>\n",
       "      <th>PhysInactive</th>\n",
       "      <th>Aritmia</th>\n",
       "      <th>waist</th>\n",
       "      <th>bodyfat</th>\n",
       "      <th>fvc</th>\n",
       "      <th>fev1</th>\n",
       "      <th>AnyMeds AN do AY</th>\n",
       "      <th>All_disease</th>\n",
       "      <th>resting_dbp</th>\n",
       "      <th>...</th>\n",
       "      <th>CR_Code_1.0</th>\n",
       "      <th>CR_Code_2.0</th>\n",
       "      <th>CR_Code_3.0</th>\n",
       "      <th>CR_Code_4.0</th>\n",
       "      <th>CR_Code_5.0</th>\n",
       "      <th>ethnic_code_1.0</th>\n",
       "      <th>ethnic_code_2.0</th>\n",
       "      <th>ethnic_code_3.0</th>\n",
       "      <th>ethnic_code_4.0</th>\n",
       "      <th>ethnic_code_5.0</th>\n",
       "    </tr>\n",
       "  </thead>\n",
       "  <tbody>\n",
       "    <tr>\n",
       "      <th>0</th>\n",
       "      <td>0.0</td>\n",
       "      <td>1.0</td>\n",
       "      <td>0.0</td>\n",
       "      <td>0.333921</td>\n",
       "      <td>0.150895</td>\n",
       "      <td>0.452555</td>\n",
       "      <td>0.320819</td>\n",
       "      <td>0.0</td>\n",
       "      <td>0.0</td>\n",
       "      <td>0.525000</td>\n",
       "      <td>...</td>\n",
       "      <td>0.0</td>\n",
       "      <td>1.0</td>\n",
       "      <td>0.0</td>\n",
       "      <td>0.0</td>\n",
       "      <td>0.0</td>\n",
       "      <td>0.0</td>\n",
       "      <td>0.0</td>\n",
       "      <td>0.0</td>\n",
       "      <td>0.0</td>\n",
       "      <td>0.0</td>\n",
       "    </tr>\n",
       "    <tr>\n",
       "      <th>1</th>\n",
       "      <td>0.0</td>\n",
       "      <td>1.0</td>\n",
       "      <td>0.0</td>\n",
       "      <td>0.385551</td>\n",
       "      <td>0.300159</td>\n",
       "      <td>0.416058</td>\n",
       "      <td>0.462457</td>\n",
       "      <td>0.0</td>\n",
       "      <td>1.0</td>\n",
       "      <td>0.484375</td>\n",
       "      <td>...</td>\n",
       "      <td>0.0</td>\n",
       "      <td>1.0</td>\n",
       "      <td>0.0</td>\n",
       "      <td>0.0</td>\n",
       "      <td>0.0</td>\n",
       "      <td>0.0</td>\n",
       "      <td>0.0</td>\n",
       "      <td>0.0</td>\n",
       "      <td>1.0</td>\n",
       "      <td>0.0</td>\n",
       "    </tr>\n",
       "    <tr>\n",
       "      <th>2</th>\n",
       "      <td>0.0</td>\n",
       "      <td>0.0</td>\n",
       "      <td>0.0</td>\n",
       "      <td>0.385551</td>\n",
       "      <td>0.537049</td>\n",
       "      <td>0.416058</td>\n",
       "      <td>0.462457</td>\n",
       "      <td>1.0</td>\n",
       "      <td>0.0</td>\n",
       "      <td>0.484375</td>\n",
       "      <td>...</td>\n",
       "      <td>0.0</td>\n",
       "      <td>1.0</td>\n",
       "      <td>0.0</td>\n",
       "      <td>0.0</td>\n",
       "      <td>0.0</td>\n",
       "      <td>0.0</td>\n",
       "      <td>0.0</td>\n",
       "      <td>0.0</td>\n",
       "      <td>1.0</td>\n",
       "      <td>0.0</td>\n",
       "    </tr>\n",
       "    <tr>\n",
       "      <th>3</th>\n",
       "      <td>1.0</td>\n",
       "      <td>1.0</td>\n",
       "      <td>0.0</td>\n",
       "      <td>0.409780</td>\n",
       "      <td>0.259484</td>\n",
       "      <td>0.416058</td>\n",
       "      <td>0.462457</td>\n",
       "      <td>1.0</td>\n",
       "      <td>1.0</td>\n",
       "      <td>0.425000</td>\n",
       "      <td>...</td>\n",
       "      <td>0.0</td>\n",
       "      <td>1.0</td>\n",
       "      <td>0.0</td>\n",
       "      <td>0.0</td>\n",
       "      <td>0.0</td>\n",
       "      <td>0.0</td>\n",
       "      <td>0.0</td>\n",
       "      <td>0.0</td>\n",
       "      <td>0.0</td>\n",
       "      <td>0.0</td>\n",
       "    </tr>\n",
       "    <tr>\n",
       "      <th>4</th>\n",
       "      <td>0.0</td>\n",
       "      <td>0.0</td>\n",
       "      <td>0.0</td>\n",
       "      <td>0.385551</td>\n",
       "      <td>0.300159</td>\n",
       "      <td>0.108029</td>\n",
       "      <td>0.121160</td>\n",
       "      <td>0.0</td>\n",
       "      <td>0.0</td>\n",
       "      <td>0.275000</td>\n",
       "      <td>...</td>\n",
       "      <td>1.0</td>\n",
       "      <td>0.0</td>\n",
       "      <td>0.0</td>\n",
       "      <td>0.0</td>\n",
       "      <td>0.0</td>\n",
       "      <td>0.0</td>\n",
       "      <td>0.0</td>\n",
       "      <td>0.0</td>\n",
       "      <td>0.0</td>\n",
       "      <td>0.0</td>\n",
       "    </tr>\n",
       "  </tbody>\n",
       "</table>\n",
       "<p>5 rows × 27 columns</p>\n",
       "</div>"
      ],
      "text/plain": [
       "   Smoked  PhysInactive  Aritmia     waist   bodyfat       fvc      fev1  \\\n",
       "0     0.0           1.0      0.0  0.333921  0.150895  0.452555  0.320819   \n",
       "1     0.0           1.0      0.0  0.385551  0.300159  0.416058  0.462457   \n",
       "2     0.0           0.0      0.0  0.385551  0.537049  0.416058  0.462457   \n",
       "3     1.0           1.0      0.0  0.409780  0.259484  0.416058  0.462457   \n",
       "4     0.0           0.0      0.0  0.385551  0.300159  0.108029  0.121160   \n",
       "\n",
       "   AnyMeds AN do AY   All_disease  resting_dbp  ...  CR_Code_1.0  CR_Code_2.0  \\\n",
       "0                0.0          0.0     0.525000  ...          0.0          1.0   \n",
       "1                0.0          1.0     0.484375  ...          0.0          1.0   \n",
       "2                1.0          0.0     0.484375  ...          0.0          1.0   \n",
       "3                1.0          1.0     0.425000  ...          0.0          1.0   \n",
       "4                0.0          0.0     0.275000  ...          1.0          0.0   \n",
       "\n",
       "   CR_Code_3.0  CR_Code_4.0  CR_Code_5.0  ethnic_code_1.0  ethnic_code_2.0  \\\n",
       "0          0.0          0.0          0.0              0.0              0.0   \n",
       "1          0.0          0.0          0.0              0.0              0.0   \n",
       "2          0.0          0.0          0.0              0.0              0.0   \n",
       "3          0.0          0.0          0.0              0.0              0.0   \n",
       "4          0.0          0.0          0.0              0.0              0.0   \n",
       "\n",
       "   ethnic_code_3.0  ethnic_code_4.0  ethnic_code_5.0  \n",
       "0              0.0              0.0              0.0  \n",
       "1              0.0              1.0              0.0  \n",
       "2              0.0              1.0              0.0  \n",
       "3              0.0              0.0              0.0  \n",
       "4              0.0              0.0              0.0  \n",
       "\n",
       "[5 rows x 27 columns]"
      ]
     },
     "execution_count": 5,
     "metadata": {},
     "output_type": "execute_result"
    }
   ],
   "source": [
    "X.head()"
   ]
  },
  {
   "cell_type": "code",
   "execution_count": 6,
   "metadata": {},
   "outputs": [
    {
     "data": {
      "text/plain": [
       "0    166.0\n",
       "1    142.0\n",
       "2    160.0\n",
       "3    183.0\n",
       "4    100.0\n",
       "Name: max_hr, dtype: float64"
      ]
     },
     "execution_count": 6,
     "metadata": {},
     "output_type": "execute_result"
    }
   ],
   "source": [
    "y.head()"
   ]
  },
  {
   "cell_type": "markdown",
   "metadata": {},
   "source": [
    "# CROSSVALIDATION with all data"
   ]
  },
  {
   "cell_type": "code",
   "execution_count": 7,
   "metadata": {
    "colab": {
     "base_uri": "https://localhost:8080/"
    },
    "executionInfo": {
     "elapsed": 2978,
     "status": "ok",
     "timestamp": 1607784152469,
     "user": {
      "displayName": "Larsen Cundric",
      "photoUrl": "https://lh3.googleusercontent.com/a-/AOh14GgzJB6nqoH0QtGNHOx7SrwdJIExEzonaTUk8Bg2_g=s64",
      "userId": "08098638247065522111"
     },
     "user_tz": -60
    },
    "id": "zhmrS3yiMfhC",
    "outputId": "61094cb0-89ad-4456-a4ca-65be30ea9897"
   },
   "outputs": [],
   "source": [
    "lm = LinearRegression()\n",
    "scores = cross_validate(lm, X, y, cv=10, \n",
    "                        scoring=('r2'), \n",
    "                        return_train_score=True)\n",
    "\n",
    "# print(1 - scores['test_r2'])\n",
    "# scores with 95% accuracy\n",
    "# print(\"RRMSE: %0.2f (+/- %0.2f)\" % (1 - scores['test_r2'].mean(), scores['test_r2'].std() * 2))"
   ]
  },
  {
   "cell_type": "code",
   "execution_count": 8,
   "metadata": {},
   "outputs": [
    {
     "data": {
      "text/plain": [
       "{'fit_time': array([0.16425848, 0.01396275, 0.01396251, 0.01296473, 0.01197004,\n",
       "        0.0129652 , 0.0119679 , 0.01299667, 0.01399541, 0.012007  ]),\n",
       " 'score_time': array([0.0039885 , 0.00302958, 0.00199485, 0.00103426, 0.00199485,\n",
       "        0.00199533, 0.00199461, 0.00196195, 0.00200129, 0.00202417]),\n",
       " 'test_score': array([ -3.56162753, -11.06562833, -20.27729836, -30.75045409,\n",
       "        -29.73000233,   0.56036674, -15.76482745, -11.35041226,\n",
       "        -14.32176638,  -7.34211052]),\n",
       " 'train_score': array([0.56549605, 0.53957267, 0.52292978, 0.50491501, 0.47575189,\n",
       "        0.45065369, 0.48093454, 0.51168595, 0.53975808, 0.57459488])}"
      ]
     },
     "execution_count": 8,
     "metadata": {},
     "output_type": "execute_result"
    }
   ],
   "source": [
    "scores"
   ]
  },
  {
   "cell_type": "code",
   "execution_count": 9,
   "metadata": {},
   "outputs": [],
   "source": [
    "clf = Lasso(alpha=0.1)"
   ]
  },
  {
   "cell_type": "code",
   "execution_count": 10,
   "metadata": {},
   "outputs": [],
   "source": [
    "scores = cross_validate(clf, X, y, cv=10, \n",
    "                        scoring=('r2', 'neg_mean_squared_error'), \n",
    "                        return_train_score=True)"
   ]
  },
  {
   "cell_type": "code",
   "execution_count": 11,
   "metadata": {},
   "outputs": [
    {
     "data": {
      "text/plain": [
       "{'fit_time': array([0.02197814, 0.01695442, 0.0129416 , 0.01196766, 0.01196814,\n",
       "        0.0129652 , 0.01196814, 0.01196861, 0.01196861, 0.01196861]),\n",
       " 'score_time': array([0.00199318, 0.00299215, 0.00199437, 0.00199461, 0.00199413,\n",
       "        0.00299191, 0.00299215, 0.00299168, 0.00199461, 0.00199413]),\n",
       " 'test_r2': array([ -3.39763491, -10.0172957 , -18.34239029, -30.19272092,\n",
       "        -32.39006914,   0.50431574, -17.5704557 , -10.42698543,\n",
       "        -11.54976669,  -7.88369828]),\n",
       " 'train_r2': array([0.54956382, 0.52821496, 0.51070614, 0.492298  , 0.46174822,\n",
       "        0.43303547, 0.46668602, 0.49838314, 0.52578689, 0.56036786]),\n",
       " 'test_neg_mean_squared_error': array([-368.77043197,  -97.90322174,  -84.25153036, -129.6886753 ,\n",
       "        -240.53802494, -814.40959816, -366.06391021, -103.83161179,\n",
       "        -101.47102709, -383.58343728]),\n",
       " 'train_neg_mean_squared_error': array([-193.86348197, -216.7718621 , -218.41745394, -214.1926945 ,\n",
       "        -206.0034745 , -156.90551509, -196.17182815, -216.88897074,\n",
       "        -216.79231871, -196.94337965])}"
      ]
     },
     "execution_count": 11,
     "metadata": {},
     "output_type": "execute_result"
    }
   ],
   "source": [
    "scores"
   ]
  },
  {
   "cell_type": "markdown",
   "metadata": {},
   "source": [
    "Build model"
   ]
  },
  {
   "cell_type": "code",
   "execution_count": 12,
   "metadata": {
    "colab": {
     "base_uri": "https://localhost:8080/"
    },
    "executionInfo": {
     "elapsed": 2013,
     "status": "ok",
     "timestamp": 1607784152470,
     "user": {
      "displayName": "Larsen Cundric",
      "photoUrl": "https://lh3.googleusercontent.com/a-/AOh14GgzJB6nqoH0QtGNHOx7SrwdJIExEzonaTUk8Bg2_g=s64",
      "userId": "08098638247065522111"
     },
     "user_tz": -60
    },
    "id": "NL2abkUySsiq",
    "outputId": "f055a389-ea54-403b-a279-2580f43e5ec6"
   },
   "outputs": [
    {
     "data": {
      "text/plain": [
       "array([-5.85526526e+00,  7.70800640e+00,  3.69697787e+00,  1.16230537e+01,\n",
       "       -1.18619549e+00,  4.72328344e-01,  4.71465051e+00, -2.50842450e+00,\n",
       "        6.63720291e-01, -4.18205841e-02,  6.76168307e+00,  2.33945294e+01,\n",
       "        7.96120395e+00, -3.52274262e+01,  1.69851762e+01, -4.56863702e+01,\n",
       "       -1.65461489e+00, -2.87164670e+00,  1.28592951e+01, -4.43201373e+00,\n",
       "        2.01280296e+01, -2.37382077e+00, -6.79218734e+00, -6.02090870e+00,\n",
       "       -8.24292505e+00, -5.77138545e+00, -6.74028614e+00])"
      ]
     },
     "execution_count": 12,
     "metadata": {},
     "output_type": "execute_result"
    }
   ],
   "source": [
    "X_train, X_test, y_train, y_test = train_test_split(X, y, test_size=0.3, random_state=420)\n",
    "reg = lm.fit(X_train, y_train)\n",
    "reg.coef_"
   ]
  },
  {
   "cell_type": "code",
   "execution_count": 13,
   "metadata": {
    "colab": {
     "base_uri": "https://localhost:8080/"
    },
    "executionInfo": {
     "elapsed": 2421,
     "status": "ok",
     "timestamp": 1607784154496,
     "user": {
      "displayName": "Larsen Cundric",
      "photoUrl": "https://lh3.googleusercontent.com/a-/AOh14GgzJB6nqoH0QtGNHOx7SrwdJIExEzonaTUk8Bg2_g=s64",
      "userId": "08098638247065522111"
     },
     "user_tz": -60
    },
    "id": "w6wCpQ4WTMvP",
    "outputId": "ebd3419b-0db2-47a1-ad76-fde8fddaf717"
   },
   "outputs": [
    {
     "name": "stdout",
     "output_type": "stream",
     "text": [
      "0.4728844022172525\n"
     ]
    }
   ],
   "source": [
    "y_pred = reg.predict(X_test)\n",
    "RRMSE_max_hr = 1 - r2_score(y_test, y_pred)\n",
    "print(RRMSE_max_hr)"
   ]
  },
  {
   "cell_type": "code",
   "execution_count": 14,
   "metadata": {},
   "outputs": [
    {
     "data": {
      "text/plain": [
       "array([ -3.79688263,   6.55353599,   0.        ,   0.        ,\n",
       "        -0.        ,   0.        ,   0.        ,  -2.4996638 ,\n",
       "         0.        ,   0.        ,   0.        ,  13.67687209,\n",
       "        -0.        ,  -4.30314275,  -0.        , -41.97324887,\n",
       "        -2.38872816,  -2.95567776,  12.9042888 ,  -3.0678952 ,\n",
       "        20.4823549 ,  -0.        ,  -5.54386238,  -0.        ,\n",
       "        -0.        ,  -0.90631053,  -0.        ])"
      ]
     },
     "execution_count": 14,
     "metadata": {},
     "output_type": "execute_result"
    }
   ],
   "source": [
    "X_train, X_test, y_train, y_test = train_test_split(X, y, test_size=0.3, random_state=420)\n",
    "reg = clf.fit(X_train, y_train)\n",
    "reg.coef_"
   ]
  },
  {
   "cell_type": "code",
   "execution_count": 16,
   "metadata": {},
   "outputs": [
    {
     "name": "stdout",
     "output_type": "stream",
     "text": [
      "Index(['Smoked', 'PhysInactive', 'AnyMeds AN do AY ', 'resting_hr',\n",
      "       'weight Ib->kg', 'ageattest', 'Gender_Male', 'CR_Code_1.0',\n",
      "       'CR_Code_2.0', 'CR_Code_3.0', 'CR_Code_4.0', 'ethnic_code_1.0',\n",
      "       'ethnic_code_4.0'],\n",
      "      dtype='object')\n",
      "[ -3.79688263   6.55353599  -2.4996638   13.67687209  -4.30314275\n",
      " -41.97324887  -2.38872816  -2.95567776  12.9042888   -3.0678952\n",
      "  20.4823549   -5.54386238  -0.90631053]\n"
     ]
    }
   ],
   "source": [
    "print(X.columns[reg.coef_ != 0])\n",
    "print(reg.coef_[reg.coef_ != 0])"
   ]
  },
  {
   "cell_type": "code",
   "execution_count": 38,
   "metadata": {},
   "outputs": [
    {
     "data": {
      "text/html": [
       "<div>\n",
       "<style scoped>\n",
       "    .dataframe tbody tr th:only-of-type {\n",
       "        vertical-align: middle;\n",
       "    }\n",
       "\n",
       "    .dataframe tbody tr th {\n",
       "        vertical-align: top;\n",
       "    }\n",
       "\n",
       "    .dataframe thead th {\n",
       "        text-align: right;\n",
       "    }\n",
       "</style>\n",
       "<table border=\"1\" class=\"dataframe\">\n",
       "  <thead>\n",
       "    <tr style=\"text-align: right;\">\n",
       "      <th></th>\n",
       "      <th>weights</th>\n",
       "    </tr>\n",
       "  </thead>\n",
       "  <tbody>\n",
       "    <tr>\n",
       "      <th>ageattest</th>\n",
       "      <td>-41.973249</td>\n",
       "    </tr>\n",
       "    <tr>\n",
       "      <th>ethnic_code_1.0</th>\n",
       "      <td>-5.543862</td>\n",
       "    </tr>\n",
       "    <tr>\n",
       "      <th>weight Ib-&gt;kg</th>\n",
       "      <td>-4.303143</td>\n",
       "    </tr>\n",
       "    <tr>\n",
       "      <th>Smoked</th>\n",
       "      <td>-3.796883</td>\n",
       "    </tr>\n",
       "    <tr>\n",
       "      <th>CR_Code_3.0</th>\n",
       "      <td>-3.067895</td>\n",
       "    </tr>\n",
       "    <tr>\n",
       "      <th>CR_Code_1.0</th>\n",
       "      <td>-2.955678</td>\n",
       "    </tr>\n",
       "    <tr>\n",
       "      <th>AnyMeds AN do AY</th>\n",
       "      <td>-2.499664</td>\n",
       "    </tr>\n",
       "    <tr>\n",
       "      <th>Gender_Male</th>\n",
       "      <td>-2.388728</td>\n",
       "    </tr>\n",
       "    <tr>\n",
       "      <th>ethnic_code_4.0</th>\n",
       "      <td>-0.906311</td>\n",
       "    </tr>\n",
       "    <tr>\n",
       "      <th>PhysInactive</th>\n",
       "      <td>6.553536</td>\n",
       "    </tr>\n",
       "    <tr>\n",
       "      <th>CR_Code_2.0</th>\n",
       "      <td>12.904289</td>\n",
       "    </tr>\n",
       "    <tr>\n",
       "      <th>resting_hr</th>\n",
       "      <td>13.676872</td>\n",
       "    </tr>\n",
       "    <tr>\n",
       "      <th>CR_Code_4.0</th>\n",
       "      <td>20.482355</td>\n",
       "    </tr>\n",
       "  </tbody>\n",
       "</table>\n",
       "</div>"
      ],
      "text/plain": [
       "                     weights\n",
       "ageattest         -41.973249\n",
       "ethnic_code_1.0    -5.543862\n",
       "weight Ib->kg      -4.303143\n",
       "Smoked             -3.796883\n",
       "CR_Code_3.0        -3.067895\n",
       "CR_Code_1.0        -2.955678\n",
       "AnyMeds AN do AY   -2.499664\n",
       "Gender_Male        -2.388728\n",
       "ethnic_code_4.0    -0.906311\n",
       "PhysInactive        6.553536\n",
       "CR_Code_2.0        12.904289\n",
       "resting_hr         13.676872\n",
       "CR_Code_4.0        20.482355"
      ]
     },
     "execution_count": 38,
     "metadata": {},
     "output_type": "execute_result"
    }
   ],
   "source": [
    "fs = {X.columns[reg.coef_ != 0][i]: reg.coef_[reg.coef_ != 0][i] for i in range(len(X.columns[reg.coef_ != 0]))}\n",
    "fs = {k: v for k, v in sorted(fs.items(), key=lambda item: item[1])}\n",
    "\n",
    "pd.DataFrame.from_dict(fs, orient='index', columns=['weights'])"
   ]
  },
  {
   "cell_type": "code",
   "execution_count": 15,
   "metadata": {},
   "outputs": [
    {
     "name": "stdout",
     "output_type": "stream",
     "text": [
      "0.48905774760864573\n"
     ]
    }
   ],
   "source": [
    "y_pred = reg.predict(X_test)\n",
    "RRMSE_max_hr = 1 - r2_score(y_test, y_pred)\n",
    "print(RRMSE_max_hr)"
   ]
  },
  {
   "cell_type": "code",
   "execution_count": 16,
   "metadata": {
    "colab": {
     "base_uri": "https://localhost:8080/",
     "height": 297
    },
    "executionInfo": {
     "elapsed": 3466,
     "status": "ok",
     "timestamp": 1607784157971,
     "user": {
      "displayName": "Larsen Cundric",
      "photoUrl": "https://lh3.googleusercontent.com/a-/AOh14GgzJB6nqoH0QtGNHOx7SrwdJIExEzonaTUk8Bg2_g=s64",
      "userId": "08098638247065522111"
     },
     "user_tz": -60
    },
    "id": "p8DM5iNuTdP8",
    "outputId": "9291bf0e-e223-42fc-b069-7683830e5719"
   },
   "outputs": [
    {
     "data": {
      "text/plain": [
       "<matplotlib.axes._subplots.AxesSubplot at 0x21219e828b0>"
      ]
     },
     "execution_count": 16,
     "metadata": {},
     "output_type": "execute_result"
    },
    {
     "data": {
      "image/png": "[encoded data removed]",
      "text/plain": [
       "<Figure size 432x288 with 1 Axes>"
      ]
     },
     "metadata": {
      "needs_background": "light"
     },
     "output_type": "display_data"
    }
   ],
   "source": [
    "# Scatter\n",
    "sns.scatterplot(x = y_test, y = y_pred)"
   ]
  },
  {
   "cell_type": "code",
   "execution_count": 116,
   "metadata": {
    "colab": {
     "base_uri": "https://localhost:8080/",
     "height": 297
    },
    "executionInfo": {
     "elapsed": 2638,
     "status": "ok",
     "timestamp": 1607784159496,
     "user": {
      "displayName": "Larsen Cundric",
      "photoUrl": "https://lh3.googleusercontent.com/a-/AOh14GgzJB6nqoH0QtGNHOx7SrwdJIExEzonaTUk8Bg2_g=s64",
      "userId": "08098638247065522111"
     },
     "user_tz": -60
    },
    "id": "_ptkH3upTsln",
    "outputId": "959d5c83-861a-444c-d324-68015b13ef50"
   },
   "outputs": [
    {
     "data": {
      "text/plain": [
       "<matplotlib.axes._subplots.AxesSubplot at 0x1e958ff49a0>"
      ]
     },
     "execution_count": 116,
     "metadata": {},
     "output_type": "execute_result"
    },
    {
     "data": {
      "image/png": "[encoded data removed]",
      "text/plain": [
       "<Figure size 432x288 with 1 Axes>"
      ]
     },
     "metadata": {
      "needs_background": "light"
     },
     "output_type": "display_data"
    }
   ],
   "source": [
    "# BLAND-ALTMAN plot\n",
    "sns.scatterplot(x=((y_pred + y_test) / 2), y=(y_test - y_pred))"
   ]
  },
  {
   "cell_type": "code",
   "execution_count": 25,
   "metadata": {},
   "outputs": [],
   "source": [
    "def test_cv(learner, X, y, k=5):\n",
    "    N = len(y)\n",
    "    first = N % k\n",
    "    first_n = int(N / k) + 1\n",
    "    n = int(N / k)\n",
    "\n",
    "    # print(N, first, first_n, n)\n",
    "\n",
    "    shape = X.shape\n",
    "    shuffle = np.zeros((shape[0], shape[1] + 1))\n",
    "    shuffle[:, :-1] = X\n",
    "    shuffle[:, -1] = y\n",
    "\n",
    "    # np.random.shuffle(shuffle)\n",
    "    per = np.random.permutation(N)\n",
    "\n",
    "    pred = np.zeros([N, 1])\n",
    "\n",
    "    for i in range(0, k):\n",
    "        if i < first:\n",
    "            from_i = i * first_n\n",
    "            to_i = (i + 1) * first_n\n",
    "            # print(i * first_n, (i + 1) * first_n)\n",
    "        else:\n",
    "            from_i = (first * first_n) + (i - first) * n\n",
    "            to_i = (first * first_n) + (i - first + 1) * n\n",
    "            # print((first * first_n) + (i - first) * n, (first * first_n) + (i - first + 1) * n)\n",
    "\n",
    "        Xi_train = np.delete(shuffle, np.s_[per[from_i:to_i]], 0)\n",
    "        Xi_test = shuffle[per[from_i:to_i]]\n",
    "\n",
    "        c = learner.fit(Xi_train[:, :-1], Xi_train[:, -1])\n",
    "        \n",
    "        pred[per[from_i:to_i]] = np.array(c.predict(Xi_test[:, :-1])).reshape(len(pred[per[from_i:to_i]]), 1)\n",
    "        RRMSE_max_hr = 1 - r2_score(y[per[from_i:to_i]], pred[per[from_i:to_i]])\n",
    "        print(RRMSE_max_hr)\n",
    "\n",
    "    return pred"
   ]
  },
  {
   "cell_type": "code",
   "execution_count": 31,
   "metadata": {},
   "outputs": [
    {
     "name": "stdout",
     "output_type": "stream",
     "text": [
      "0.48239474619773914\n",
      "0.5052501740901937\n",
      "0.48949797110203286\n",
      "0.492437141545504\n",
      "0.48337124913048446\n",
      "0.4929647825233734\n",
      "0.5121984263004914\n",
      "0.5052842737334778\n",
      "0.49615749617427896\n",
      "0.5119391797872791\n",
      "------------------------------\n",
      "OVERALL RRMSE\n",
      "0.4968431494784369\n",
      "OVERALL RMSE\n",
      "14.3620911339384\n"
     ]
    }
   ],
   "source": [
    "res_corr = test_cv(clf, X, y, k=10)\n",
    "RRMSE_max_hr = 1 - r2_score(y, res_corr)\n",
    "print(\"------------------------------\")\n",
    "print(\"OVERALL RRMSE\")\n",
    "print(RRMSE_max_hr)\n",
    "print(\"OVERALL RMSE\")\n",
    "print(math.sqrt(mean_squared_error(y, res_corr)))"
   ]
  },
  {
   "cell_type": "code",
   "execution_count": 32,
   "metadata": {},
   "outputs": [
    {
     "data": {
      "text/plain": [
       "14.362091133938447"
      ]
     },
     "execution_count": 32,
     "metadata": {},
     "output_type": "execute_result"
    }
   ],
   "source": [
    "from itertools import chain \n",
    "y_res = list(chain.from_iterable(res_corr))\n",
    "math.sqrt(sum((y - y_res)**2) / len(y))"
   ]
  },
  {
   "cell_type": "code",
   "execution_count": 33,
   "metadata": {},
   "outputs": [
    {
     "data": {
      "text/plain": [
       "<matplotlib.axes._subplots.AxesSubplot at 0x2121ab3f3a0>"
      ]
     },
     "execution_count": 33,
     "metadata": {},
     "output_type": "execute_result"
    },
    {
     "data": {
      "image/png": "[encoded data removed]",
      "text/plain": [
       "<Figure size 432x288 with 1 Axes>"
      ]
     },
     "metadata": {
      "needs_background": "light"
     },
     "output_type": "display_data"
    }
   ],
   "source": [
    "# BLAND-ALTMAN plot\n",
    "sns.scatterplot(x=((y + y_res) / 2), y=(y - y_res))"
   ]
  },
  {
   "cell_type": "code",
   "execution_count": null,
   "metadata": {},
   "outputs": [],
   "source": []
  },
  {
   "cell_type": "markdown",
   "metadata": {
    "id": "Qnn5yA7qUb5D"
   },
   "source": [
    "# LM vo2_l_min"
   ]
  },
  {
   "cell_type": "markdown",
   "metadata": {
    "id": "DgmwrR-BVLbR"
   },
   "source": [
    "**RReliafF feature selection for vo2_l_min**\n",
    "\n",
    "waist                     --> 0.009569\n",
    "\n",
    "bodyfat                   --> 0.014413\n",
    "\n",
    "fvc                       --> 0.018686\n",
    "\n",
    "Aritmia                   --> 0.020000\n",
    "\n",
    "BMI                       --> 0.021262\n",
    "\n",
    "fev1                      --> 0.021502\n",
    "\n",
    "weight Ib->kg             --> 0.022448\n",
    "\n",
    "resting_sbp               --> 0.032925\n",
    "\n",
    "height inch->cm           --> 0.034091\n",
    "\n",
    "resting_dbp               --> 0.035906\n",
    "\n",
    "resting_hr                --> 0.043977\n",
    "\n",
    "ageattest                 --> 0.045552"
   ]
  },
  {
   "cell_type": "code",
   "execution_count": 71,
   "metadata": {
    "executionInfo": {
     "elapsed": 3409,
     "status": "ok",
     "timestamp": 1607783165559,
     "user": {
      "displayName": "Larsen Cundric",
      "photoUrl": "https://lh3.googleusercontent.com/a-/AOh14GgzJB6nqoH0QtGNHOx7SrwdJIExEzonaTUk8Bg2_g=s64",
      "userId": "08098638247065522111"
     },
     "user_tz": -60
    },
    "id": "K2OATeFjUbdq"
   },
   "outputs": [],
   "source": [
    "X = df[['waist', 'bodyfat', 'fvc', 'Aritmia', 'BMI', 'fev1', 'weight Ib->kg', 'height inch->cm', 'resting_dbp', 'resting_hr', 'resting_sbp', 'ageattest']]\n",
    "y = df['vo2_l_min']"
   ]
  },
  {
   "cell_type": "code",
   "execution_count": 72,
   "metadata": {
    "colab": {
     "base_uri": "https://localhost:8080/",
     "height": 204
    },
    "executionInfo": {
     "elapsed": 2918,
     "status": "ok",
     "timestamp": 1607783166109,
     "user": {
      "displayName": "Larsen Cundric",
      "photoUrl": "https://lh3.googleusercontent.com/a-/AOh14GgzJB6nqoH0QtGNHOx7SrwdJIExEzonaTUk8Bg2_g=s64",
      "userId": "08098638247065522111"
     },
     "user_tz": -60
    },
    "id": "vKchD2w9ViYg",
    "outputId": "66b01611-d7e6-4a42-975d-b1de73eea44a"
   },
   "outputs": [
    {
     "data": {
      "text/html": [
       "<div>\n",
       "<style scoped>\n",
       "    .dataframe tbody tr th:only-of-type {\n",
       "        vertical-align: middle;\n",
       "    }\n",
       "\n",
       "    .dataframe tbody tr th {\n",
       "        vertical-align: top;\n",
       "    }\n",
       "\n",
       "    .dataframe thead th {\n",
       "        text-align: right;\n",
       "    }\n",
       "</style>\n",
       "<table border=\"1\" class=\"dataframe\">\n",
       "  <thead>\n",
       "    <tr style=\"text-align: right;\">\n",
       "      <th></th>\n",
       "      <th>waist</th>\n",
       "      <th>bodyfat</th>\n",
       "      <th>fvc</th>\n",
       "      <th>Aritmia</th>\n",
       "      <th>BMI</th>\n",
       "      <th>fev1</th>\n",
       "      <th>weight Ib-&gt;kg</th>\n",
       "      <th>height inch-&gt;cm</th>\n",
       "      <th>resting_dbp</th>\n",
       "      <th>resting_hr</th>\n",
       "      <th>resting_sbp</th>\n",
       "      <th>ageattest</th>\n",
       "    </tr>\n",
       "  </thead>\n",
       "  <tbody>\n",
       "    <tr>\n",
       "      <th>0</th>\n",
       "      <td>0.333921</td>\n",
       "      <td>0.150895</td>\n",
       "      <td>0.452555</td>\n",
       "      <td>0.0</td>\n",
       "      <td>0.218599</td>\n",
       "      <td>0.320819</td>\n",
       "      <td>0.268406</td>\n",
       "      <td>0.666821</td>\n",
       "      <td>0.525000</td>\n",
       "      <td>0.318182</td>\n",
       "      <td>0.381818</td>\n",
       "      <td>0.322812</td>\n",
       "    </tr>\n",
       "    <tr>\n",
       "      <th>1</th>\n",
       "      <td>0.385551</td>\n",
       "      <td>0.300159</td>\n",
       "      <td>0.416058</td>\n",
       "      <td>0.0</td>\n",
       "      <td>0.455874</td>\n",
       "      <td>0.462457</td>\n",
       "      <td>0.291403</td>\n",
       "      <td>0.254439</td>\n",
       "      <td>0.484375</td>\n",
       "      <td>0.456250</td>\n",
       "      <td>0.380273</td>\n",
       "      <td>0.509326</td>\n",
       "    </tr>\n",
       "    <tr>\n",
       "      <th>2</th>\n",
       "      <td>0.385551</td>\n",
       "      <td>0.537049</td>\n",
       "      <td>0.416058</td>\n",
       "      <td>0.0</td>\n",
       "      <td>0.393582</td>\n",
       "      <td>0.462457</td>\n",
       "      <td>0.216546</td>\n",
       "      <td>0.208275</td>\n",
       "      <td>0.484375</td>\n",
       "      <td>0.456250</td>\n",
       "      <td>0.380273</td>\n",
       "      <td>0.609756</td>\n",
       "    </tr>\n",
       "    <tr>\n",
       "      <th>3</th>\n",
       "      <td>0.409780</td>\n",
       "      <td>0.259484</td>\n",
       "      <td>0.416058</td>\n",
       "      <td>0.0</td>\n",
       "      <td>0.198994</td>\n",
       "      <td>0.462457</td>\n",
       "      <td>0.237614</td>\n",
       "      <td>0.647059</td>\n",
       "      <td>0.425000</td>\n",
       "      <td>0.409091</td>\n",
       "      <td>0.345455</td>\n",
       "      <td>0.552367</td>\n",
       "    </tr>\n",
       "    <tr>\n",
       "      <th>4</th>\n",
       "      <td>0.385551</td>\n",
       "      <td>0.300159</td>\n",
       "      <td>0.108029</td>\n",
       "      <td>0.0</td>\n",
       "      <td>0.140066</td>\n",
       "      <td>0.121160</td>\n",
       "      <td>0.016438</td>\n",
       "      <td>0.215686</td>\n",
       "      <td>0.275000</td>\n",
       "      <td>0.318182</td>\n",
       "      <td>0.409091</td>\n",
       "      <td>0.853659</td>\n",
       "    </tr>\n",
       "  </tbody>\n",
       "</table>\n",
       "</div>"
      ],
      "text/plain": [
       "      waist   bodyfat       fvc  ...  resting_hr  resting_sbp  ageattest\n",
       "0  0.333921  0.150895  0.452555  ...    0.318182     0.381818   0.322812\n",
       "1  0.385551  0.300159  0.416058  ...    0.456250     0.380273   0.509326\n",
       "2  0.385551  0.537049  0.416058  ...    0.456250     0.380273   0.609756\n",
       "3  0.409780  0.259484  0.416058  ...    0.409091     0.345455   0.552367\n",
       "4  0.385551  0.300159  0.108029  ...    0.318182     0.409091   0.853659\n",
       "\n",
       "[5 rows x 12 columns]"
      ]
     },
     "execution_count": 72,
     "metadata": {
      "tags": []
     },
     "output_type": "execute_result"
    }
   ],
   "source": [
    "X.head()"
   ]
  },
  {
   "cell_type": "code",
   "execution_count": 73,
   "metadata": {
    "colab": {
     "base_uri": "https://localhost:8080/"
    },
    "executionInfo": {
     "elapsed": 1599,
     "status": "ok",
     "timestamp": 1607783166110,
     "user": {
      "displayName": "Larsen Cundric",
      "photoUrl": "https://lh3.googleusercontent.com/a-/AOh14GgzJB6nqoH0QtGNHOx7SrwdJIExEzonaTUk8Bg2_g=s64",
      "userId": "08098638247065522111"
     },
     "user_tz": -60
    },
    "id": "yYrrt1_FVj_s",
    "outputId": "46ed1e62-9c46-4ff5-9f51-07140ac4b185"
   },
   "outputs": [
    {
     "name": "stdout",
     "output_type": "stream",
     "text": [
      "[0.9752     0.99085017 0.97199526 0.98012859 0.97710082]\n",
      "RRMSE: 0.98 (+/- 0.01)\n"
     ]
    }
   ],
   "source": [
    "X_train, X_test, y_train, y_test = train_test_split(X, y, test_size=0.3, random_state=420)\n",
    "\n",
    "# CV\n",
    "lm = LinearRegression()\n",
    "scores = cross_validate(lm, X_train, y_train, cv=5, \n",
    "                        scoring=('r2', 'neg_mean_squared_error'), return_train_score=True)\n",
    "print(1 - scores['test_r2'])\n",
    "# scores with 95% accuracy\n",
    "print(\"RRMSE: %0.2f (+/- %0.2f)\" % (1 - scores['test_r2'].mean(), scores['test_r2'].std() * 2))"
   ]
  },
  {
   "cell_type": "code",
   "execution_count": 74,
   "metadata": {
    "colab": {
     "base_uri": "https://localhost:8080/"
    },
    "executionInfo": {
     "elapsed": 1090,
     "status": "ok",
     "timestamp": 1607783169457,
     "user": {
      "displayName": "Larsen Cundric",
      "photoUrl": "https://lh3.googleusercontent.com/a-/AOh14GgzJB6nqoH0QtGNHOx7SrwdJIExEzonaTUk8Bg2_g=s64",
      "userId": "08098638247065522111"
     },
     "user_tz": -60
    },
    "id": "iQZC4U7YVpFV",
    "outputId": "ca2caae1-69ab-466a-f1a9-47ea986cbe96"
   },
   "outputs": [
    {
     "data": {
      "text/plain": [
       "array([ 0.21278919, -0.11696934, -0.63745575,  0.19109964,  1.36310879,\n",
       "       -0.27938314, -1.07357665,  0.85932926,  0.30930206,  0.34302431,\n",
       "       -0.14364983, -0.47558896])"
      ]
     },
     "execution_count": 74,
     "metadata": {
      "tags": []
     },
     "output_type": "execute_result"
    }
   ],
   "source": [
    "reg = lm.fit(X_train, y_train)\n",
    "reg.coef_"
   ]
  },
  {
   "cell_type": "code",
   "execution_count": 75,
   "metadata": {
    "colab": {
     "base_uri": "https://localhost:8080/"
    },
    "executionInfo": {
     "elapsed": 1218,
     "status": "ok",
     "timestamp": 1607783172244,
     "user": {
      "displayName": "Larsen Cundric",
      "photoUrl": "https://lh3.googleusercontent.com/a-/AOh14GgzJB6nqoH0QtGNHOx7SrwdJIExEzonaTUk8Bg2_g=s64",
      "userId": "08098638247065522111"
     },
     "user_tz": -60
    },
    "id": "Jup5M2nhV542",
    "outputId": "7f1d1304-0412-40cc-ffe1-fe5738ad2b89"
   },
   "outputs": [
    {
     "name": "stdout",
     "output_type": "stream",
     "text": [
      "0.9772363359022828\n"
     ]
    }
   ],
   "source": [
    "y_pred = reg.predict(X_test)\n",
    "RRMSE_vo2_l_min = 1 - r2_score(y_test, y_pred)\n",
    "print(RRMSE_vo2_l_min)"
   ]
  },
  {
   "cell_type": "code",
   "execution_count": 76,
   "metadata": {
    "colab": {
     "base_uri": "https://localhost:8080/",
     "height": 297
    },
    "executionInfo": {
     "elapsed": 4493,
     "status": "ok",
     "timestamp": 1607783188770,
     "user": {
      "displayName": "Larsen Cundric",
      "photoUrl": "https://lh3.googleusercontent.com/a-/AOh14GgzJB6nqoH0QtGNHOx7SrwdJIExEzonaTUk8Bg2_g=s64",
      "userId": "08098638247065522111"
     },
     "user_tz": -60
    },
    "id": "ZERQtMj6WEdU",
    "outputId": "f1da0f55-b5dd-459c-bcf1-e2b76a3d7f44"
   },
   "outputs": [
    {
     "data": {
      "text/plain": [
       "<matplotlib.axes._subplots.AxesSubplot at 0x7fae05f5b668>"
      ]
     },
     "execution_count": 76,
     "metadata": {
      "tags": []
     },
     "output_type": "execute_result"
    },
    {
     "data": {
      "image/png": "[encoded data removed]",
      "text/plain": [
       "<Figure size 432x288 with 1 Axes>"
      ]
     },
     "metadata": {
      "needs_background": "light",
      "tags": []
     },
     "output_type": "display_data"
    }
   ],
   "source": [
    "# Scatter\n",
    "sns.scatterplot(x = y_test, y = y_pred)"
   ]
  },
  {
   "cell_type": "code",
   "execution_count": 30,
   "metadata": {
    "colab": {
     "base_uri": "https://localhost:8080/",
     "height": 297
    },
    "executionInfo": {
     "elapsed": 1370,
     "status": "ok",
     "timestamp": 1607783207785,
     "user": {
      "displayName": "Larsen Cundric",
      "photoUrl": "https://lh3.googleusercontent.com/a-/AOh14GgzJB6nqoH0QtGNHOx7SrwdJIExEzonaTUk8Bg2_g=s64",
      "userId": "08098638247065522111"
     },
     "user_tz": -60
    },
    "id": "VDThdLVGWHdo",
    "outputId": "c2b687ac-544a-4220-bbf1-1b6c6f53af12"
   },
   "outputs": [
    {
     "data": {
      "text/plain": [
       "<matplotlib.axes._subplots.AxesSubplot at 0x2121aae4a90>"
      ]
     },
     "execution_count": 30,
     "metadata": {},
     "output_type": "execute_result"
    },
    {
     "data": {
      "image/png": "[encoded data removed]",
      "text/plain": [
       "<Figure size 432x288 with 1 Axes>"
      ]
     },
     "metadata": {
      "needs_background": "light"
     },
     "output_type": "display_data"
    }
   ],
   "source": [
    "# BLAND-ALTMAN plot\n",
    "sns.scatterplot(x=((y_pred + y_test) / 2), y=(y_test - y_pred))"
   ]
  },
  {
   "cell_type": "code",
   "execution_count": 51,
   "metadata": {
    "id": "x4z5Yh4vWLjr"
   },
   "outputs": [
    {
     "name": "stdout",
     "output_type": "stream",
     "text": [
      "1.000692883574531\n",
      "1.0000575070350828\n",
      "1.0000124246938198\n",
      "1.000960164833333\n",
      "1.0000392720874864\n",
      "1.0002583656827688\n",
      "1.0020394195247622\n",
      "1.0004681420766177\n",
      "1.0003915609410254\n",
      "1.0000478158332151\n",
      "------------------------------\n",
      "OVERALL RRMSE\n",
      "1.0000958246592315\n",
      "OVERALL RMSE\n",
      "0.845329423633969\n"
     ]
    },
    {
     "data": {
      "text/plain": [
       "<matplotlib.axes._subplots.AxesSubplot at 0x212f99b3610>"
      ]
     },
     "execution_count": 51,
     "metadata": {},
     "output_type": "execute_result"
    },
    {
     "data": {
      "image/png": "[encoded data removed]",
      "text/plain": [
       "<Figure size 432x288 with 1 Axes>"
      ]
     },
     "metadata": {
      "needs_background": "light"
     },
     "output_type": "display_data"
    }
   ],
   "source": [
    "clf = Lasso(alpha=0.1)\n",
    "y = df['vo2_l_min']\n",
    "\n",
    "res_vo2lmin = test_cv(clf, X, y, k=10)\n",
    "RRMSE_vo2lmin = 1 - r2_score(y, res_vo2lmin)\n",
    "print(\"------------------------------\")\n",
    "print(\"OVERALL RRMSE\")\n",
    "print(RRMSE_vo2lmin)\n",
    "print(\"OVERALL RMSE\")\n",
    "print(math.sqrt(mean_squared_error(y, res_vo2lmin)))\n",
    "\n",
    "y_res = list(chain.from_iterable(res_vo2lmin))\n",
    "\n",
    "sns.scatterplot(x=((y + y_res) / 2), y=(y - y_res))"
   ]
  },
  {
   "cell_type": "code",
   "execution_count": 52,
   "metadata": {},
   "outputs": [
    {
     "data": {
      "text/plain": [
       "0        5.15300\n",
       "1        2.66304\n",
       "2        2.64000\n",
       "3        1.98000\n",
       "4        1.96800\n",
       "          ...   \n",
       "21329    3.70000\n",
       "21330    1.89000\n",
       "21331    2.59000\n",
       "21332    3.54000\n",
       "21333    5.01400\n",
       "Name: vo2_l_min, Length: 21334, dtype: float64"
      ]
     },
     "execution_count": 52,
     "metadata": {},
     "output_type": "execute_result"
    }
   ],
   "source": [
    "y\n",
    "\n"
   ]
  },
  {
   "cell_type": "code",
   "execution_count": 54,
   "metadata": {},
   "outputs": [
    {
     "data": {
      "text/plain": [
       "[2.6079232562500003,\n",
       " 2.605601728034998,\n",
       " 2.6033960871829596,\n",
       " 2.6078092568095417,\n",
       " 2.6069921171874997,\n",
       " 2.6059148638091765,\n",
       " 2.606697474089891,\n",
       " 2.6059148638091765,\n",
       " 2.6059148638091765,\n",
       " 2.606697474089891,\n",
       " 2.6059148638091765,\n",
       " 2.6094904213541668,\n",
       " 2.605601728034998,\n",
       " 2.6099111182291668,\n",
       " 2.6059148638091765,\n",
       " 2.6059148638091765,\n",
       " 2.609109240664549,\n",
       " 2.6094904213541668,\n",
       " 2.6099111182291668,\n",
       " 2.6099111182291668,\n",
       " 2.6059148638091765,\n",
       " 2.6099111182291668,\n",
       " 2.606697474089891,\n",
       " 2.606697474089891,\n",
       " 2.609109240664549,\n",
       " 2.6094904213541668,\n",
       " 2.6094904213541668,\n",
       " 2.606697474089891,\n",
       " 2.6094904213541668,\n",
       " 2.6059148638091765,\n",
       " 2.6069921171874997,\n",
       " 2.6069921171874997,\n",
       " 2.605601728034998,\n",
       " 2.6033960871829596,\n",
       " 2.606697474089891,\n",
       " 2.6099111182291668,\n",
       " 2.6099111182291668,\n",
       " 2.6078092568095417,\n",
       " 2.6079232562500003,\n",
       " 2.6069921171874997,\n",
       " 2.6094904213541668,\n",
       " 2.6078092568095417,\n",
       " 2.6059148638091765,\n",
       " 2.6033960871829596,\n",
       " 2.606697474089891,\n",
       " 2.609109240664549,\n",
       " 2.6079232562500003,\n",
       " 2.6079232562500003,\n",
       " 2.6059148638091765,\n",
       " 2.6078092568095417,\n",
       " 2.6078092568095417,\n",
       " 2.6033960871829596,\n",
       " 2.6079232562500003,\n",
       " 2.606697474089891,\n",
       " 2.6059148638091765,\n",
       " 2.6078092568095417,\n",
       " 2.605601728034998,\n",
       " 2.6099111182291668,\n",
       " 2.605601728034998,\n",
       " 2.6069921171874997,\n",
       " 2.606697474089891,\n",
       " 2.6079232562500003,\n",
       " 2.609109240664549,\n",
       " 2.6069921171874997,\n",
       " 2.6069921171874997,\n",
       " 2.6094904213541668,\n",
       " 2.6059148638091765,\n",
       " 2.6079232562500003,\n",
       " 2.609109240664549,\n",
       " 2.605601728034998,\n",
       " 2.6079232562500003,\n",
       " 2.6078092568095417,\n",
       " 2.609109240664549,\n",
       " 2.6094904213541668,\n",
       " 2.6033960871829596,\n",
       " 2.609109240664549,\n",
       " 2.605601728034998,\n",
       " 2.605601728034998,\n",
       " 2.6079232562500003,\n",
       " 2.6078092568095417,\n",
       " 2.605601728034998,\n",
       " 2.606697474089891,\n",
       " 2.605601728034998,\n",
       " 2.6079232562500003,\n",
       " 2.609109240664549,\n",
       " 2.6079232562500003,\n",
       " 2.6099111182291668,\n",
       " 2.6079232562500003,\n",
       " 2.6059148638091765,\n",
       " 2.6079232562500003,\n",
       " 2.6099111182291668,\n",
       " 2.6033960871829596,\n",
       " 2.6033960871829596,\n",
       " 2.609109240664549,\n",
       " 2.6069921171874997,\n",
       " 2.6069921171874997,\n",
       " 2.605601728034998,\n",
       " 2.6033960871829596,\n",
       " 2.6033960871829596,\n",
       " 2.6079232562500003,\n",
       " 2.6079232562500003,\n",
       " 2.6033960871829596,\n",
       " 2.6069921171874997,\n",
       " 2.6099111182291668,\n",
       " 2.6094904213541668,\n",
       " 2.6059148638091765,\n",
       " 2.6033960871829596,\n",
       " 2.606697474089891,\n",
       " 2.609109240664549,\n",
       " 2.6059148638091765,\n",
       " 2.6078092568095417,\n",
       " 2.6069921171874997,\n",
       " 2.6079232562500003,\n",
       " 2.6094904213541668,\n",
       " 2.6069921171874997,\n",
       " 2.605601728034998,\n",
       " 2.6069921171874997,\n",
       " 2.6078092568095417,\n",
       " 2.6094904213541668,\n",
       " 2.605601728034998,\n",
       " 2.6033960871829596,\n",
       " 2.6069921171874997,\n",
       " 2.605601728034998,\n",
       " 2.6079232562500003,\n",
       " 2.606697474089891,\n",
       " 2.6033960871829596,\n",
       " 2.6079232562500003,\n",
       " 2.6094904213541668,\n",
       " 2.6099111182291668,\n",
       " 2.606697474089891,\n",
       " 2.6079232562500003,\n",
       " 2.6069921171874997,\n",
       " 2.609109240664549,\n",
       " 2.606697474089891,\n",
       " 2.6069921171874997,\n",
       " 2.6069921171874997,\n",
       " 2.6094904213541668,\n",
       " 2.6094904213541668,\n",
       " 2.6059148638091765,\n",
       " 2.606697474089891,\n",
       " 2.605601728034998,\n",
       " 2.6099111182291668,\n",
       " 2.606697474089891,\n",
       " 2.605601728034998,\n",
       " 2.6078092568095417,\n",
       " 2.6059148638091765,\n",
       " 2.6069921171874997,\n",
       " 2.606697474089891,\n",
       " 2.609109240664549,\n",
       " 2.6059148638091765,\n",
       " 2.6069921171874997,\n",
       " 2.6033960871829596,\n",
       " 2.605601728034998,\n",
       " 2.6094904213541668,\n",
       " 2.6099111182291668,\n",
       " 2.606697474089891,\n",
       " 2.6094904213541668,\n",
       " 2.6094904213541668,\n",
       " 2.6099111182291668,\n",
       " 2.6099111182291668,\n",
       " 2.6033960871829596,\n",
       " 2.605601728034998,\n",
       " 2.609109240664549,\n",
       " 2.6078092568095417,\n",
       " 2.606697474089891,\n",
       " 2.605601728034998,\n",
       " 2.606697474089891,\n",
       " 2.6059148638091765,\n",
       " 2.605601728034998,\n",
       " 2.6033960871829596,\n",
       " 2.606697474089891,\n",
       " 2.609109240664549,\n",
       " 2.6079232562500003,\n",
       " 2.6079232562500003,\n",
       " 2.6033960871829596,\n",
       " 2.605601728034998,\n",
       " 2.6094904213541668,\n",
       " 2.6033960871829596,\n",
       " 2.6059148638091765,\n",
       " 2.606697474089891,\n",
       " 2.6099111182291668,\n",
       " 2.6059148638091765,\n",
       " 2.6094904213541668,\n",
       " 2.6059148638091765,\n",
       " 2.609109240664549,\n",
       " 2.6078092568095417,\n",
       " 2.605601728034998,\n",
       " 2.6094904213541668,\n",
       " 2.6079232562500003,\n",
       " 2.606697474089891,\n",
       " 2.606697474089891,\n",
       " 2.6033960871829596,\n",
       " 2.605601728034998,\n",
       " 2.6079232562500003,\n",
       " 2.6059148638091765,\n",
       " 2.6059148638091765,\n",
       " 2.6069921171874997,\n",
       " 2.6099111182291668,\n",
       " 2.605601728034998,\n",
       " 2.6099111182291668,\n",
       " 2.605601728034998,\n",
       " 2.6059148638091765,\n",
       " 2.609109240664549,\n",
       " 2.605601728034998,\n",
       " 2.6033960871829596,\n",
       " 2.606697474089891,\n",
       " 2.6079232562500003,\n",
       " 2.6033960871829596,\n",
       " 2.6094904213541668,\n",
       " 2.609109240664549,\n",
       " 2.6078092568095417,\n",
       " 2.606697474089891,\n",
       " 2.609109240664549,\n",
       " 2.609109240664549,\n",
       " 2.6033960871829596,\n",
       " 2.6033960871829596,\n",
       " 2.605601728034998,\n",
       " 2.605601728034998,\n",
       " 2.6069921171874997,\n",
       " 2.6033960871829596,\n",
       " 2.605601728034998,\n",
       " 2.6099111182291668,\n",
       " 2.6069921171874997,\n",
       " 2.605601728034998,\n",
       " 2.6069921171874997,\n",
       " 2.6099111182291668,\n",
       " 2.6033960871829596,\n",
       " 2.6078092568095417,\n",
       " 2.6099111182291668,\n",
       " 2.6059148638091765,\n",
       " 2.6094904213541668,\n",
       " 2.6099111182291668,\n",
       " 2.6059148638091765,\n",
       " 2.6033960871829596,\n",
       " 2.6079232562500003,\n",
       " 2.6078092568095417,\n",
       " 2.6079232562500003,\n",
       " 2.6079232562500003,\n",
       " 2.605601728034998,\n",
       " 2.6069921171874997,\n",
       " 2.6059148638091765,\n",
       " 2.605601728034998,\n",
       " 2.605601728034998,\n",
       " 2.6069921171874997,\n",
       " 2.606697474089891,\n",
       " 2.6033960871829596,\n",
       " 2.6069921171874997,\n",
       " 2.605601728034998,\n",
       " 2.6099111182291668,\n",
       " 2.605601728034998,\n",
       " 2.609109240664549,\n",
       " 2.605601728034998,\n",
       " 2.6033960871829596,\n",
       " 2.6033960871829596,\n",
       " 2.6059148638091765,\n",
       " 2.6094904213541668,\n",
       " 2.605601728034998,\n",
       " 2.6094904213541668,\n",
       " 2.605601728034998,\n",
       " 2.609109240664549,\n",
       " 2.6059148638091765,\n",
       " 2.609109240664549,\n",
       " 2.6033960871829596,\n",
       " 2.6079232562500003,\n",
       " 2.605601728034998,\n",
       " 2.605601728034998,\n",
       " 2.6033960871829596,\n",
       " 2.606697474089891,\n",
       " 2.6094904213541668,\n",
       " 2.6099111182291668,\n",
       " 2.6033960871829596,\n",
       " 2.606697474089891,\n",
       " 2.6059148638091765,\n",
       " 2.6033960871829596,\n",
       " 2.609109240664549,\n",
       " 2.6033960871829596,\n",
       " 2.605601728034998,\n",
       " 2.6079232562500003,\n",
       " 2.6099111182291668,\n",
       " 2.605601728034998,\n",
       " 2.6033960871829596,\n",
       " 2.6099111182291668,\n",
       " 2.6094904213541668,\n",
       " 2.6033960871829596,\n",
       " 2.605601728034998,\n",
       " 2.6059148638091765,\n",
       " 2.6033960871829596,\n",
       " 2.6069921171874997,\n",
       " 2.6059148638091765,\n",
       " 2.6033960871829596,\n",
       " 2.606697474089891,\n",
       " 2.6094904213541668,\n",
       " 2.6033960871829596,\n",
       " 2.6078092568095417,\n",
       " 2.6078092568095417,\n",
       " 2.6099111182291668,\n",
       " 2.6078092568095417,\n",
       " 2.6078092568095417,\n",
       " 2.606697474089891,\n",
       " 2.6059148638091765,\n",
       " 2.606697474089891,\n",
       " 2.6059148638091765,\n",
       " 2.6069921171874997,\n",
       " 2.6078092568095417,\n",
       " 2.6099111182291668,\n",
       " 2.606697474089891,\n",
       " 2.6069921171874997,\n",
       " 2.605601728034998,\n",
       " 2.6033960871829596,\n",
       " 2.606697474089891,\n",
       " 2.6094904213541668,\n",
       " 2.609109240664549,\n",
       " 2.605601728034998,\n",
       " 2.6078092568095417,\n",
       " 2.6099111182291668,\n",
       " 2.606697474089891,\n",
       " 2.6099111182291668,\n",
       " 2.6099111182291668,\n",
       " 2.6099111182291668,\n",
       " 2.6078092568095417,\n",
       " 2.6069921171874997,\n",
       " 2.6078092568095417,\n",
       " 2.6099111182291668,\n",
       " 2.6033960871829596,\n",
       " 2.6059148638091765,\n",
       " 2.6079232562500003,\n",
       " 2.609109240664549,\n",
       " 2.606697474089891,\n",
       " 2.6059148638091765,\n",
       " 2.6033960871829596,\n",
       " 2.6099111182291668,\n",
       " 2.6069921171874997,\n",
       " 2.6094904213541668,\n",
       " 2.6059148638091765,\n",
       " 2.6079232562500003,\n",
       " 2.6069921171874997,\n",
       " 2.6099111182291668,\n",
       " 2.609109240664549,\n",
       " 2.6059148638091765,\n",
       " 2.6059148638091765,\n",
       " 2.6069921171874997,\n",
       " 2.609109240664549,\n",
       " 2.606697474089891,\n",
       " 2.605601728034998,\n",
       " 2.6069921171874997,\n",
       " 2.605601728034998,\n",
       " 2.609109240664549,\n",
       " 2.609109240664549,\n",
       " 2.606697474089891,\n",
       " 2.609109240664549,\n",
       " 2.6069921171874997,\n",
       " 2.609109240664549,\n",
       " 2.6079232562500003,\n",
       " 2.6059148638091765,\n",
       " 2.606697474089891,\n",
       " 2.6079232562500003,\n",
       " 2.6099111182291668,\n",
       " 2.6059148638091765,\n",
       " 2.6079232562500003,\n",
       " 2.6033960871829596,\n",
       " 2.609109240664549,\n",
       " 2.6094904213541668,\n",
       " 2.6069921171874997,\n",
       " 2.6033960871829596,\n",
       " 2.6078092568095417,\n",
       " 2.605601728034998,\n",
       " 2.6078092568095417,\n",
       " 2.606697474089891,\n",
       " 2.605601728034998,\n",
       " 2.6078092568095417,\n",
       " 2.605601728034998,\n",
       " 2.6033960871829596,\n",
       " 2.605601728034998,\n",
       " 2.6078092568095417,\n",
       " 2.605601728034998,\n",
       " 2.609109240664549,\n",
       " 2.6078092568095417,\n",
       " 2.6079232562500003,\n",
       " 2.6069921171874997,\n",
       " 2.6094904213541668,\n",
       " 2.605601728034998,\n",
       " 2.606697474089891,\n",
       " 2.6069921171874997,\n",
       " 2.605601728034998,\n",
       " 2.6094904213541668,\n",
       " 2.6069921171874997,\n",
       " 2.6078092568095417,\n",
       " 2.6069921171874997,\n",
       " 2.609109240664549,\n",
       " 2.6069921171874997,\n",
       " 2.605601728034998,\n",
       " 2.6069921171874997,\n",
       " 2.6078092568095417,\n",
       " 2.609109240664549,\n",
       " 2.606697474089891,\n",
       " 2.6059148638091765,\n",
       " 2.6069921171874997,\n",
       " 2.6078092568095417,\n",
       " 2.6079232562500003,\n",
       " 2.6094904213541668,\n",
       " 2.6033960871829596,\n",
       " 2.605601728034998,\n",
       " 2.605601728034998,\n",
       " 2.606697474089891,\n",
       " 2.6059148638091765,\n",
       " 2.6069921171874997,\n",
       " 2.606697474089891,\n",
       " 2.605601728034998,\n",
       " 2.6059148638091765,\n",
       " 2.6078092568095417,\n",
       " 2.6099111182291668,\n",
       " 2.6099111182291668,\n",
       " 2.6094904213541668,\n",
       " 2.6059148638091765,\n",
       " 2.6099111182291668,\n",
       " 2.6069921171874997,\n",
       " 2.609109240664549,\n",
       " 2.6078092568095417,\n",
       " 2.609109240664549,\n",
       " 2.605601728034998,\n",
       " 2.605601728034998,\n",
       " 2.6094904213541668,\n",
       " 2.605601728034998,\n",
       " 2.6069921171874997,\n",
       " 2.6033960871829596,\n",
       " 2.6033960871829596,\n",
       " 2.6099111182291668,\n",
       " 2.6078092568095417,\n",
       " 2.6069921171874997,\n",
       " 2.6099111182291668,\n",
       " 2.6099111182291668,\n",
       " 2.605601728034998,\n",
       " 2.6079232562500003,\n",
       " 2.6078092568095417,\n",
       " 2.6078092568095417,\n",
       " 2.605601728034998,\n",
       " 2.6059148638091765,\n",
       " 2.6033960871829596,\n",
       " 2.6099111182291668,\n",
       " 2.6059148638091765,\n",
       " 2.606697474089891,\n",
       " 2.6078092568095417,\n",
       " 2.6033960871829596,\n",
       " 2.6078092568095417,\n",
       " 2.6099111182291668,\n",
       " 2.6078092568095417,\n",
       " 2.6069921171874997,\n",
       " 2.605601728034998,\n",
       " 2.609109240664549,\n",
       " 2.606697474089891,\n",
       " 2.605601728034998,\n",
       " 2.609109240664549,\n",
       " 2.609109240664549,\n",
       " 2.6059148638091765,\n",
       " 2.609109240664549,\n",
       " 2.609109240664549,\n",
       " 2.606697474089891,\n",
       " 2.6079232562500003,\n",
       " 2.6078092568095417,\n",
       " 2.605601728034998,\n",
       " 2.6099111182291668,\n",
       " 2.6099111182291668,\n",
       " 2.606697474089891,\n",
       " 2.6078092568095417,\n",
       " 2.6094904213541668,\n",
       " 2.6079232562500003,\n",
       " 2.6033960871829596,\n",
       " 2.6079232562500003,\n",
       " 2.6069921171874997,\n",
       " 2.6078092568095417,\n",
       " 2.6099111182291668,\n",
       " 2.6069921171874997,\n",
       " 2.605601728034998,\n",
       " 2.6033960871829596,\n",
       " 2.606697474089891,\n",
       " 2.605601728034998,\n",
       " 2.6069921171874997,\n",
       " 2.6033960871829596,\n",
       " 2.606697474089891,\n",
       " 2.6094904213541668,\n",
       " 2.6078092568095417,\n",
       " 2.6069921171874997,\n",
       " 2.6069921171874997,\n",
       " 2.6078092568095417,\n",
       " 2.606697474089891,\n",
       " 2.6059148638091765,\n",
       " 2.605601728034998,\n",
       " 2.6059148638091765,\n",
       " 2.605601728034998,\n",
       " 2.6099111182291668,\n",
       " 2.6099111182291668,\n",
       " 2.6033960871829596,\n",
       " 2.6033960871829596,\n",
       " 2.6059148638091765,\n",
       " 2.6094904213541668,\n",
       " 2.6099111182291668,\n",
       " 2.6094904213541668,\n",
       " 2.6079232562500003,\n",
       " 2.6059148638091765,\n",
       " 2.609109240664549,\n",
       " 2.606697474089891,\n",
       " 2.606697474089891,\n",
       " 2.606697474089891,\n",
       " 2.606697474089891,\n",
       " 2.609109240664549,\n",
       " 2.6094904213541668,\n",
       " 2.6033960871829596,\n",
       " 2.609109240664549,\n",
       " 2.605601728034998,\n",
       " 2.6079232562500003,\n",
       " 2.609109240664549,\n",
       " 2.605601728034998,\n",
       " 2.609109240664549,\n",
       " 2.6079232562500003,\n",
       " 2.6078092568095417,\n",
       " 2.609109240664549,\n",
       " 2.6079232562500003,\n",
       " 2.6099111182291668,\n",
       " 2.6079232562500003,\n",
       " 2.605601728034998,\n",
       " 2.609109240664549,\n",
       " 2.6094904213541668,\n",
       " 2.6059148638091765,\n",
       " 2.6094904213541668,\n",
       " 2.6059148638091765,\n",
       " 2.609109240664549,\n",
       " 2.6079232562500003,\n",
       " 2.6033960871829596,\n",
       " 2.6099111182291668,\n",
       " 2.6094904213541668,\n",
       " 2.6099111182291668,\n",
       " 2.6078092568095417,\n",
       " 2.605601728034998,\n",
       " 2.606697474089891,\n",
       " 2.6079232562500003,\n",
       " 2.606697474089891,\n",
       " 2.6079232562500003,\n",
       " 2.606697474089891,\n",
       " 2.606697474089891,\n",
       " 2.605601728034998,\n",
       " 2.6069921171874997,\n",
       " 2.6078092568095417,\n",
       " 2.609109240664549,\n",
       " 2.6033960871829596,\n",
       " 2.605601728034998,\n",
       " 2.6079232562500003,\n",
       " 2.606697474089891,\n",
       " 2.6033960871829596,\n",
       " 2.6033960871829596,\n",
       " 2.6033960871829596,\n",
       " 2.609109240664549,\n",
       " 2.6079232562500003,\n",
       " 2.6099111182291668,\n",
       " 2.6079232562500003,\n",
       " 2.6099111182291668,\n",
       " 2.609109240664549,\n",
       " 2.6069921171874997,\n",
       " 2.6094904213541668,\n",
       " 2.606697474089891,\n",
       " 2.609109240664549,\n",
       " 2.6033960871829596,\n",
       " 2.605601728034998,\n",
       " 2.6033960871829596,\n",
       " 2.606697474089891,\n",
       " 2.6033960871829596,\n",
       " 2.6099111182291668,\n",
       " 2.6078092568095417,\n",
       " 2.6033960871829596,\n",
       " 2.605601728034998,\n",
       " 2.6033960871829596,\n",
       " 2.6079232562500003,\n",
       " 2.6078092568095417,\n",
       " 2.6099111182291668,\n",
       " 2.605601728034998,\n",
       " 2.606697474089891,\n",
       " 2.6069921171874997,\n",
       " 2.6094904213541668,\n",
       " 2.6094904213541668,\n",
       " 2.6069921171874997,\n",
       " 2.6059148638091765,\n",
       " 2.6033960871829596,\n",
       " 2.6033960871829596,\n",
       " 2.6094904213541668,\n",
       " 2.606697474089891,\n",
       " 2.6078092568095417,\n",
       " 2.6059148638091765,\n",
       " 2.6094904213541668,\n",
       " 2.605601728034998,\n",
       " 2.6078092568095417,\n",
       " 2.6069921171874997,\n",
       " 2.6033960871829596,\n",
       " 2.6078092568095417,\n",
       " 2.6094904213541668,\n",
       " 2.6059148638091765,\n",
       " 2.6078092568095417,\n",
       " 2.609109240664549,\n",
       " 2.6094904213541668,\n",
       " 2.605601728034998,\n",
       " 2.6099111182291668,\n",
       " 2.6094904213541668,\n",
       " 2.6059148638091765,\n",
       " 2.6033960871829596,\n",
       " 2.6059148638091765,\n",
       " 2.6078092568095417,\n",
       " 2.6099111182291668,\n",
       " 2.605601728034998,\n",
       " 2.6094904213541668,\n",
       " 2.6059148638091765,\n",
       " 2.6094904213541668,\n",
       " 2.6033960871829596,\n",
       " 2.6094904213541668,\n",
       " 2.606697474089891,\n",
       " 2.605601728034998,\n",
       " 2.6069921171874997,\n",
       " 2.6059148638091765,\n",
       " 2.6079232562500003,\n",
       " 2.6059148638091765,\n",
       " 2.6033960871829596,\n",
       " 2.6099111182291668,\n",
       " 2.6069921171874997,\n",
       " 2.6078092568095417,\n",
       " 2.6078092568095417,\n",
       " 2.6099111182291668,\n",
       " 2.6059148638091765,\n",
       " 2.6099111182291668,\n",
       " 2.6078092568095417,\n",
       " 2.6059148638091765,\n",
       " 2.605601728034998,\n",
       " 2.6033960871829596,\n",
       " 2.6069921171874997,\n",
       " 2.6069921171874997,\n",
       " 2.6079232562500003,\n",
       " 2.6069921171874997,\n",
       " 2.6099111182291668,\n",
       " 2.6078092568095417,\n",
       " 2.605601728034998,\n",
       " 2.6059148638091765,\n",
       " 2.6078092568095417,\n",
       " 2.6078092568095417,\n",
       " 2.606697474089891,\n",
       " 2.6069921171874997,\n",
       " 2.6094904213541668,\n",
       " 2.6079232562500003,\n",
       " 2.6079232562500003,\n",
       " 2.6099111182291668,\n",
       " 2.6069921171874997,\n",
       " 2.609109240664549,\n",
       " 2.6078092568095417,\n",
       " 2.609109240664549,\n",
       " 2.606697474089891,\n",
       " 2.605601728034998,\n",
       " 2.6069921171874997,\n",
       " 2.606697474089891,\n",
       " 2.609109240664549,\n",
       " 2.6094904213541668,\n",
       " 2.6094904213541668,\n",
       " 2.605601728034998,\n",
       " 2.6094904213541668,\n",
       " 2.6079232562500003,\n",
       " 2.6099111182291668,\n",
       " 2.6069921171874997,\n",
       " 2.6079232562500003,\n",
       " 2.606697474089891,\n",
       " 2.6078092568095417,\n",
       " 2.606697474089891,\n",
       " 2.6099111182291668,\n",
       " 2.6094904213541668,\n",
       " 2.6079232562500003,\n",
       " 2.6059148638091765,\n",
       " 2.6094904213541668,\n",
       " 2.6079232562500003,\n",
       " 2.6094904213541668,\n",
       " 2.606697474089891,\n",
       " 2.6094904213541668,\n",
       " 2.6079232562500003,\n",
       " 2.6099111182291668,\n",
       " 2.6033960871829596,\n",
       " 2.6033960871829596,\n",
       " 2.605601728034998,\n",
       " 2.609109240664549,\n",
       " 2.609109240664549,\n",
       " 2.6033960871829596,\n",
       " 2.6079232562500003,\n",
       " 2.6079232562500003,\n",
       " 2.6078092568095417,\n",
       " 2.6059148638091765,\n",
       " 2.6094904213541668,\n",
       " 2.6099111182291668,\n",
       " 2.6069921171874997,\n",
       " 2.6078092568095417,\n",
       " 2.6033960871829596,\n",
       " 2.6094904213541668,\n",
       " 2.609109240664549,\n",
       " 2.6078092568095417,\n",
       " 2.6079232562500003,\n",
       " 2.6059148638091765,\n",
       " 2.6069921171874997,\n",
       " 2.6099111182291668,\n",
       " 2.606697474089891,\n",
       " 2.6094904213541668,\n",
       " 2.6079232562500003,\n",
       " 2.606697474089891,\n",
       " 2.6069921171874997,\n",
       " 2.6069921171874997,\n",
       " 2.6033960871829596,\n",
       " 2.605601728034998,\n",
       " 2.6033960871829596,\n",
       " 2.6033960871829596,\n",
       " 2.609109240664549,\n",
       " 2.6033960871829596,\n",
       " 2.609109240664549,\n",
       " 2.605601728034998,\n",
       " 2.605601728034998,\n",
       " 2.6078092568095417,\n",
       " 2.6069921171874997,\n",
       " 2.6033960871829596,\n",
       " 2.605601728034998,\n",
       " 2.605601728034998,\n",
       " 2.6094904213541668,\n",
       " 2.6078092568095417,\n",
       " 2.6059148638091765,\n",
       " 2.6078092568095417,\n",
       " 2.6033960871829596,\n",
       " 2.6078092568095417,\n",
       " 2.606697474089891,\n",
       " 2.606697474089891,\n",
       " 2.605601728034998,\n",
       " 2.609109240664549,\n",
       " 2.6079232562500003,\n",
       " 2.6069921171874997,\n",
       " 2.606697474089891,\n",
       " 2.6099111182291668,\n",
       " 2.605601728034998,\n",
       " 2.6078092568095417,\n",
       " 2.6078092568095417,\n",
       " 2.605601728034998,\n",
       " 2.6078092568095417,\n",
       " 2.6069921171874997,\n",
       " 2.6059148638091765,\n",
       " 2.6094904213541668,\n",
       " 2.6059148638091765,\n",
       " 2.6069921171874997,\n",
       " 2.6078092568095417,\n",
       " 2.6099111182291668,\n",
       " 2.606697474089891,\n",
       " 2.606697474089891,\n",
       " 2.6059148638091765,\n",
       " 2.6099111182291668,\n",
       " 2.6069921171874997,\n",
       " 2.6069921171874997,\n",
       " 2.606697474089891,\n",
       " 2.6069921171874997,\n",
       " 2.605601728034998,\n",
       " 2.606697474089891,\n",
       " 2.609109240664549,\n",
       " 2.6099111182291668,\n",
       " 2.6079232562500003,\n",
       " 2.6078092568095417,\n",
       " 2.609109240664549,\n",
       " 2.605601728034998,\n",
       " 2.609109240664549,\n",
       " 2.6078092568095417,\n",
       " 2.609109240664549,\n",
       " 2.6059148638091765,\n",
       " 2.6078092568095417,\n",
       " 2.6078092568095417,\n",
       " 2.6079232562500003,\n",
       " 2.609109240664549,\n",
       " 2.6033960871829596,\n",
       " 2.609109240664549,\n",
       " 2.6099111182291668,\n",
       " 2.6079232562500003,\n",
       " 2.6059148638091765,\n",
       " 2.6099111182291668,\n",
       " 2.6094904213541668,\n",
       " 2.609109240664549,\n",
       " 2.6059148638091765,\n",
       " 2.6079232562500003,\n",
       " 2.6099111182291668,\n",
       " 2.6069921171874997,\n",
       " 2.6059148638091765,\n",
       " 2.6079232562500003,\n",
       " 2.605601728034998,\n",
       " 2.6099111182291668,\n",
       " 2.6078092568095417,\n",
       " 2.6099111182291668,\n",
       " 2.605601728034998,\n",
       " 2.6069921171874997,\n",
       " 2.6099111182291668,\n",
       " 2.6059148638091765,\n",
       " 2.6079232562500003,\n",
       " 2.605601728034998,\n",
       " 2.6094904213541668,\n",
       " 2.6079232562500003,\n",
       " 2.609109240664549,\n",
       " 2.6078092568095417,\n",
       " 2.606697474089891,\n",
       " 2.609109240664549,\n",
       " 2.6069921171874997,\n",
       " 2.6099111182291668,\n",
       " 2.6099111182291668,\n",
       " 2.6094904213541668,\n",
       " 2.606697474089891,\n",
       " 2.6094904213541668,\n",
       " 2.6078092568095417,\n",
       " 2.606697474089891,\n",
       " 2.6099111182291668,\n",
       " 2.6059148638091765,\n",
       " 2.6069921171874997,\n",
       " 2.605601728034998,\n",
       " 2.6078092568095417,\n",
       " 2.606697474089891,\n",
       " 2.605601728034998,\n",
       " 2.6059148638091765,\n",
       " 2.6069921171874997,\n",
       " 2.6069921171874997,\n",
       " 2.6078092568095417,\n",
       " 2.6099111182291668,\n",
       " 2.6099111182291668,\n",
       " 2.6094904213541668,\n",
       " 2.6099111182291668,\n",
       " 2.6033960871829596,\n",
       " 2.609109240664549,\n",
       " 2.605601728034998,\n",
       " 2.6094904213541668,\n",
       " 2.6094904213541668,\n",
       " 2.609109240664549,\n",
       " 2.6094904213541668,\n",
       " 2.6033960871829596,\n",
       " 2.6033960871829596,\n",
       " 2.6079232562500003,\n",
       " 2.6079232562500003,\n",
       " 2.6069921171874997,\n",
       " 2.6094904213541668,\n",
       " 2.6059148638091765,\n",
       " 2.6094904213541668,\n",
       " 2.6059148638091765,\n",
       " 2.609109240664549,\n",
       " 2.605601728034998,\n",
       " 2.6069921171874997,\n",
       " 2.6033960871829596,\n",
       " 2.6033960871829596,\n",
       " 2.609109240664549,\n",
       " 2.6069921171874997,\n",
       " 2.6094904213541668,\n",
       " 2.605601728034998,\n",
       " 2.605601728034998,\n",
       " 2.605601728034998,\n",
       " 2.605601728034998,\n",
       " 2.6069921171874997,\n",
       " 2.6069921171874997,\n",
       " 2.6078092568095417,\n",
       " 2.609109240664549,\n",
       " 2.6079232562500003,\n",
       " 2.6094904213541668,\n",
       " 2.609109240664549,\n",
       " 2.6033960871829596,\n",
       " 2.609109240664549,\n",
       " 2.6094904213541668,\n",
       " 2.6059148638091765,\n",
       " 2.609109240664549,\n",
       " 2.6033960871829596,\n",
       " 2.6099111182291668,\n",
       " 2.609109240664549,\n",
       " 2.606697474089891,\n",
       " 2.605601728034998,\n",
       " 2.606697474089891,\n",
       " 2.6078092568095417,\n",
       " 2.6069921171874997,\n",
       " 2.6079232562500003,\n",
       " 2.6078092568095417,\n",
       " 2.6079232562500003,\n",
       " 2.6033960871829596,\n",
       " 2.6033960871829596,\n",
       " 2.605601728034998,\n",
       " 2.609109240664549,\n",
       " 2.609109240664549,\n",
       " 2.6078092568095417,\n",
       " 2.606697474089891,\n",
       " 2.6079232562500003,\n",
       " 2.6069921171874997,\n",
       " 2.6094904213541668,\n",
       " 2.6079232562500003,\n",
       " 2.6033960871829596,\n",
       " 2.6094904213541668,\n",
       " 2.6033960871829596,\n",
       " 2.605601728034998,\n",
       " 2.6099111182291668,\n",
       " 2.6059148638091765,\n",
       " 2.6094904213541668,\n",
       " 2.6079232562500003,\n",
       " 2.605601728034998,\n",
       " 2.6079232562500003,\n",
       " 2.606697474089891,\n",
       " 2.6078092568095417,\n",
       " 2.606697474089891,\n",
       " 2.605601728034998,\n",
       " 2.6079232562500003,\n",
       " 2.609109240664549,\n",
       " 2.6069921171874997,\n",
       " 2.6099111182291668,\n",
       " 2.605601728034998,\n",
       " 2.6079232562500003,\n",
       " 2.606697474089891,\n",
       " 2.605601728034998,\n",
       " 2.6033960871829596,\n",
       " 2.6094904213541668,\n",
       " 2.6094904213541668,\n",
       " 2.6059148638091765,\n",
       " 2.6078092568095417,\n",
       " 2.6033960871829596,\n",
       " 2.6099111182291668,\n",
       " 2.6078092568095417,\n",
       " 2.6069921171874997,\n",
       " 2.605601728034998,\n",
       " 2.6078092568095417,\n",
       " 2.6078092568095417,\n",
       " 2.6033960871829596,\n",
       " 2.6078092568095417,\n",
       " 2.6079232562500003,\n",
       " 2.6099111182291668,\n",
       " 2.6059148638091765,\n",
       " 2.6078092568095417,\n",
       " 2.6099111182291668,\n",
       " 2.6033960871829596,\n",
       " 2.6069921171874997,\n",
       " 2.609109240664549,\n",
       " 2.609109240664549,\n",
       " 2.609109240664549,\n",
       " 2.606697474089891,\n",
       " 2.6069921171874997,\n",
       " 2.6078092568095417,\n",
       " 2.6099111182291668,\n",
       " 2.6069921171874997,\n",
       " 2.6069921171874997,\n",
       " 2.605601728034998,\n",
       " 2.6069921171874997,\n",
       " 2.6069921171874997,\n",
       " 2.6094904213541668,\n",
       " 2.6059148638091765,\n",
       " 2.6078092568095417,\n",
       " 2.6078092568095417,\n",
       " 2.6069921171874997,\n",
       " 2.606697474089891,\n",
       " 2.605601728034998,\n",
       " 2.6099111182291668,\n",
       " 2.6069921171874997,\n",
       " 2.6079232562500003,\n",
       " 2.6033960871829596,\n",
       " 2.6094904213541668,\n",
       " 2.6078092568095417,\n",
       " 2.6099111182291668,\n",
       " 2.605601728034998,\n",
       " 2.6094904213541668,\n",
       " 2.6033960871829596,\n",
       " 2.6099111182291668,\n",
       " 2.6059148638091765,\n",
       " 2.6069921171874997,\n",
       " 2.6099111182291668,\n",
       " 2.6094904213541668,\n",
       " 2.6099111182291668,\n",
       " 2.609109240664549,\n",
       " 2.6094904213541668,\n",
       " 2.6078092568095417,\n",
       " 2.6079232562500003,\n",
       " 2.6094904213541668,\n",
       " 2.6069921171874997,\n",
       " 2.6094904213541668,\n",
       " 2.6094904213541668,\n",
       " 2.605601728034998,\n",
       " 2.6059148638091765,\n",
       " 2.6033960871829596,\n",
       " 2.606697474089891,\n",
       " 2.6059148638091765,\n",
       " 2.6069921171874997,\n",
       " 2.609109240664549,\n",
       " 2.6099111182291668,\n",
       " 2.606697474089891,\n",
       " 2.6078092568095417,\n",
       " 2.6078092568095417,\n",
       " 2.605601728034998,\n",
       " 2.6033960871829596,\n",
       " 2.6033960871829596,\n",
       " 2.609109240664549,\n",
       " 2.6079232562500003,\n",
       " 2.6069921171874997,\n",
       " 2.6094904213541668,\n",
       " 2.6094904213541668,\n",
       " 2.605601728034998,\n",
       " 2.606697474089891,\n",
       " 2.6033960871829596,\n",
       " 2.609109240664549,\n",
       " 2.6079232562500003,\n",
       " 2.606697474089891,\n",
       " 2.6078092568095417,\n",
       " 2.6099111182291668,\n",
       " 2.6033960871829596,\n",
       " 2.6079232562500003,\n",
       " 2.6078092568095417,\n",
       " 2.6069921171874997,\n",
       " ...]"
      ]
     },
     "execution_count": 54,
     "metadata": {},
     "output_type": "execute_result"
    }
   ],
   "source": [
    "y_res"
   ]
  },
  {
   "cell_type": "code",
   "execution_count": 55,
   "metadata": {},
   "outputs": [
    {
     "data": {
      "text/plain": [
       "array([-0., -0., -0.,  0.,  0., -0., -0.,  0.,  0.,  0.,  0.,  0.,  0.,\n",
       "        0.,  0., -0.,  0.,  0., -0., -0., -0., -0.,  0.,  0.,  0., -0.,\n",
       "       -0.])"
      ]
     },
     "execution_count": 55,
     "metadata": {},
     "output_type": "execute_result"
    }
   ],
   "source": [
    "X_train, X_test, y_train, y_test = train_test_split(X, y, test_size=0.3, random_state=420)\n",
    "reg = clf.fit(X_train, y_train)\n",
    "reg.coef_"
   ]
  },
  {
   "cell_type": "markdown",
   "metadata": {
    "id": "2A63Lzw4WXaJ"
   },
   "source": [
    "# LM vo2_ml_kg_min\n"
   ]
  },
  {
   "cell_type": "markdown",
   "metadata": {
    "id": "1-HHirr5WaJl"
   },
   "source": [
    "**RReliafF feature selection for vo2_ml_kg_min**\n",
    "\n",
    "bodyfat                   --> 0.010269\n",
    "\n",
    "waist                     --> 0.013436\n",
    "\n",
    "fvc                       --> 0.017051\n",
    "\n",
    "fev1                      --> 0.017201\n",
    "\n",
    "weight Ib->kg             --> 0.025120\n",
    "\n",
    "BMI                       --> 0.027779\n",
    "\n",
    "height inch->cm           --> 0.032523\n",
    "\n",
    "resting_dbp               --> 0.036281\n",
    "\n",
    "resting_sbp               --> 0.041045\n",
    "\n",
    "ageattest                 --> 0.048465\n",
    "\n",
    "resting_hr                --> 0.050000"
   ]
  },
  {
   "cell_type": "code",
   "execution_count": 80,
   "metadata": {
    "executionInfo": {
     "elapsed": 1461,
     "status": "ok",
     "timestamp": 1607783531864,
     "user": {
      "displayName": "Larsen Cundric",
      "photoUrl": "https://lh3.googleusercontent.com/a-/AOh14GgzJB6nqoH0QtGNHOx7SrwdJIExEzonaTUk8Bg2_g=s64",
      "userId": "08098638247065522111"
     },
     "user_tz": -60
    },
    "id": "zPxKXw9_Wkag"
   },
   "outputs": [],
   "source": [
    "X = df[['waist', 'bodyfat', 'fvc', 'BMI', 'fev1', 'weight Ib->kg', 'height inch->cm', 'resting_dbp', 'resting_hr', 'resting_sbp', 'ageattest']]\n",
    "y = df['vo2_ml_kg_min']"
   ]
  },
  {
   "cell_type": "code",
   "execution_count": 81,
   "metadata": {
    "colab": {
     "base_uri": "https://localhost:8080/",
     "height": 204
    },
    "executionInfo": {
     "elapsed": 1194,
     "status": "ok",
     "timestamp": 1607783540289,
     "user": {
      "displayName": "Larsen Cundric",
      "photoUrl": "https://lh3.googleusercontent.com/a-/AOh14GgzJB6nqoH0QtGNHOx7SrwdJIExEzonaTUk8Bg2_g=s64",
      "userId": "08098638247065522111"
     },
     "user_tz": -60
    },
    "id": "0cqr7Y5TXb9h",
    "outputId": "968fc7f5-bce8-429a-e60e-de024925c10d"
   },
   "outputs": [
    {
     "data": {
      "text/html": [
       "<div>\n",
       "<style scoped>\n",
       "    .dataframe tbody tr th:only-of-type {\n",
       "        vertical-align: middle;\n",
       "    }\n",
       "\n",
       "    .dataframe tbody tr th {\n",
       "        vertical-align: top;\n",
       "    }\n",
       "\n",
       "    .dataframe thead th {\n",
       "        text-align: right;\n",
       "    }\n",
       "</style>\n",
       "<table border=\"1\" class=\"dataframe\">\n",
       "  <thead>\n",
       "    <tr style=\"text-align: right;\">\n",
       "      <th></th>\n",
       "      <th>waist</th>\n",
       "      <th>bodyfat</th>\n",
       "      <th>fvc</th>\n",
       "      <th>BMI</th>\n",
       "      <th>fev1</th>\n",
       "      <th>weight Ib-&gt;kg</th>\n",
       "      <th>height inch-&gt;cm</th>\n",
       "      <th>resting_dbp</th>\n",
       "      <th>resting_hr</th>\n",
       "      <th>resting_sbp</th>\n",
       "      <th>ageattest</th>\n",
       "    </tr>\n",
       "  </thead>\n",
       "  <tbody>\n",
       "    <tr>\n",
       "      <th>0</th>\n",
       "      <td>0.333921</td>\n",
       "      <td>0.150895</td>\n",
       "      <td>0.452555</td>\n",
       "      <td>0.218599</td>\n",
       "      <td>0.320819</td>\n",
       "      <td>0.268406</td>\n",
       "      <td>0.666821</td>\n",
       "      <td>0.525000</td>\n",
       "      <td>0.318182</td>\n",
       "      <td>0.381818</td>\n",
       "      <td>0.322812</td>\n",
       "    </tr>\n",
       "    <tr>\n",
       "      <th>1</th>\n",
       "      <td>0.385551</td>\n",
       "      <td>0.300159</td>\n",
       "      <td>0.416058</td>\n",
       "      <td>0.455874</td>\n",
       "      <td>0.462457</td>\n",
       "      <td>0.291403</td>\n",
       "      <td>0.254439</td>\n",
       "      <td>0.484375</td>\n",
       "      <td>0.456250</td>\n",
       "      <td>0.380273</td>\n",
       "      <td>0.509326</td>\n",
       "    </tr>\n",
       "    <tr>\n",
       "      <th>2</th>\n",
       "      <td>0.385551</td>\n",
       "      <td>0.537049</td>\n",
       "      <td>0.416058</td>\n",
       "      <td>0.393582</td>\n",
       "      <td>0.462457</td>\n",
       "      <td>0.216546</td>\n",
       "      <td>0.208275</td>\n",
       "      <td>0.484375</td>\n",
       "      <td>0.456250</td>\n",
       "      <td>0.380273</td>\n",
       "      <td>0.609756</td>\n",
       "    </tr>\n",
       "    <tr>\n",
       "      <th>3</th>\n",
       "      <td>0.409780</td>\n",
       "      <td>0.259484</td>\n",
       "      <td>0.416058</td>\n",
       "      <td>0.198994</td>\n",
       "      <td>0.462457</td>\n",
       "      <td>0.237614</td>\n",
       "      <td>0.647059</td>\n",
       "      <td>0.425000</td>\n",
       "      <td>0.409091</td>\n",
       "      <td>0.345455</td>\n",
       "      <td>0.552367</td>\n",
       "    </tr>\n",
       "    <tr>\n",
       "      <th>4</th>\n",
       "      <td>0.385551</td>\n",
       "      <td>0.300159</td>\n",
       "      <td>0.108029</td>\n",
       "      <td>0.140066</td>\n",
       "      <td>0.121160</td>\n",
       "      <td>0.016438</td>\n",
       "      <td>0.215686</td>\n",
       "      <td>0.275000</td>\n",
       "      <td>0.318182</td>\n",
       "      <td>0.409091</td>\n",
       "      <td>0.853659</td>\n",
       "    </tr>\n",
       "  </tbody>\n",
       "</table>\n",
       "</div>"
      ],
      "text/plain": [
       "      waist   bodyfat       fvc  ...  resting_hr  resting_sbp  ageattest\n",
       "0  0.333921  0.150895  0.452555  ...    0.318182     0.381818   0.322812\n",
       "1  0.385551  0.300159  0.416058  ...    0.456250     0.380273   0.509326\n",
       "2  0.385551  0.537049  0.416058  ...    0.456250     0.380273   0.609756\n",
       "3  0.409780  0.259484  0.416058  ...    0.409091     0.345455   0.552367\n",
       "4  0.385551  0.300159  0.108029  ...    0.318182     0.409091   0.853659\n",
       "\n",
       "[5 rows x 11 columns]"
      ]
     },
     "execution_count": 81,
     "metadata": {
      "tags": []
     },
     "output_type": "execute_result"
    }
   ],
   "source": [
    "X.head()"
   ]
  },
  {
   "cell_type": "code",
   "execution_count": 82,
   "metadata": {
    "colab": {
     "base_uri": "https://localhost:8080/"
    },
    "executionInfo": {
     "elapsed": 1273,
     "status": "ok",
     "timestamp": 1607783547307,
     "user": {
      "displayName": "Larsen Cundric",
      "photoUrl": "https://lh3.googleusercontent.com/a-/AOh14GgzJB6nqoH0QtGNHOx7SrwdJIExEzonaTUk8Bg2_g=s64",
      "userId": "08098638247065522111"
     },
     "user_tz": -60
    },
    "id": "fzS1vwg_XeFo",
    "outputId": "adb13b1b-cb63-4d8a-aada-25fb094e9039"
   },
   "outputs": [
    {
     "name": "stdout",
     "output_type": "stream",
     "text": [
      "[0.96660276 0.98503153 0.96996955 0.97852473 0.97506641]\n",
      "RRMSE: 0.98 (+/- 0.01)\n"
     ]
    }
   ],
   "source": [
    "X_train, X_test, y_train, y_test = train_test_split(X, y, test_size=0.3, random_state=420)\n",
    "\n",
    "# CV\n",
    "lm = LinearRegression()\n",
    "scores = cross_validate(lm, X_train, y_train, cv=5, \n",
    "                        scoring=('r2', 'neg_mean_squared_error'), return_train_score=True)\n",
    "print(1 - scores['test_r2'])\n",
    "# scores with 95% accuracy\n",
    "print(\"RRMSE: %0.2f (+/- %0.2f)\" % (1 - scores['test_r2'].mean(), scores['test_r2'].std() * 2))"
   ]
  },
  {
   "cell_type": "code",
   "execution_count": 83,
   "metadata": {
    "colab": {
     "base_uri": "https://localhost:8080/"
    },
    "executionInfo": {
     "elapsed": 1541,
     "status": "ok",
     "timestamp": 1607783554851,
     "user": {
      "displayName": "Larsen Cundric",
      "photoUrl": "https://lh3.googleusercontent.com/a-/AOh14GgzJB6nqoH0QtGNHOx7SrwdJIExEzonaTUk8Bg2_g=s64",
      "userId": "08098638247065522111"
     },
     "user_tz": -60
    },
    "id": "bjYUNxqsXfyD",
    "outputId": "fd14af81-1a2a-4e97-b83d-c609031eedef"
   },
   "outputs": [
    {
     "data": {
      "text/plain": [
       "array([  1.82850958,  -4.6705756 ,  -7.70157862,  17.9254313 ,\n",
       "        -4.29817968, -13.15803103,  10.48502586,   4.51515901,\n",
       "         6.81021611,  -1.88440833,  -5.92002292])"
      ]
     },
     "execution_count": 83,
     "metadata": {
      "tags": []
     },
     "output_type": "execute_result"
    }
   ],
   "source": [
    "reg = lm.fit(X_train, y_train)\n",
    "reg.coef_"
   ]
  },
  {
   "cell_type": "code",
   "execution_count": 84,
   "metadata": {
    "colab": {
     "base_uri": "https://localhost:8080/"
    },
    "executionInfo": {
     "elapsed": 1452,
     "status": "ok",
     "timestamp": 1607783567618,
     "user": {
      "displayName": "Larsen Cundric",
      "photoUrl": "https://lh3.googleusercontent.com/a-/AOh14GgzJB6nqoH0QtGNHOx7SrwdJIExEzonaTUk8Bg2_g=s64",
      "userId": "08098638247065522111"
     },
     "user_tz": -60
    },
    "id": "y4teTQulXhjr",
    "outputId": "543276fe-5280-459d-cbab-91e01cb07391"
   },
   "outputs": [
    {
     "name": "stdout",
     "output_type": "stream",
     "text": [
      "0.974304541018899\n"
     ]
    }
   ],
   "source": [
    "y_pred = reg.predict(X_test)\n",
    "RRMSE_vo2_l_min = 1 - r2_score(y_test, y_pred)\n",
    "print(RRMSE_vo2_l_min)"
   ]
  },
  {
   "cell_type": "code",
   "execution_count": 85,
   "metadata": {
    "colab": {
     "base_uri": "https://localhost:8080/",
     "height": 297
    },
    "executionInfo": {
     "elapsed": 1360,
     "status": "ok",
     "timestamp": 1607783575259,
     "user": {
      "displayName": "Larsen Cundric",
      "photoUrl": "https://lh3.googleusercontent.com/a-/AOh14GgzJB6nqoH0QtGNHOx7SrwdJIExEzonaTUk8Bg2_g=s64",
      "userId": "08098638247065522111"
     },
     "user_tz": -60
    },
    "id": "8Y5b-MYeXksn",
    "outputId": "8397fb91-3c5e-4aba-bed1-9af9272e7529"
   },
   "outputs": [
    {
     "data": {
      "text/plain": [
       "<matplotlib.axes._subplots.AxesSubplot at 0x7fae041826a0>"
      ]
     },
     "execution_count": 85,
     "metadata": {
      "tags": []
     },
     "output_type": "execute_result"
    },
    {
     "data": {
      "image/png": "[encoded data removed]",
      "text/plain": [
       "<Figure size 432x288 with 1 Axes>"
      ]
     },
     "metadata": {
      "needs_background": "light",
      "tags": []
     },
     "output_type": "display_data"
    }
   ],
   "source": [
    "# Scatter\n",
    "sns.scatterplot(x = y_test, y = y_pred)"
   ]
  },
  {
   "cell_type": "code",
   "execution_count": 86,
   "metadata": {
    "colab": {
     "base_uri": "https://localhost:8080/",
     "height": 297
    },
    "executionInfo": {
     "elapsed": 958,
     "status": "ok",
     "timestamp": 1607783581285,
     "user": {
      "displayName": "Larsen Cundric",
      "photoUrl": "https://lh3.googleusercontent.com/a-/AOh14GgzJB6nqoH0QtGNHOx7SrwdJIExEzonaTUk8Bg2_g=s64",
      "userId": "08098638247065522111"
     },
     "user_tz": -60
    },
    "id": "k1Nt2DQQXmlb",
    "outputId": "7416d368-bab4-48c0-bcc7-90811c3baa6c"
   },
   "outputs": [
    {
     "data": {
      "text/plain": [
       "<matplotlib.axes._subplots.AxesSubplot at 0x7fae04005470>"
      ]
     },
     "execution_count": 86,
     "metadata": {
      "tags": []
     },
     "output_type": "execute_result"
    },
    {
     "data": {
      "image/png": "[encoded data removed]",
      "text/plain": [
       "<Figure size 432x288 with 1 Axes>"
      ]
     },
     "metadata": {
      "needs_background": "light",
      "tags": []
     },
     "output_type": "display_data"
    }
   ],
   "source": [
    "# BLAND-ALTMAN plot\n",
    "sns.scatterplot(x=((y_pred + y_test) / 2), y=(y_test - y_pred))"
   ]
  },
  {
   "cell_type": "code",
   "execution_count": 40,
   "metadata": {
    "id": "pCv9QNvYXoJz"
   },
   "outputs": [],
   "source": [
    "from sklearn.ensemble import RandomForestRegressor\n",
    "from sklearn.datasets import make_regression"
   ]
  },
  {
   "cell_type": "code",
   "execution_count": 71,
   "metadata": {},
   "outputs": [
    {
     "name": "stdout",
     "output_type": "stream",
     "text": [
      "0.4207766650902891\n",
      "0.40525965317997636\n",
      "0.42348268203621175\n",
      "0.40584010510206936\n",
      "0.4277235066205408\n",
      "0.39044326256546213\n",
      "0.417323304519037\n",
      "0.4206223650176122\n",
      "0.4233803590253036\n",
      "0.4332341969790314\n",
      "------------------------------\n",
      "OVERALL RRMSE\n",
      "0.4165857036939675\n",
      "OVERALL RMSE\n",
      "13.151043250655091\n"
     ]
    },
    {
     "data": {
      "text/plain": [
       "<matplotlib.axes._subplots.AxesSubplot at 0x212f9ae4190>"
      ]
     },
     "execution_count": 71,
     "metadata": {},
     "output_type": "execute_result"
    },
    {
     "data": {
      "image/png": "[encoded data removed]",
      "text/plain": [
       "<Figure size 432x288 with 1 Axes>"
      ]
     },
     "metadata": {
      "needs_background": "light"
     },
     "output_type": "display_data"
    }
   ],
   "source": [
    "regr = RandomForestRegressor(n_estimators=250, max_depth=10, random_state=0)\n",
    "y = df['max_hr']\n",
    "\n",
    "res_vo2lmin = test_cv(regr, X, y, k=10)\n",
    "RRMSE_vo2lmin = 1 - r2_score(y, res_vo2lmin)\n",
    "print(\"------------------------------\")\n",
    "print(\"OVERALL RRMSE\")\n",
    "print(RRMSE_vo2lmin)\n",
    "print(\"OVERALL RMSE\")\n",
    "print(math.sqrt(mean_squared_error(y, res_vo2lmin)))\n",
    "\n",
    "y_res = list(chain.from_iterable(res_vo2lmin))\n",
    "\n",
    "sns.scatterplot(x=((y + y_res) / 2), y=(y - y_res))"
   ]
  },
  {
   "cell_type": "code",
   "execution_count": 39,
   "metadata": {},
   "outputs": [
    {
     "ename": "NameError",
     "evalue": "name 'RandomForestRegressor' is not defined",
     "output_type": "error",
     "traceback": [
      "\u001b[1;31m---------------------------------------------------------------------------\u001b[0m",
      "\u001b[1;31mNameError\u001b[0m                                 Traceback (most recent call last)",
      "\u001b[1;32m<ipython-input-39-39ea5725dd42>\u001b[0m in \u001b[0;36m<module>\u001b[1;34m\u001b[0m\n\u001b[1;32m----> 1\u001b[1;33m \u001b[0mregr\u001b[0m \u001b[1;33m=\u001b[0m \u001b[0mRandomForestRegressor\u001b[0m\u001b[1;33m(\u001b[0m\u001b[0mn_estimators\u001b[0m\u001b[1;33m=\u001b[0m\u001b[1;36m250\u001b[0m\u001b[1;33m,\u001b[0m \u001b[0mmax_depth\u001b[0m\u001b[1;33m=\u001b[0m\u001b[1;36m10\u001b[0m\u001b[1;33m,\u001b[0m \u001b[0mrandom_state\u001b[0m\u001b[1;33m=\u001b[0m\u001b[1;36m0\u001b[0m\u001b[1;33m)\u001b[0m\u001b[1;33m\u001b[0m\u001b[1;33m\u001b[0m\u001b[0m\n\u001b[0m\u001b[0;32m      2\u001b[0m \u001b[0my\u001b[0m \u001b[1;33m=\u001b[0m \u001b[0mdf\u001b[0m\u001b[1;33m[\u001b[0m\u001b[1;34m'vo2_ml_kg_min'\u001b[0m\u001b[1;33m]\u001b[0m\u001b[1;33m\u001b[0m\u001b[1;33m\u001b[0m\u001b[0m\n\u001b[0;32m      3\u001b[0m \u001b[1;33m\u001b[0m\u001b[0m\n\u001b[0;32m      4\u001b[0m \u001b[0mres_vo2lmin\u001b[0m \u001b[1;33m=\u001b[0m \u001b[0mtest_cv\u001b[0m\u001b[1;33m(\u001b[0m\u001b[0mregr\u001b[0m\u001b[1;33m,\u001b[0m \u001b[0mX\u001b[0m\u001b[1;33m,\u001b[0m \u001b[0my\u001b[0m\u001b[1;33m,\u001b[0m \u001b[0mk\u001b[0m\u001b[1;33m=\u001b[0m\u001b[1;36m10\u001b[0m\u001b[1;33m)\u001b[0m\u001b[1;33m\u001b[0m\u001b[1;33m\u001b[0m\u001b[0m\n\u001b[0;32m      5\u001b[0m \u001b[0mRRMSE_vo2lmin\u001b[0m \u001b[1;33m=\u001b[0m \u001b[1;36m1\u001b[0m \u001b[1;33m-\u001b[0m \u001b[0mr2_score\u001b[0m\u001b[1;33m(\u001b[0m\u001b[0my\u001b[0m\u001b[1;33m,\u001b[0m \u001b[0mres_vo2lmin\u001b[0m\u001b[1;33m)\u001b[0m\u001b[1;33m\u001b[0m\u001b[1;33m\u001b[0m\u001b[0m\n",
      "\u001b[1;31mNameError\u001b[0m: name 'RandomForestRegressor' is not defined"
     ]
    }
   ],
   "source": []
  },
  {
   "cell_type": "code",
   "execution_count": null,
   "metadata": {},
   "outputs": [],
   "source": []
  }
 ],
 "metadata": {
  "colab": {
   "authorship_tag": "ABX9TyO/FwBUvgf4+5Datmx9R9m5",
   "collapsed_sections": [],
   "name": "LinearRegression.ipynb",
   "provenance": []
  },
  "kernelspec": {
   "display_name": "Python 3",
   "language": "python",
   "name": "python3"
  },
  "language_info": {
   "codemirror_mode": {
    "name": "ipython",
    "version": 3
   },
   "file_extension": ".py",
   "mimetype": "text/x-python",
   "name": "python",
   "nbconvert_exporter": "python",
   "pygments_lexer": "ipython3",
   "version": "3.8.3"
  }
 },
 "nbformat": 4,
 "nbformat_minor": 1
}
